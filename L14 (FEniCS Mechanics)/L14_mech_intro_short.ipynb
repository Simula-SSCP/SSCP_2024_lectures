{
 "cells": [
  {
   "cell_type": "markdown",
   "metadata": {
    "slideshow": {
     "slide_type": "slide"
    }
   },
   "source": [
    "## <!-- dom:TITLE: Fundamental cardiac mechanics -->\n",
    "# Fundamental cardiac mechanics\n",
    "<!-- dom:AUTHOR: Joakim Sundnes -->\n",
    "<!-- Author: -->  \n",
    "**Joakim Sundnes**\n",
    "\n",
    "Date: **June 2024**\n",
    "\n",
    "* Introduce the foundation of non-linear solid mechanics\n",
    "\n",
    "  * Fundamental principles and methods\n",
    "\n",
    "  * Introduce the most important quantities\n",
    "\n",
    "\n",
    "* Show how the equations are adapted to heart tissue mechanics\n",
    "\n",
    "* Solve the tissue mechanics equations using Fenics"
   ]
  },
  {
   "cell_type": "markdown",
   "metadata": {
    "slideshow": {
     "slide_type": "slide"
    }
   },
   "source": [
    "## Goals for this intro lecture\n",
    "Dependent on background:\n",
    "  1. No background in continuum mechanics \n",
    "     * Get an understanding of the physical basis of the elasticity equation and other classical models\n",
    "  2. Familiar with continuum mechanics, no background in non-linear solid mechanics:\n",
    "      * Explain the key challenges and differences from small-deformation elasticity, introduce widely used stress and strain tensors, explain fundamental laws\n",
    "  3. Familiar with non-linear solid mechanics: \n",
    "      * Introduce material laws used for heart tissue"
   ]
  },
  {
   "cell_type": "markdown",
   "metadata": {
    "slideshow": {
     "slide_type": "slide"
    }
   },
   "source": [
    "## Suggested further reading\n",
    "* General biomechanics:\n",
    "  Y.C. Fung. Biomechanics: Mechanical Properties of Living Tissues\n",
    "\n",
    "* Non-linear solid mechanics:\n",
    "  G. A. Holzapfel: Nonlinear Solid Mechanics: A Continuum Approach for Engineering"
   ]
  },
  {
   "cell_type": "markdown",
   "metadata": {
    "slideshow": {
     "slide_type": "slide"
    }
   },
   "source": [
    "## Outline\n",
    "* From cell to tissue\n",
    "  * The continuum approach\n",
    "* Fundamentals of mechanics\n",
    "  * Strain\n",
    "  * Stress\n",
    "  * Fundamental equations\n",
    "* Modeling soft tissues\n",
    "  * Non-linear solid mechanics\n",
    "  * Material laws for the heart"
   ]
  },
  {
   "cell_type": "markdown",
   "metadata": {
    "slideshow": {
     "slide_type": "slide"
    }
   },
   "source": [
    "## From cell to tissue (1)\n",
    "We have seen how we can model the contraction of a single myocyte...\n",
    "\n",
    "\n",
    "<!-- dom:FIGURE:[./figs/myocyte.png,width=300 frac=0.4] -->\n",
    "<!-- begin figure -->\n",
    "\n",
    "<p></p>\n",
    "<img src=\"./figs/myocyte.png\" width=300>\n",
    "\n",
    "<!-- end figure -->\n",
    "\n",
    "\n",
    "<!-- dom:FIGURE:[./figs/F_SL_transients.png,width=500 frac=0.8] -->\n",
    "<!-- begin figure -->\n",
    "\n",
    "<p></p>\n",
    "<img src=\"./figs/F_SL_transients.png\" width=500>\n",
    "\n",
    "<!-- end figure -->"
   ]
  },
  {
   "cell_type": "markdown",
   "metadata": {
    "slideshow": {
     "slide_type": "slide"
    }
   },
   "source": [
    "## From cell to tissue (2)\n",
    "... but the\n",
    "heart contains  around 10 billion myocytes, embedded in a complex compound of\n",
    "proteins, fluids, other cells, etc.\n",
    "\n",
    "\n",
    "<!-- dom:FIGURE:[./figs/tissue_combined.png,width=500 frac=0.9] -->\n",
    "<!-- begin figure -->\n",
    "\n",
    "<p></p>\n",
    "<img src=\"./figs/tissue_combined.png\" width=500>\n",
    "\n",
    "<!-- end figure -->"
   ]
  },
  {
   "cell_type": "markdown",
   "metadata": {
    "slideshow": {
     "slide_type": "slide"
    }
   },
   "source": [
    "## The continuum approach\n",
    " * The tissue is viewed as continuous and homogeneous, neglecting the discrete, cell-based nature\n",
    "\n",
    " * Takes a macroscopic, top-down view of the tissue\n",
    "\n",
    " * The same approach is used for modeling other materials, neglecting the molecular/atomic structure\n",
    "\n",
    " * We can apply the standard tools of continuum mechanics, which have been developed over centuries"
   ]
  },
  {
   "cell_type": "markdown",
   "metadata": {
    "slideshow": {
     "slide_type": "slide"
    }
   },
   "source": [
    "## Solid mechanics \n",
    "\n",
    "In short, the field of solid mechanics has three main parts:\n",
    "* Kinematics; the description of motion and deformation of the material (i.e. strains)\n",
    "\n",
    "* Balance laws; fundamental equations based on balance of mass and momentum, or equilibrium of forces/stresses in the static case\n",
    "\n",
    "* Constitutive laws; experimentally derived laws that relate stresses to strains."
   ]
  },
  {
   "cell_type": "markdown",
   "metadata": {
    "slideshow": {
     "slide_type": "slide"
    }
   },
   "source": [
    "## Kinematics\n",
    "\n",
    "How do we quantify deformation/change of shape?\n",
    "* What is strain?\n",
    "\n",
    "* Important measures of strain and deformation in non-linear solid mechanics:\n",
    "\n",
    "  * The deformation gradient ($\\boldsymbol{F}$)\n",
    "\n",
    "  * The right Cauchy-Green tensor ($\\boldsymbol{C}$)\n",
    "\n",
    "  * The Green-Lagrange strain tensor ($\\boldsymbol{E}$)"
   ]
  },
  {
   "cell_type": "markdown",
   "metadata": {
    "slideshow": {
     "slide_type": "slide"
    }
   },
   "source": [
    "## Deformation and displacement (1)\n",
    "\n",
    "<!-- dom:FIGURE:[./figs/Lagrangian.png,width=300 frac=0.4] -->\n",
    "<!-- begin figure -->\n",
    "\n",
    "<p></p>\n",
    "<img src=\"./figs/Lagrangian.png\" width=500>\n",
    "\n",
    "<!-- end figure -->\n",
    "\n",
    "\n",
    "* The path of each particle: $\\boldsymbol{x}(\\boldsymbol{X},t)$\n",
    "\n",
    "* Initial position: $\\boldsymbol{x}(\\boldsymbol{X}, 0) = \\boldsymbol{X}$ (particle label)\n",
    "\n",
    "* Displacement field $\\boldsymbol{u}$:\n",
    "\n",
    "$$\n",
    "\\boldsymbol{u}(\\boldsymbol{X},t) = \\boldsymbol{x}(\\boldsymbol{X},t)-\\boldsymbol{X}\n",
    "$$"
   ]
  },
  {
   "cell_type": "markdown",
   "metadata": {
    "slideshow": {
     "slide_type": "slide"
    }
   },
   "source": [
    "## Deformation and displacement (2)\n",
    "\n",
    "* The displacement $\\boldsymbol{u}$ is often the primary unknown in solid mechanics\n",
    "\n",
    "* $\\boldsymbol{u}$ contains everything we need to know about the deformation;\n",
    "\n",
    "  * Change of shape (\"true\" deformation)\n",
    "\n",
    "  * Rigid body motion (rotation and translation)\n",
    "\n",
    "\n",
    "* We want to relate internal forces (stresses) to deformations\n",
    "\n",
    "    * Rigid body motion does not give rise to internal forces\n",
    "\n",
    "    * We need a measure of deformation that only contains *change of shape* (i.e., strain)"
   ]
  },
  {
   "cell_type": "markdown",
   "metadata": {
    "slideshow": {
     "slide_type": "slide"
    }
   },
   "source": [
    "## The deformation gradient\n",
    "\n",
    "We are interested in relative displacement between different points.\n",
    "It makes sense to take the derivative of the mapping:\n",
    "$$\n",
    "\\boldsymbol{F} = \\frac{\\partial{\\boldsymbol{x}}}{{\\partial \\boldsymbol{X}}} = \\nabla\\boldsymbol{x} = I + \\nabla\\boldsymbol{u}\n",
    "$$\n",
    "This is the *deformation gradient*, a fundamental quantity in nonlinear\n",
    "solid mechanics:\n",
    "\n",
    "* Maps between the *deformed* and *undeformed* configuration of the material\n",
    "\n",
    "* $\\boldsymbol{F}$ includes both rotation and change of shape:\n",
    "    * Rotation does not induce internal forces\n",
    "    * Not the best quantity to in material laws (stress-strain relations)"
   ]
  },
  {
   "cell_type": "markdown",
   "metadata": {
    "slideshow": {
     "slide_type": "slide"
    }
   },
   "source": [
    "## Three important measures of strain:\n",
    "* The *right Cauchy-Green tensor*:\n",
    "$$\\boldsymbol{C} = \\boldsymbol{F}^T\\boldsymbol{F}$$\n",
    "  Contains change of shape, no rotation (can be shown by using the polar decomposition theorem)\n",
    "* The Green-Lagrange strain tensor:\n",
    "$$\n",
    "\\boldsymbol{E} = \\frac{1}{2}(\\boldsymbol{C}-\\boldsymbol{I}) = \\frac{1}{2}(\\boldsymbol{F}^T\\boldsymbol{F}-\\boldsymbol{I})\n",
    "$$\n",
    "\n",
    "* The linear strain tensor, used for small deformations:\n",
    "$$ \n",
    "\\boldsymbol{\\varepsilon} = \\frac{1}{2}(\\nabla\\boldsymbol{u} + \\nabla\\boldsymbol{u}^T) \n",
    "$$\n",
    "* For small deformations $\\boldsymbol{\\varepsilon} \\approx \\boldsymbol{E}$"
   ]
  },
  {
   "cell_type": "markdown",
   "metadata": {
    "slideshow": {
     "slide_type": "slide"
    }
   },
   "source": [
    "## Brief summary:\n",
    "\n",
    "* The *displacement* $\\boldsymbol{u}(\\boldsymbol{X},t)$ describes the motion of every single point\n",
    "* Strain is a precise measure of *change of shape*\n",
    "* Key quantities:\n",
    "    * Deformation gradient $\\boldsymbol{F}$\n",
    "    * Right Cauchy-Green tensor $\\boldsymbol{C}$\n",
    "    * Green-Lagrange strain $\\boldsymbol{E}$\n",
    "* Next: \n",
    "    * __Cauchy's equation of motion__ (balance of momentum)\n"
   ]
  },
  {
   "cell_type": "markdown",
   "metadata": {
    "slideshow": {
     "slide_type": "slide"
    }
   },
   "source": [
    "## Conservation of momentum\n",
    "Newton's second law applied to a continuous and deforming material.\n",
    "\n",
    "$$\n",
    "\\sum F = ma (\\approx 0)\n",
    "$$\n",
    "\n",
    "* This force balance principle applies to *every* part of the material\n",
    "\n",
    "  * Consider an arbitrary piece of the continuum body, sum up the forces\n",
    "     to arrive at the balance law\n",
    "\n",
    "  * Two types of forces; **body forces** and **surface forces**"
   ]
  },
  {
   "cell_type": "markdown",
   "metadata": {
    "slideshow": {
     "slide_type": "slide"
    }
   },
   "source": [
    "## Body forces\n",
    "<!-- FIGURE:[figs/body_forces,width=400 frac=0.3] -->\n",
    "\n",
    "* Body forces $\\boldsymbol{b}$ are \"distant\" forces acting in each point of the body\n",
    "\n",
    "* Example: gravity $\\boldsymbol{b} = \\boldsymbol{g}$\n",
    "\n",
    "* Total force:\n",
    "\n",
    "$$\n",
    "\\boldsymbol{B} = \\int\\limits_{\\hbox{body}}\\varrho \\boldsymbol{b} dV\n",
    "$$"
   ]
  },
  {
   "cell_type": "markdown",
   "metadata": {
    "slideshow": {
     "slide_type": "slide"
    }
   },
   "source": [
    "## Surface forces (1)\n",
    "<!-- dom:FIGURE:[figs/surface_forces.png,width=400 frac=0.3] -->\n",
    "<!-- begin figure -->\n",
    "\n",
    "<p></p>\n",
    "<img src=\"figs/surface_forces.png\" width=400>\n",
    "\n",
    "<!-- end figure -->"
   ]
  },
  {
   "cell_type": "markdown",
   "metadata": {
    "slideshow": {
     "slide_type": "slide"
    }
   },
   "source": [
    "## Surface forces (2)\n",
    "\n",
    "* Distributed along the surface of a body or of an internal part of a body\n",
    "\n",
    "* Stress = force per unit area, $\\boldsymbol{s}(\\boldsymbol{x} ,t)$ (a vector)\n",
    "\n",
    "* Total force:\n",
    "\n",
    "$$\n",
    "\\boldsymbol{S}(\\boldsymbol{x},t) = \\int\\limits_{\\hbox{surface}} \\boldsymbol{s}(\\boldsymbol{x} ,t) dA\n",
    "$$"
   ]
  },
  {
   "cell_type": "markdown",
   "metadata": {
    "slideshow": {
     "slide_type": "slide"
    }
   },
   "source": [
    "## Surface forces (3)\n",
    "\n",
    "  * The stress vector depends on space, time and the orientation  (unit outward normal vector $\\boldsymbol{n}$) of     the surface on which the stress vector acts\n",
    "\n",
    "  * Cauchy's 1. law (Cauchy's stress theorem):\n",
    "\n",
    "$$\n",
    "\\boldsymbol{s} (\\boldsymbol{r},t;\\boldsymbol{n}) = \\boldsymbol{n}(\\boldsymbol{r},t)\\cdot\n",
    "\\boldsymbol{\\sigma}(\\boldsymbol{r},t)\n",
    "$$\n",
    "\n",
    "  \n",
    "\n",
    "  * The quantity $\\boldsymbol{\\sigma}$ or $\\sigma_{ij}$ in Cauchy's 1. law is called the stress tensor\n",
    "\n",
    "  * $\\boldsymbol{\\sigma}$ contains 9 entries:\n",
    "\n",
    "$$\n",
    "\\boldsymbol{\\sigma} = \\left(\\begin{array}{ccc} \\sigma_{xx} & \\sigma_{xy} & \\sigma_{xz}\\\\ \\sigma_{yx} & \\sigma_{yy} & \\sigma_{yz}\\\\ \\sigma_{zx} & \\sigma_{zy} & \\sigma_{zz}\n",
    "\\end{array}\\right)\n",
    "$$"
   ]
  },
  {
   "cell_type": "markdown",
   "metadata": {
    "slideshow": {
     "slide_type": "slide"
    }
   },
   "source": [
    "## Deriving the balance law - force equilibrium\n",
    "For an arbitrary volume $V$ inside a material, Newton’s 2nd law reads\n",
    "\n",
    "\n",
    "$$\n",
    "\\frac{d}{dt}\\int_V \\rho \\boldsymbol{v} dV = \\sum \\boldsymbol{f}\n",
    "$$\n",
    "\n",
    "\n",
    "where $\\rho$ is density, $\\boldsymbol{v}$ velocity, and $\\sum f$ is the\n",
    "total force: surface forces + body forces."
   ]
  },
  {
   "cell_type": "markdown",
   "metadata": {
    "slideshow": {
     "slide_type": "slide"
    }
   },
   "source": [
    "## Equilibrium of forces\n",
    "In solid mechanics, it is common to neglect inertia effects:\n",
    "\n",
    "\n",
    "$$\n",
    "\\rho \\boldsymbol{v} \\approx 0\n",
    "$$\n",
    "\n",
    "which reduces Newton's second law to a force equilibrium:\n",
    "$$\n",
    "\\sum \\boldsymbol{f} = 0\n",
    "$$"
   ]
  },
  {
   "cell_type": "markdown",
   "metadata": {
    "slideshow": {
     "slide_type": "slide"
    }
   },
   "source": [
    "## Two types of forces\n",
    "As noted earlier, two types of forces act on the material volume $V$:\n",
    "\n",
    "* Surface forces:\n",
    "  $$\n",
    "  \\int\\limits_{\\partial V} \\boldsymbol{\\sigma}\\cdot\\boldsymbol{n}dS\n",
    "  $$\n",
    "\n",
    "* Body forces (e.g. gravity):\n",
    "  $$\n",
    "  \\int\\limits_{V} \\varrho\\boldsymbol{b}dV\n",
    "  $$"
   ]
  },
  {
   "cell_type": "markdown",
   "metadata": {
    "slideshow": {
     "slide_type": "slide"
    }
   },
   "source": [
    "## Sum up the forces\n",
    "We have\n",
    "\n",
    "$$\n",
    "\\int\\limits_{\\partial V} \\boldsymbol{\\sigma}\\cdot\\boldsymbol{n}dS + \\int\\limits_{V} \\varrho\\boldsymbol{b}dV = 0\n",
    "$$\n",
    "\n",
    "Applying Gauss' theorem to the first term gives\n",
    "\n",
    "$$\n",
    "\\int\\limits_{V} \\nabla\\cdot\\boldsymbol{\\sigma} dV + \\int\\limits_{V} \\varrho\\boldsymbol{b}dV = 0\n",
    "$$"
   ]
  },
  {
   "cell_type": "markdown",
   "metadata": {
    "slideshow": {
     "slide_type": "slide"
    }
   },
   "source": [
    "## Cauchy's equation of motion\n",
    "Since the volume is arbitrary we must have\n",
    "\n",
    "$$\n",
    "\\nabla\\cdot\\boldsymbol{\\sigma} + \\varrho\\boldsymbol{b} = 0 .\n",
    "$$\n",
    "\n",
    "* This is the static (equilibrium) version of Cauchy's equation of motion.\n",
    "\n",
    "* In heart mechanics the effects of gravity are negligible, and we are left with\n",
    "\n",
    "$$\n",
    "\\nabla\\cdot\\boldsymbol{\\sigma} = 0\n",
    "$$"
   ]
  },
  {
   "cell_type": "markdown",
   "metadata": {
    "slideshow": {
     "slide_type": "slide"
    }
   },
   "source": [
    "## Comments on Cauchy's equation (1)\n",
    "* The equilibrium equation derived above is completely valid for all\n",
    "   materials in equilibrium\n",
    "\n",
    "* The same derivation is used in fluid mechanics, but in this\n",
    "  case the inertia must usually be considered (Navier-Stokes)\n",
    "\n",
    "* Inconvenient to use for large deformations, since Cauchy stress $\\boldsymbol{\\sigma}$ is defined relative to the deformed area, which is unknown\n",
    "\n",
    "* Differentiation (the divergence operator) is also performed relative to the deformed coordinates of the material, which are not known"
   ]
  },
  {
   "cell_type": "markdown",
   "metadata": {
    "slideshow": {
     "slide_type": "slide"
    }
   },
   "source": [
    "## Comments on Cauchy's equation (2)\n",
    "For large-deformation solid mechanics, a so-called Lagrangian approach is common:\n",
    "* Map all quantities and operations back to the undeformed geometry of the material\n",
    "\n",
    "* Introduce alternative stress tensors that are computed on the undeformed geometry"
   ]
  },
  {
   "cell_type": "markdown",
   "metadata": {
    "slideshow": {
     "slide_type": "slide"
    }
   },
   "source": [
    "## The Piola-Kirchoff stress tensors\n",
    "The first Piola-Kirchoff stress tensor\n",
    "\n",
    "$$\n",
    "\\boldsymbol{P} =  J \\boldsymbol{\\sigma} \\boldsymbol{F}^{-T}\n",
    "$$\n",
    "\n",
    "gives the actual force referred to the undeformed surface area.\n",
    "\n",
    "The second Piola-Kirchoff stress tensor\n",
    "\n",
    "$$\n",
    "\\boldsymbol{S} =  J\\boldsymbol{F}^{-1}\\boldsymbol{\\sigma} \\boldsymbol{F}^{-T}\n",
    "$$\n",
    "\n",
    "is derived by mapping the force back to the undeformed geometry.\n",
    "\n",
    "These stress tensors are only used as tools in computations. The\n",
    "relevant physical quantity is the Cauchy stress $\\sigma$."
   ]
  },
  {
   "cell_type": "markdown",
   "metadata": {
    "slideshow": {
     "slide_type": "slide"
    }
   },
   "source": [
    "## The equilibrium equation for large deformations\n",
    "In terms of the Piola-Kirchoff stresses, the equilibrium equation reads\n",
    "\n",
    "$$\n",
    "\\nabla \\cdot \\boldsymbol{P} = 0\n",
    "$$\n",
    "\n",
    "or\n",
    "\n",
    "$$\n",
    "\\nabla \\cdot \\boldsymbol{F}\\boldsymbol{S} = 0\n",
    "$$\n",
    "\n",
    "These are the versions we will use for modeling heart muscle mechanics."
   ]
  },
  {
   "cell_type": "markdown",
   "metadata": {
    "slideshow": {
     "slide_type": "slide"
    }
   },
   "source": [
    "## Constitutive equations\n",
    "\n",
    "* How are the internal forces in a material related to the\n",
    "  deformations?\n",
    "\n",
    "* How are *stresses* related to *strains*?"
   ]
  },
  {
   "cell_type": "markdown",
   "metadata": {
    "slideshow": {
     "slide_type": "slide"
    }
   },
   "source": [
    "## Hooke’s generalized law\n",
    "Elongation of a rod: Hooke’s experiments showed that\n",
    "$$\n",
    "\\frac{F}{A} = E\\frac{\\Delta L}{L}\n",
    "$$\n",
    "* Stress (force) is linearly related to strain (relative displacement)\n",
    "\n",
    "* The general form: \n",
    "$$\\sigma_{ij}=C_{ijkl}\\varepsilon_{kl}$$\n",
    "\n",
    "* $C_{ijkl}$ is a fourth-order tensor (81 components)\n",
    "  which describes the stiffness of the material\n",
    "  \n",
    "* Simplifies considerably for isotropic materials (equal properties in all directions):\n",
    "$$\\boldsymbol{\\sigma} = \\lambda \\; tr(\\boldsymbol{\\varepsilon}) I + 2 \\mu \\boldsymbol{\\varepsilon}$$\n",
    "$\\lambda, \\mu$ are material parameters. "
   ]
  },
  {
   "cell_type": "markdown",
   "metadata": {
    "slideshow": {
     "slide_type": "slide"
    }
   },
   "source": [
    "## Non-linear (hyper)elastic materials\n",
    "For materials undergoing large elastic deformations, the stress-strain\n",
    "relation is usually non-linear:\n",
    "<!-- dom:FIGURE:[figs/exponential.png,width=600 frac=0.7] -->\n",
    "<!-- begin figure -->\n",
    "\n",
    "<p></p>\n",
    "<img src=\"figs/exponential.png\" width=600>\n",
    "\n",
    "<!-- end figure -->"
   ]
  },
  {
   "cell_type": "markdown",
   "metadata": {
    "slideshow": {
     "slide_type": "slide"
    }
   },
   "source": [
    "## The strain energy function (1)\n",
    "* For all elastic (and hyperelastic) materials we can define a strain energy function $W$, which describes the \n",
    "  elastic energy stored in the material for a given deformation. (e.g., the energy stored in a spring)\n",
    " \n",
    "* The strain energy function is a compact and convenient way to formulate stress-strain relations in non-linear\n",
    "  materials. \n",
    "\n",
    "* The derivative of the strain energy gives the stress: \n",
    "$$\\sigma_{ij} = \\frac{\\partial W}{\\partial \\varepsilon_{ij}}$$\n",
    "\n",
    "* (Can also be utilized in the solution process, since the equilibrium problem can be formulated as a *minimization problem*, minimizing the stored elastic energy.) "
   ]
  },
  {
   "cell_type": "markdown",
   "metadata": {
    "slideshow": {
     "slide_type": "slide"
    }
   },
   "source": [
    "## The strain energy function (2)\n",
    "* For linear elasticity, the strain energy can be written as\n",
    "$$\n",
    "W(\\varepsilon) = \\frac{\\lambda}{2}(\\textrm{tr}(\\varepsilon))^2+\\mu\\textrm{tr}(\\varepsilon^2)\n",
    "$$\n",
    "* Differentiating wrt strain gives:\n",
    "$$\n",
    "\\sigma_{ij} = \\frac{\\partial W}{\\partial \\varepsilon_{ij}} = \\lambda \\; tr(\\boldsymbol{\\varepsilon}) I + 2 \\mu \\boldsymbol{\\varepsilon}$$"
   ]
  },
  {
   "cell_type": "markdown",
   "metadata": {
    "slideshow": {
     "slide_type": "slide"
    }
   },
   "source": [
    "## The strain energy function (3)\n",
    "The same principles apply for non-linear hyperelastic materials:\n",
    "* The derivative of $W$ with respect to the deformation gradient\n",
    "  gives the 1st Piola-Kirchoff stress\n",
    "  $$\n",
    "  P_{ij} = \\frac{\\partial W}{\\partial F_{ij}}\n",
    "  $$\n",
    "\n",
    "* The derivative of $W$ with respect to the Green-Lagrange strain\n",
    "  gives the 2nd Piola-Kirchoff stress\n",
    "  $$\n",
    "  S_{ij} = \\frac{\\partial W}{\\partial E_{ij}}\n",
    "  $$"
   ]
  },
  {
   "cell_type": "markdown",
   "metadata": {
    "slideshow": {
     "slide_type": "slide"
    }
   },
   "source": [
    "## Examples of strain energy functions (1)\n",
    "St. Venant-Kirchoff:\n",
    "$$\n",
    "W(E) = \\frac{\\lambda}{2}(\\textrm{tr}(E))^2+\\mu\\textrm{tr}(E^2)\n",
    "$$\n",
    "Neo-Hookean:\n",
    "$$\n",
    "W = \\frac{\\mu}{2}(tr(C)-3)-\\mu\\log J+\\frac{\\lambda}{2}(\\log J)^2\n",
    "$$\n",
    "where $C$ is the right Cauchy-Green tensor and $J = det(F)$. "
   ]
  },
  {
   "cell_type": "markdown",
   "metadata": {
    "slideshow": {
     "slide_type": "slide"
    }
   },
   "source": [
    "## Examples of strain energy functions (2)\n",
    "Orthotropic exponential model, Guccione et al (1995), 8 material parameters:\n",
    "$$\n",
    "W = \\frac{1}{2}K(e^{Q}-1) + C_{compr}(J \\ln J - J +1),\n",
    "$$\n",
    "with\n",
    "\n",
    "$$\n",
    "\\begin{align*}\n",
    "Q &= b_{ff}E_{ff}^2 + b_{ss}E_{ss}^2 +\n",
    "  b_{nn}E_{nn}^2 + b_{fs}(E_{fs}^2+E_{sf}^2) \\\\\n",
    "  & +b_{fn}(E_{fn}^2+E_{nf}^2)+\n",
    "  b_{ns}(E_{ns}^2+E_{sn}^2),\n",
    "\\end{align*}\n",
    "$$"
   ]
  },
  {
   "cell_type": "markdown",
   "metadata": {
    "slideshow": {
     "slide_type": "slide"
    }
   },
   "source": [
    "## Summary; complete large deformation elasticity problem\n",
    "Static problem with no body forces:\n",
    "\n",
    "$$\n",
    "\\begin{align*}\n",
    "-\\nabla\\cdot\\boldsymbol{P} & = 0 \\mbox{ in } \\Omega \\\\\n",
    "\\boldsymbol{u} & = \\boldsymbol{u}_0 \\mbox{ on } \\partial\\Omega_D \\\\\n",
    "\\boldsymbol{P}\\cdot \\boldsymbol{n} &= \\boldsymbol{T} \\mbox{ on } \\partial\\Omega_T \\\\\n",
    "\\end{align*}\n",
    "$$\n",
    "\n",
    "* $\\boldsymbol{u}$ is the displacement (primary unknown)\n",
    "\n",
    "* $\\boldsymbol{P} = \\partial W/\\partial\\boldsymbol{F}$ is the first Piola–Kirchoff stress tensor, where $W$ is the strain energy\n",
    "\n",
    "* $\\boldsymbol{u}_0$ is a given boundary displacement, $\\boldsymbol{T}$ is a given boundary traction (typically pressure)\n",
    "\n",
    "* Note that $\\Omega$ is the *undeformed* geometry, and differentiation ($\\nabla$)\n",
    "  is done with respect to the *undeformed* coordinates $\\boldsymbol{X}$"
   ]
  },
  {
   "cell_type": "markdown",
   "metadata": {
    "slideshow": {
     "slide_type": "slide"
    }
   },
   "source": [
    "## Comments on solution methods\n",
    "In the linear small-deformation case, we can insert the stress-strain\n",
    "relation to get a compact PDE for $\\boldsymbol{u}$. This is not possible for the non-linear case.\n",
    "* Solution procedure\n",
    "\n",
    "  * Define the relevant quantities and relationships one by one; $\\boldsymbol{F}, \\boldsymbol{C}, W$, etc.\n",
    "\n",
    "  * Formulate the weak form using these quantities\n",
    "  \n",
    "  * Rely on Fenics to do the algebra and generating the code"
   ]
  },
  {
   "cell_type": "markdown",
   "metadata": {
    "slideshow": {
     "slide_type": "skip"
    }
   },
   "source": [
    "## Deriving the weak form (1)\n",
    "* You have seen the basic steps of the finite element method,\n",
    "  introducing the weak form from a mathematical perspective\n",
    "\n",
    "* In solid mechanics, it is common to employ a physical\n",
    "  motivation;  *the principle of virtual work*\n",
    "\n",
    "* Recall that we solve for the displacement $\\boldsymbol{u}$;\n",
    "\n",
    "    * Galerkin method $\\Rightarrow$ test functions are taken from the\n",
    "      same space as the solutions\n",
    "\n",
    "    * Test functions may be interpreted as *virtual displacements*\n",
    "\n",
    "\n",
    "* The result is *exactly* the same as the finite element derivations you have\n",
    "  seen in earlier lectures. The only difference is the physical motivation."
   ]
  },
  {
   "cell_type": "markdown",
   "metadata": {
    "slideshow": {
     "slide_type": "skip"
    }
   },
   "source": [
    "## Deriving the weak form (2)\n",
    "The principle of virtual work:\n",
    "* We require that the total (virtual) work vanishes for all permissible choices of\n",
    "  virtual displacements $\\boldsymbol{v}$ (The notation $\\partial\\boldsymbol{u}$ is often used in the\n",
    "  literature. We use $\\boldsymbol{v}$ for simplicity.)\n",
    "\n",
    "* Or in mathematical terms\n",
    "  $$\n",
    "  \\partial W = \\int_{\\Omega}  (\\nabla\\cdot \\boldsymbol{P}) \\cdot \\boldsymbol{v} dV\n",
    "  -\\int_{\\partial\\Omega_T} \\boldsymbol{T}\\cdot\\boldsymbol{v}  dS= 0\n",
    "  $$\n",
    "  for all $\\boldsymbol{v}$ in a suitable function space $V$.\n",
    "\n",
    "* Integration by parts gives\n",
    "  $$\n",
    "  \\int_{\\Omega}(\\boldsymbol{P}:\\nabla \\boldsymbol{v})dV - \\int_{\\partial\n",
    "    \\Omega_T}\\boldsymbol{T}\\cdot \\boldsymbol{v} dS = 0\n",
    "  $$"
   ]
  },
  {
   "cell_type": "markdown",
   "metadata": {
    "slideshow": {
     "slide_type": "slide"
    }
   },
   "source": [
    "## Next: Apply the theory in simple test cases\n",
    "* Stretching a unit cube\n",
    "\n",
    "* A contracting cube\n",
    "\n",
    "* Inflating a simplified left ventricle"
   ]
  }
 ],
 "metadata": {
  "celltoolbar": "Slideshow",
  "kernelspec": {
   "display_name": "Python 3 (ipykernel)",
   "language": "python",
   "name": "python3"
  },
  "language_info": {
   "codemirror_mode": {
    "name": "ipython",
    "version": 3
   },
   "file_extension": ".py",
   "mimetype": "text/x-python",
   "name": "python",
   "nbconvert_exporter": "python",
   "pygments_lexer": "ipython3",
   "version": "3.9.7"
  }
 },
 "nbformat": 4,
 "nbformat_minor": 4
}
