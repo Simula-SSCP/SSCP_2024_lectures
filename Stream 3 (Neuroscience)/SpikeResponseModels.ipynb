{
 "cells": [
  {
   "cell_type": "markdown",
   "id": "84aa645f",
   "metadata": {
    "editable": true
   },
   "source": [
    "<!-- File automatically generated using DocOnce (https://github.com/doconce/doconce/):\n",
    "doconce format ipynb SpikeResponseModels.do.txt  -->\n",
    "\n",
    "## The Spike Response Model and GLMs\n",
    "\n",
    "**Recap.** In the last lecture, we introduced the Integrate and Fire Neuron model, an abstract dynamic model of the membrane potential.\n",
    "Despite their simplicity, Integrate and Fire models capture the essential function of neurons as signal processing units and exhibit nonlinear dynamic behaviour.\n",
    "To summarise, an Integrate and Fire model consists of a sub-threshold dynamic"
   ]
  },
  {
   "cell_type": "markdown",
   "id": "e1a84a2a",
   "metadata": {
    "editable": true
   },
   "source": [
    "$$\n",
    "\\begin{split}\n",
    "        \\tau_{m}\\, \\dot{v}(t) &= f(v) + R\\, I(t) \\\\\n",
    "        v(t = 0) &= v_{\\textrm{reset}}\n",
    "    \\end{split}\n",
    "$$"
   ]
  },
  {
   "cell_type": "markdown",
   "id": "25980ceb",
   "metadata": {
    "editable": true
   },
   "source": [
    "and a fire-and-reset rule:"
   ]
  },
  {
   "cell_type": "markdown",
   "id": "264199c9",
   "metadata": {
    "editable": true
   },
   "source": [
    "<!-- Equation labels as ordinary links -->\n",
    "<div id=\"eq:FireResetRule\"></div>\n",
    "\n",
    "$$\n",
    "\\begin{equation}\n",
    "    \\begin{split}\n",
    "        t^{f}: &\\quad v(t^{f}) &= v_{\\textrm{thresh}}\\,, \\quad \\dot{v}(t^{f}) > 0 \\\\\n",
    "        &v(t^{f} + \\tau_{\\textrm{abs}}) &= v_{\\textrm{reset}} \\quad \\textrm{.}\n",
    "    \\end{split}\n",
    "    \\label{eq:FireResetRule} \\tag{1}\n",
    "\\end{equation}\n",
    "$$"
   ]
  },
  {
   "cell_type": "markdown",
   "id": "630c1cc3",
   "metadata": {
    "editable": true
   },
   "source": [
    "Whenever the membrane potential reaches the threshold value $v_{\\textrm{thresh}}$, the neuron fires and resets after the absolute refractory period has passed $\\tau_{\\textrm{abs}}$.\n",
    "By this mechanism, the model produces a set of firing times $t^{f}$ as an output that can be summarised in form of a spike train"
   ]
  },
  {
   "cell_type": "markdown",
   "id": "2a70110d",
   "metadata": {
    "editable": true
   },
   "source": [
    "$$\n",
    "S(t) = \\sum_{t^{f}}\\, \\delta(t - t^{f}) \\quad \\textrm{.}\n",
    "$$"
   ]
  },
  {
   "cell_type": "markdown",
   "id": "19c84c05",
   "metadata": {
    "editable": true
   },
   "source": [
    "**A new perspective.** From the perspective of a signal processor, the Integrate and Fire Neuron receives the input current $I(t)$, processes it and outputs a spike train $S(t)$.\n",
    "However, due to the fire-and-reset rule, the internal state variable of the neuron's dynamic $v$ changes its state in response to each firing event.\n",
    "Consequently, there is a feedback of the neuron's output $S$ back into the system.\n",
    "This input-output relationship is summarised in [Figure 1](#fig:IONeuron).\n",
    "\n",
    "<!-- dom:FIGURE:[figures/IFNeuronFunctionalRelations.png, height=200, alt=\"Visual summary of input-output functional relations of a neuron\", frac=0.8] Input-Output diagram of an abstract point neuron. <div id=\"fig:IONeuron\"></div> -->\n",
    "<!-- begin figure -->\n",
    "<div id=\"fig:IONeuron\"></div>\n",
    "\n",
    "<img src=\"figures/IFNeuronFunctionalRelations.png\" height=\"200\" alt=\"Visual summary of input-output functional relations of a neuron\"><p style=\"font-size: 0.9em\"><i>Figure 1: Input-Output diagram of an abstract point neuron.</i></p>\n",
    "<!-- end figure -->\n",
    "\n",
    "For general stimuli, one can consider the potential $v(t)$ to be a functional of the external current $I(t)$ and the spike train $S(t)$.\n",
    "This allows us to expand the membrane potential into a Volterra series of the two"
   ]
  },
  {
   "cell_type": "markdown",
   "id": "8c5ed926",
   "metadata": {
    "editable": true
   },
   "source": [
    "$$\n",
    "\\begin{align*}\n",
    "    v(t) \\;=\\;& v_{\\textrm{reset}} + \\int_{-\\infty}^{\\pmb{t}} \\kappa_{1}(t - \\zeta)\\, I(\\zeta)\\, d\\zeta + \\int_{-\\infty}^{\\pmb{t}} \\eta_{1}(t - \\zeta)\\, S(\\zeta)\\, d\\zeta + \\\\\n",
    "    & + \\int_{-\\infty}^{\\pmb{t}} \\int_{-\\infty}^{\\pmb{t}} \\kappa_{2}(t - \\zeta_{1}, t - \\zeta_{2})\\, I(\\zeta_{1})\\, I(\\zeta_{2})\\, d\\zeta_{1}\\, d\\zeta_{2} + \\\\\n",
    "    & + \\int_{-\\infty}^{\\pmb{t}} \\int_{-\\infty}^{\\pmb{t}} \\eta_{2}(t - \\zeta_{1}, t - \\zeta_{2})\\, S(\\zeta_{1})\\, S(\\zeta_{2})\\, d\\zeta_{1}\\, d\\zeta_{2} + \\\\\n",
    "    & + \\dots \\quad \\textrm{.}\n",
    "\\end{align*}\n",
    "$$"
   ]
  },
  {
   "cell_type": "markdown",
   "id": "93823f50",
   "metadata": {
    "editable": true
   },
   "source": [
    "Each term in the volterra series consists of an $n$-dimensional convolution with the respective source function.\n",
    "Note that we do not calculate the full convolution, but that the integrals only extend up to the current time $t$.\n",
    "We do this to incorporate **causality**.\n",
    "In a causally acting system, we do not expect future signals $I(\\zeta > t)$, $S(\\zeta > t)$ to affect the present membrane potential $v(t)$.\n",
    "\n",
    "For relatively weak signals, we can neglect higher order terms which leaves us with only the linear response of the membrane potential"
   ]
  },
  {
   "cell_type": "markdown",
   "id": "eb0e4e13",
   "metadata": {
    "editable": true
   },
   "source": [
    "<!-- Equation labels as ordinary links -->\n",
    "<div id=\"eq:LinearResponse\"></div>\n",
    "\n",
    "$$\n",
    "v(t) \\;\\simeq\\; v_{\\textrm{reset}} + \\underbrace{\\int_{-\\infty}^{t} \\kappa_{1}(t - \\zeta)\\, I(\\zeta)\\, d\\zeta}_{\\textrm{Signal response}} + \\underbrace{\\int_{-\\infty}^{t} \\eta_{1}(t - \\zeta)\\, S(\\zeta)\\, d\\zeta}_{\\textrm{Spike response}}  \\quad \\textrm{.} \\label{eq:LinearResponse} \\tag{2}\n",
    "$$"
   ]
  },
  {
   "cell_type": "markdown",
   "id": "70e9574b",
   "metadata": {
    "editable": true
   },
   "source": [
    "This response is composed of two contributions: the neuron's response to external signals and its response to its own output.\n",
    "For arbitrary signals, Equation ([2](#eq:LinearResponse)) constitutes a linear approximation of the full non-linear dynamics.\n",
    "The field that deals with these kinds of linear functional models is often referred to as **Linear Response Theory**.\n",
    "\n",
    "With the Integrate and Fire neuron, the threshold must not necessarily be constant $v_{\\textrm{thresh}} = \\vartheta_{0}$, but could itself be a function of time $\\vartheta(t)$ which is the more general case.\n",
    "Therefore, the firing condition just needs some minor adjustments.\n",
    "As it is apparant in [Figure 2](#fig:DynThresh), exceeding the dynamic threshold not only requires reaching it $v = \\vartheta$, but also surpassing it with a larger slope $v^{\\prime}(t^{f}) > \\vartheta^{\\prime}(t^{f})$.\n",
    "That leaves us the following firing criterion.\n",
    "\n",
    "<!-- dom:FIGURE:[figures/DynamicThresholdFiringCondition.png, height=200, alt=\"Firing condition for dynamic threshold\", frac=0.8] Firing Condition taking dynamic thresholds into account. <div id=\"fig:DynThresh\"></div> -->\n",
    "<!-- begin figure -->\n",
    "<div id=\"fig:DynThresh\"></div>\n",
    "\n",
    "<img src=\"figures/DynamicThresholdFiringCondition.png\" height=\"200\" alt=\"Firing condition for dynamic threshold\"><p style=\"font-size: 0.9em\"><i>Figure 2: Firing Condition taking dynamic thresholds into account.</i></p>\n",
    "<!-- end figure -->"
   ]
  },
  {
   "cell_type": "markdown",
   "id": "b9c3b1c1",
   "metadata": {
    "editable": true
   },
   "source": [
    "<!-- Equation labels as ordinary links -->\n",
    "<div id=\"eq:FireRule\"></div>\n",
    "\n",
    "$$\n",
    "\\begin{equation}\n",
    "    \\begin{split}\n",
    "        t^{f}: \\quad &v(t^{f}) = \\vartheta(t^{f}) \\\\\n",
    "        & \\left. \\frac{d}{dt} \\left( v(t) - \\vartheta(t) \\right) \\right|_{t = t^{f}} > 0 \\quad \\textrm{.}\n",
    "    \\end{split}\n",
    "    \\label{eq:FireRule} \\tag{3}\n",
    "\\end{equation}\n",
    "$$"
   ]
  },
  {
   "cell_type": "markdown",
   "id": "1dccd836",
   "metadata": {
    "editable": true
   },
   "source": [
    "Note that the fire rule in Equation ([1](#eq:FireResetRule)) is implied by Equation ([3](#eq:FireRule)) in the limit case $\\vartheta(t) = \\textrm{constant} = v_{\\textrm{thresh}}$.\n",
    "In contrast to the previous formulation of the model, however, we save the explicit reset rule because it is a part of the model's spike response.\n",
    "\n",
    "**Spike Response Model with Spike Frequency Adaptation.** Integrate and Fire models usually implement spike frequency adaptation mechanisms by introducing separate adaptation variables.\n",
    "With each variable, however, we gain one additional differential equation that needs to be solved.\n",
    "In contrast to that, the spike response modelling framework offers a rather elegant way to incorporate adaptive dynamics.\n",
    "Allowing for dynamic thresholds, we can leverage this additional degree of freedom to implement spike adaptive behaviour such as an absolute refratory period or spike frequency adaptation.\n",
    "[Figure 3](#fig:ThreshAdapt) illustrates how these two mechanisms can be qualitatively realised with dynamic thresholds.\n",
    "\n",
    "<!-- dom:FIGURE:[figures/ThresholdAdaption.png, height=200, alt=\"Spike frequency adaption through threshold adaption\", frac=0.8] Threshold Adaption mechanisms: a) implementation of an absolute refractory period b) Spike Frequency Adaptation. <div id=\"fig:ThreshAdapt\"></div> -->\n",
    "<!-- begin figure -->\n",
    "<div id=\"fig:ThreshAdapt\"></div>\n",
    "\n",
    "<img src=\"figures/ThresholdAdaption.png\" height=\"200\" alt=\"Spike frequency adaption through threshold adaption\"><p style=\"font-size: 0.9em\"><i>Figure 3: Threshold Adaption mechanisms: a) implementation of an absolute refractory period b) Spike Frequency Adaptation.</i></p>\n",
    "<!-- end figure -->\n",
    "\n",
    "An absolute refractory period can be realised by suddenly increasing the threshold $\\vartheta$ in response to an occuring spike such that it becomes practically unreachable to the membrane voltage.\n",
    "Subsequent to this sudden rise, the threshold decays back to its quasi-static value $\\vartheta_{0}$ with time constant $\\tau_{\\textrm{abs}}$ as shown in [Figure 3](#fig:ThreshAdapt) a). \n",
    "This way, the system is practically hindered to fire after a spike just occured for a period of order $\\tau_{\\textrm{abs}}$.\n",
    "Spike frequency adaptation, on the other hand, can be realised by gradually increasing or decreasing the threshold in response to each spike.\n",
    "Thus, it becomes increasingly easier or respectively harder for the membrane voltage to reach the threshold which corresponds to a higher (lower) likelihood for spikes to occur after another.\n",
    "As a result, the frequency of the resulting spike train in- or decreases. \n",
    "[Figure 3](#fig:ThreshAdapt) b) illustrates the qualitative implementation of positive spike frequency adaptation using the threshold response.\n",
    "Because the threshold falls with each spike, the probabability of exceeding it increases which results in a higher spiking frequency in the output.\n",
    "In any of this cases, the dynamic threshold responds to the spike train $S(t)$. \n",
    "Similar to before, we can model the threshold's response using a linear expansion"
   ]
  },
  {
   "cell_type": "markdown",
   "id": "d7c4ace0",
   "metadata": {
    "editable": true
   },
   "source": [
    "$$\n",
    "\\vartheta(t) = \\vartheta_{0} + \\int_{-\\infty}^{t} \\vartheta_{1}(t - \\zeta)\\, S(\\zeta)\\, d\\zeta\n",
    "$$"
   ]
  },
  {
   "cell_type": "markdown",
   "id": "37cea34b",
   "metadata": {
    "editable": true
   },
   "source": [
    "which yields an additional equation. \n",
    "Notice that the firing condition in Equation ([3](#eq:FireRule)) does neither explicitely depend on the membrane voltage nor the threshold value, but only the difference $\\Xi$.\n",
    "Since equations contain linear Spike response terms, we summarise them as an effective response by introducing an effective kernel $\\eta_{1}^{\\textrm{eff}}$"
   ]
  },
  {
   "cell_type": "markdown",
   "id": "2f5f4e6d",
   "metadata": {
    "editable": true
   },
   "source": [
    "$$\n",
    "\\begin{align*}\n",
    "    \\Xi(t) &= v(t) - \\vartheta(t) \\\\\n",
    "    &= (v_{\\textrm{reset}} - \\vartheta_{\\textrm{0}}) + \\int_{-\\infty}^{t} \\kappa_{1}(t - \\zeta)\\, I(\\zeta)\\, d \\zeta +  \\int_{-\\infty}^{t} \\underbrace{\\left[ \\eta_{1}(t - \\zeta) - \\vartheta_{1}(t - \\zeta) \\right]}_{=: \\eta_{1}^{\\textrm{eff}}(t - \\zeta)} \\, S(\\zeta)\\, d \\zeta \\; \\textrm{.}\n",
    "\\end{align*}\n",
    "$$"
   ]
  },
  {
   "cell_type": "markdown",
   "id": "560b8758",
   "metadata": {
    "editable": true
   },
   "source": [
    "If we are not interested in the physiological details, we can use this effective description in terms of the difference variable $\\Xi$ which saves us one integral equation to solve.\n",
    "In turn, we can also interpret the original Spike Response Model to implicitely account for a dynamic threshold in its linear spike reponse, albeit maintaining a constant threshold in its mathematical description."
   ]
  },
  {
   "cell_type": "markdown",
   "id": "2c5542ab",
   "metadata": {
    "editable": true
   },
   "source": [
    "## Exercise 1: The LIF as a SRM\n",
    "\n",
    "So far, we have discussed how to transform the Integrate and Fire Neuron model, which is formulated using nonlinear Ordinary Differential Equations, into an approximate linear integral equation description.\n",
    "With that, the physiological details about the system are mathematically encoded in the response kernels $\\kappa_{1}$ and $\\eta_{1}^{\\textrm{eff}}$, but how do we know what they should look like?\n",
    "To answer this question, we will exemplarily formulate an SRM version of an Integrate and Fire model that we already got to know in the previous lectures: the **Leaky Integrate and Fire Neuron** (LIF).\n",
    "\n",
    "In its differential form, the LIF model reads"
   ]
  },
  {
   "cell_type": "markdown",
   "id": "4549621d",
   "metadata": {
    "editable": true
   },
   "source": [
    "$$\n",
    "\\begin{align*}\n",
    "    \\tau_{m}\\, \\dot{v}(t) &= v_{\\textrm{reset}} - v(t) + R\\, I(t)\\\\\n",
    "    v(t = 0) &= v_{\\textrm{reset}} \\quad \\textrm{.} \n",
    "\\end{align*}\n",
    "$$"
   ]
  },
  {
   "cell_type": "markdown",
   "id": "c3af8cd1",
   "metadata": {
    "editable": true
   },
   "source": [
    "We can formally solve this differential equation by integration.\n",
    "For the subthreshold initial value problem, we obtain the general solution"
   ]
  },
  {
   "cell_type": "markdown",
   "id": "56d011ab",
   "metadata": {
    "editable": true
   },
   "source": [
    "<!-- Equation labels as ordinary links -->\n",
    "<div id=\"eq:GenLIFSol\"></div>\n",
    "\n",
    "$$\n",
    "v(t) = v_{\\textrm{reset}} +  \\int_{0}^{t}\\, \\frac{R}{\\tau_{m}}\\, I(\\zeta)\\, e^{-\\frac{t - \\zeta}{\\tau_{m}}}\\, d \\zeta \\quad \\textrm{.}\n",
    "    \\label{eq:GenLIFSol} \\tag{4}\n",
    "$$"
   ]
  },
  {
   "cell_type": "markdown",
   "id": "3d8fec9d",
   "metadata": {
    "editable": true
   },
   "source": [
    "After the neuron fired, we get an additional ion current in the model that resets the membrane voltage to its reset value.\n",
    "In this simple LIF model, the current pulse is instanteneous. \n",
    "Since the membrane voltage is at $v_{\\textrm{thresh}}$ when the neuron fires, we expact that this pulse current $\\Delta^{f}$ is such that it resets the membrane voltage back to $v_{\\textrm{reset}}$ which yields"
   ]
  },
  {
   "cell_type": "markdown",
   "id": "19ec5368",
   "metadata": {
    "editable": true
   },
   "source": [
    "$$\n",
    "\\Delta^{f} = \\frac{\\tau_{m}}{R}\\, (v_{\\textrm{thresh}} - v_{\\textrm{reset}}) \\quad \\textrm{.}\n",
    "$$"
   ]
  },
  {
   "cell_type": "markdown",
   "id": "412e0b77",
   "metadata": {
    "editable": true
   },
   "source": [
    "Thus, we can incorporate the fire and reset mechanism into our solution by accounting for this additional input current.\n",
    "As a result,"
   ]
  },
  {
   "cell_type": "markdown",
   "id": "69922615",
   "metadata": {
    "editable": true
   },
   "source": [
    "<!-- Equation labels as ordinary links -->\n",
    "<div id=\"eq:FireResetCurr\"></div>\n",
    "\n",
    "$$\n",
    "\\begin{equation}\n",
    "    I(t) = I^{\\textrm{ext}}(t) + \\sum_{t^{f}}\\, \\Delta^{f}\\, \\delta(t - t^{f}) = I^{\\textrm{ext}}(t) + \\Delta^{f}\\, S(t)\n",
    "    \\label{eq:FireResetCurr} \\tag{5}\n",
    "\\end{equation}\n",
    "$$"
   ]
  },
  {
   "cell_type": "markdown",
   "id": "96d3f4ed",
   "metadata": {
    "editable": true
   },
   "source": [
    "the current consists of the external input current and the feedback current from the neuron's output spike train $S(t)$.\n",
    "Here, $\\delta(\\cdot)$ denotes the Dirac delta distribution function.\n",
    "Distributions can be considered generalised functions.\n",
    "If $\\delta(\\cdot)$ was a function, it had pathological properties.\n",
    "However, in the theory of distributions those properties can actually be consistently realised.\n",
    "The delta function has the following properties:"
   ]
  },
  {
   "cell_type": "markdown",
   "id": "333480d7",
   "metadata": {
    "editable": true
   },
   "source": [
    "$$\n",
    "\\begin{align*}\n",
    "    &\\int_{-\\infty}^{+\\infty} \\delta(t) \\, dt = 1 &\\textrm{normalised} \\\\\n",
    "    &\\int_{a}^{b} f(t)\\, \\delta(t - x) \\, dt = f(x) &,\\quad x \\in (a, b) \\\\\n",
    "    &\\int \\delta(t - x) \\, dt = \\Theta(t - x) &\\textrm{,}\n",
    "\\end{align*}\n",
    "$$"
   ]
  },
  {
   "cell_type": "markdown",
   "id": "e471b06d",
   "metadata": {
    "editable": true
   },
   "source": [
    "where $\\Theta(\\cdot)$ denotes the Heavyside step function"
   ]
  },
  {
   "cell_type": "markdown",
   "id": "d0aaa1e8",
   "metadata": {
    "editable": true
   },
   "source": [
    "$$\n",
    "\\Theta(x) = \\begin{cases}\n",
    "        0\\; \\forall x < 0 \\\\\n",
    "        1\\; \\forall x \\geq 0\n",
    "    \\end{cases} \\quad \\textrm{.}\n",
    "$$"
   ]
  },
  {
   "cell_type": "markdown",
   "id": "0ee4c225",
   "metadata": {
    "editable": true
   },
   "source": [
    "With Equation ([5](#eq:FireResetCurr)), we can rewrite Equation ([4](#eq:GenLIFSol)) as follows."
   ]
  },
  {
   "cell_type": "markdown",
   "id": "4ab0418e",
   "metadata": {
    "editable": true
   },
   "source": [
    "<!-- Equation labels as ordinary links -->\n",
    "<div id=\"eq:GenDrivenSolLIF\"></div>\n",
    "\n",
    "$$\n",
    "\\begin{equation}\n",
    "    v(t) = v_{\\textrm{reset}} + \n",
    "    \\int_{-\\infty}^{t}\\, \\frac{R}{\\tau_{m}}\\, e^{- \\frac{t - \\zeta}{\\tau_{m}}}\\, \\Theta(\\zeta)\\, I^{ext}(\\zeta)\\, d \\zeta + \n",
    "    \\int_{-\\infty}^{t}\\, (v_{\\textrm{thresh}} - v_{\\textrm{reset}})\\, e^{- \\frac{t - \\zeta}{\\tau_{m}}}\\, \\Theta(\\zeta) \\, S(\\zeta)\\, d \\zeta \n",
    "    \\label{eq:GenDrivenSolLIF} \\tag{6}\n",
    "\\end{equation}\n",
    "$$"
   ]
  },
  {
   "cell_type": "markdown",
   "id": "c3ec2f46",
   "metadata": {
    "editable": true
   },
   "source": [
    "<!-- Excercise 1 a) -->"
   ]
  },
  {
   "cell_type": "markdown",
   "id": "72ca5d47",
   "metadata": {
    "editable": true
   },
   "source": [
    "**a)**\n",
    "Identify $\\kappa_{1}$ and $\\eta_{1}^{\\textrm{eff}}$ in Equation ([6](#eq:GenDrivenSolLIF)).\n",
    "\n",
    "<!-- --- begin solution of exercise --- -->\n",
    "**Solution.**"
   ]
  },
  {
   "cell_type": "markdown",
   "id": "8ce5cb40",
   "metadata": {
    "editable": true
   },
   "source": [
    "$$\n",
    "\\begin{align*}\n",
    "    \\kappa_{1}(t, \\zeta) &= \\frac{R}{\\tau_{m}}\\, e^{- \\frac{t - \\zeta}{\\tau_{m}}}\\, \\Theta(\\zeta) \\\\\n",
    "    \\eta_{1}(t, \\zeta) &= (v_{\\textrm{thresh}} - v_{\\textrm{reset}})\\, e^{- \\frac{t - \\zeta}{\\tau_{m}}}\\, \\Theta(\\zeta)\n",
    "\\end{align*}\n",
    "$$"
   ]
  },
  {
   "cell_type": "markdown",
   "id": "46e40fa6",
   "metadata": {
    "editable": true
   },
   "source": [
    "<!-- --- end solution of exercise --- -->\n",
    "\n",
    "<!-- Excercise 1 b) -->"
   ]
  },
  {
   "cell_type": "markdown",
   "id": "399fb559",
   "metadata": {
    "editable": true
   },
   "source": [
    "**b)**\n",
    "The following code implements the Spike Response Model in Equation ([2](#eq:LinearResponse)) and ([1](#eq:FireResetRule))."
   ]
  },
  {
   "cell_type": "code",
   "execution_count": 1,
   "id": "85e4a5a5",
   "metadata": {
    "collapsed": false,
    "editable": true,
    "jupyter": {
     "outputs_hidden": false
    }
   },
   "outputs": [],
   "source": [
    "%matplotlib inline\n",
    "\n",
    "import numpy as np\n",
    "import matplotlib.pyplot as plt\n",
    "\n",
    "from SpikeResponseModelMethods import *\n",
    "\n",
    "plt.style.use(['seaborn-paper', \"./TextbookPlots.mplstyle\"])\n",
    "\n",
    "class SpikeResponseModel:\n",
    "    params = {\n",
    "        \"v_reset\": -70, #mV\n",
    "        \"v_thresh\": -50, #mV\n",
    "        \"tau_m\": 10, #ms\n",
    "    }\n",
    "    \n",
    "    def __init__(self, p: dict=params):\n",
    "        self.params = p\n",
    "        \n",
    "    def eta(self, t, s):\n",
    "        # linear response kernel\n",
    "        pass\n",
    "    \n",
    "    def kappa(self, t, s):\n",
    "        # effective spike response kernel\n",
    "        pass\n",
    "\n",
    "    def run(self, v0, T, dt, I_ext):\n",
    "        ts = np.linspace(0.0, T, num=int(T/dt))\n",
    "        v = np.zeros_like(ts)\n",
    "        S = np.zeros_like(ts)\n",
    "        \n",
    "        for i, t in enumerate(ts):\n",
    "            spike_response = np.sum(self.eta(t, ts[:i])*S[:i])\n",
    "            linear_response = np.sum(self.kappa(t, ts[:i])*I_ext(ts[:i])) * dt\n",
    "            v[i] = spike_response + linear_response + self.params[\"v_reset\"]\n",
    "\n",
    "            if v[i] >= self.params[\"v_thresh\"]:\n",
    "                S[i] = 1\n",
    "        \n",
    "        spike_times = ts[(S > 0.5)]\n",
    "        return ts, v, S, spike_times"
   ]
  },
  {
   "cell_type": "markdown",
   "id": "6026d265",
   "metadata": {
    "editable": true
   },
   "source": [
    "Here, we discretised the time interval $[0,\\, T]$ by a regular grid of time step $\\Delta t$ and used a simple forward Euler integration scheme for approximating the integrals numerically"
   ]
  },
  {
   "cell_type": "markdown",
   "id": "c3b1bc17",
   "metadata": {
    "editable": true
   },
   "source": [
    "<!-- Equation labels as ordinary links -->\n",
    "<div id=\"_auto1\"></div>\n",
    "\n",
    "$$\n",
    "\\begin{equation}\n",
    "    \\int_{-\\infty}^{t}\\, \\kappa_{1}(t, \\zeta) \\, I^{ext}(\\zeta)\\, d \\zeta \\simeq \\sum_{i = 0}^{T / \\Delta t - 1} \\kappa_{1}(t, t_{i})\\, I^{ext}(t_{i})\\, \\Delta t \\quad \\textrm{with} \\quad t_{i} \\; =\\; \\Delta t \\cdot i \\quad \\textrm{.}\n",
    "\\label{_auto1} \\tag{7}\n",
    "\\end{equation}\n",
    "$$"
   ]
  },
  {
   "cell_type": "markdown",
   "id": "bf325f3b",
   "metadata": {
    "editable": true
   },
   "source": [
    "Because the spike train $S$ contains $\\delta$ distributions, we have to be more carefull with the numerical approximation of that integral"
   ]
  },
  {
   "cell_type": "markdown",
   "id": "2c56f882",
   "metadata": {
    "editable": true
   },
   "source": [
    "$$\n",
    "\\begin{align*}\n",
    "    \\int_{0}^{t}\\, \\eta(t, \\zeta)\\, S(\\zeta)\\, d \\zeta &= \\sum_{t^{f}} \\int_{0}^{t}\\, \\eta(t, \\zeta)\\, \\delta(\\zeta - t^{f})\\, d \\zeta \\\\\n",
    "    &= \\sum_{t^{f}} \\eta(t, t^{f}) \\;=\\; \\sum_{i=0}^{T / \\Delta t - 1} \\eta(t, t_{i})\\, \\delta_{t_{i}, t^{f}} \\quad \\textrm{.}\n",
    "\\end{align*}\n",
    "$$"
   ]
  },
  {
   "cell_type": "markdown",
   "id": "0f32b4dd",
   "metadata": {
    "editable": true
   },
   "source": [
    "$\\delta_{i, j}$ refers to the Kronecker $\\delta$ for which"
   ]
  },
  {
   "cell_type": "markdown",
   "id": "9b407370",
   "metadata": {
    "editable": true
   },
   "source": [
    "<!-- Equation labels as ordinary links -->\n",
    "<div id=\"_auto2\"></div>\n",
    "\n",
    "$$\n",
    "\\begin{equation}\n",
    "    \\delta_{i, j} = \\begin{cases}\n",
    "        1, \\quad i = j \\\\\n",
    "        0, \\quad i \\neq j\n",
    "    \\end{cases} \\quad \\textrm{.}\n",
    "\\label{_auto2} \\tag{8}\n",
    "\\end{equation}\n",
    "$$"
   ]
  },
  {
   "cell_type": "markdown",
   "id": "f43db333",
   "metadata": {
    "editable": true
   },
   "source": [
    "Implement the Spike Response Model of the LIF by defining the linear response kernels $\\kappa_{1}$ and $\\eta_{1}$."
   ]
  },
  {
   "cell_type": "code",
   "execution_count": 2,
   "id": "90168c16",
   "metadata": {
    "collapsed": false,
    "editable": true,
    "jupyter": {
     "outputs_hidden": false
    }
   },
   "outputs": [],
   "source": [
    "# Leaky Integrate and Fire Model\n",
    "class LIFSRM(SpikeResponseModel):\n",
    "    def eta(self, t, s):\n",
    "        return ...\n",
    "        \n",
    "    def kappa(self, t, s):\n",
    "        return ..."
   ]
  },
  {
   "cell_type": "markdown",
   "id": "5e3b3d65",
   "metadata": {
    "editable": true
   },
   "source": [
    "Plot the kernels and interpret them biologically."
   ]
  },
  {
   "cell_type": "code",
   "execution_count": 3,
   "id": "df05d542",
   "metadata": {
    "collapsed": false,
    "editable": true,
    "jupyter": {
     "outputs_hidden": false
    }
   },
   "outputs": [],
   "source": [
    "parameters = {\n",
    "    \"v_reset\": -70, #mV\n",
    "    \"v_thresh\": -50, #mV\n",
    "    \"tau_m\": 10, #ms\n",
    "    \"R\": 100, #MOhm\n",
    "}\n",
    "\n",
    "lif_srm = LIFSRM(parameters)\n",
    "\n",
    "# plot the kernels\n",
    "t = np.linspace(0.0, 10.0, num=100)\n",
    "\n",
    "fig, (ax1, ax2) = plt.subplots(2, 1, sharex=True)\n",
    "ax1.plot(t, lif_srm.kappa(t, 0.0))\n",
    "ax1.set_ylabel(r\"$\\kappa(t)$\")\n",
    "ax2.plot(t, lif_srm.eta(t, 0.0))\n",
    "ax2.set_ylabel(r\"$\\eta(t)$\")\n",
    "ax2.set_xlabel(r\"$\\zeta$ [ms]\")\n",
    "plt.show()"
   ]
  },
  {
   "cell_type": "markdown",
   "id": "b771e5c8",
   "metadata": {
    "editable": true
   },
   "source": [
    "Run the simulation in which we drive the neuron by a constant external current of $0.8$ nA.\n",
    "The setup resembles Hodgkin and Huxley's experiment.\n",
    "Plot the results."
   ]
  },
  {
   "cell_type": "code",
   "execution_count": 4,
   "id": "bc0898f2",
   "metadata": {
    "collapsed": false,
    "editable": true,
    "jupyter": {
     "outputs_hidden": false
    }
   },
   "outputs": [],
   "source": [
    "I0 = .8 # nA\n",
    "I = lambda t: I0*np.ones_like(t)\n",
    "\n",
    "time, potential, spike_train, spike_times = lif_srm.run(0.0, 20.0, 0.01, I)\n",
    "plotResults(time, potential, spike_times, I, parameters)"
   ]
  },
  {
   "cell_type": "markdown",
   "id": "ec22f68f",
   "metadata": {
    "editable": true
   },
   "source": [
    "<!-- --- begin solution of exercise --- -->\n",
    "**Solution.**"
   ]
  },
  {
   "cell_type": "code",
   "execution_count": 5,
   "id": "887714fa",
   "metadata": {
    "collapsed": false,
    "editable": true,
    "jupyter": {
     "outputs_hidden": false
    }
   },
   "outputs": [],
   "source": [
    "class LIFSRM(SpikeResponseModel):\n",
    "    def eta(self, t, s):\n",
    "        return (s >= 0.0)*(self.params[\"v_reset\"] - self.params[\"v_thresh\"])*np.exp(- (t - s) / self.params[\"tau_m\"])\n",
    "        \n",
    "    def kappa(self, t, s):\n",
    "        return (s >= 0.0) * self.params[\"R\"] * np.exp(- (t - s) / self.params[\"tau_m\"]) / self.params[\"tau_m\"]"
   ]
  },
  {
   "cell_type": "markdown",
   "id": "9e422add",
   "metadata": {
    "editable": true
   },
   "source": [
    "**Interpretation.** The linear response kernel $\\kappa_{1}$ translates the momentary input current signal into the proportional effect on the membrane potential $v$.\n",
    "The Spike response kernel $\\eta_{1}$ captures the transient potential dynamics and constitutes the profile of the \"action potential\" that is triggered by the firing event.\n",
    "<!-- --- end solution of exercise --- -->\n",
    "\n",
    "<!-- Excercise 1 c) -->"
   ]
  },
  {
   "cell_type": "markdown",
   "id": "0713b044",
   "metadata": {
    "editable": true
   },
   "source": [
    "**c)**\n",
    "Using Brian2, implement the LIF and run the same experiment using the same parameter values.\n",
    "Plot your results and compare them to the previous simulation.\n",
    "\n",
    "<!-- --- begin solution of exercise --- -->\n",
    "**Solution.**"
   ]
  },
  {
   "cell_type": "code",
   "execution_count": 6,
   "id": "87f1f37f",
   "metadata": {
    "collapsed": false,
    "editable": true,
    "jupyter": {
     "outputs_hidden": false
    }
   },
   "outputs": [],
   "source": [
    "from brian2 import *\n",
    "\n",
    "start_scope()\n",
    "\n",
    "tau = 10*ms\n",
    "v_reset = -70 #mV\n",
    "v_thresh = -50 #mV\n",
    "v0 = v_reset\n",
    "eqs = '''\n",
    "dv/dt = (v0-v)/tau + R*I/tau : 1\n",
    "I : 1\n",
    "R : 1\n",
    "'''\n",
    "\n",
    "G = NeuronGroup(1, eqs, threshold='v > v_thresh', reset='v=v_reset', method='exact')\n",
    "M = StateMonitor(G, 'v', record=0)\n",
    "S = SpikeMonitor(G)\n",
    "\n",
    "# initial values\n",
    "G.v = v_reset\n",
    "G.I = .8 #nA\n",
    "G.R = 100 #MOhn\n",
    "\n",
    "run(20*ms)\n",
    "\n",
    "# translate constant current value into a constant function (callable)\n",
    "I = lambda t: G.I * np.ones_like(t)\n",
    "\n",
    "plotResults(M.t/ms, M.v[0], S.t/ms, I, parameters)"
   ]
  },
  {
   "cell_type": "markdown",
   "id": "5bd6e678",
   "metadata": {
    "editable": true
   },
   "source": [
    "<!-- --- end solution of exercise --- -->\n",
    "\n",
    "<!-- Excercise 1 d) -->"
   ]
  },
  {
   "cell_type": "markdown",
   "id": "643f4187",
   "metadata": {
    "editable": true
   },
   "source": [
    "**d)**\n",
    "Using your SRM LIF Neuron implementation, simulate an experiment in which you linearly increase the driving current"
   ]
  },
  {
   "cell_type": "markdown",
   "id": "1e9f46cc",
   "metadata": {
    "editable": true
   },
   "source": [
    "$$\n",
    "I^{\\textrm{ext}}(t) = 0.3 \\, I_{0}\\, t \\quad \\textrm{.}\n",
    "$$"
   ]
  },
  {
   "cell_type": "markdown",
   "id": "578b05ed",
   "metadata": {
    "editable": true
   },
   "source": [
    "How does the spike train respond to that, compared to your previous experiment?\n",
    "How does the firing rate (Spike Count per unit time) change with the increase in input current?\n",
    "\n",
    "<!-- --- begin solution of exercise --- -->\n",
    "**Solution.**"
   ]
  },
  {
   "cell_type": "code",
   "execution_count": 7,
   "id": "be883332",
   "metadata": {
    "collapsed": false,
    "editable": true,
    "jupyter": {
     "outputs_hidden": false
    }
   },
   "outputs": [],
   "source": [
    "parameters = {\n",
    "    \"v_reset\": -70, #mV\n",
    "    \"v_thresh\": -50, #mV\n",
    "    \"tau_m\": 10, #ms\n",
    "    \"R\": 100, #MOhm\n",
    "}\n",
    "\n",
    "lif_srm = LIFSRM(parameters)\n",
    "# input current\n",
    "I0 = .8 # nA\n",
    "I = lambda t: 0.3*I0*t\n",
    "\n",
    "time, potential, spike_train, spike_times = lif_srm.run(0.0, 20.0, 0.01, I)\n",
    "plotResults(time, potential, spike_times, I, parameters)"
   ]
  },
  {
   "cell_type": "markdown",
   "id": "6d42d6ee",
   "metadata": {
    "editable": true
   },
   "source": [
    "The higher the driving current, the faster the neuron spikes.\n",
    "In consequence, the firing rate increases with an increase in input current.\n",
    "<!-- --- end solution of exercise --- -->\n",
    "\n",
    "<!-- Excercise 1 e) -->"
   ]
  },
  {
   "cell_type": "markdown",
   "id": "bb27dffe",
   "metadata": {
    "editable": true
   },
   "source": [
    "**e)**\n",
    "Using your SRM LIF Neuron implementation, simulate an experiment in which you modulate the amplitude of a mean background current of $1.5$ nA with a $0.2$ kHz harmonic signal"
   ]
  },
  {
   "cell_type": "markdown",
   "id": "21e1e500",
   "metadata": {
    "editable": true
   },
   "source": [
    "$$\n",
    "I^{\\textrm{ext}}(t) = 1.5 \\, \\textrm{nA} + 1.4\\, \\textrm{nA} \\, \\cos \\left( 2\\, \\pi\\; 0.2\\, \\textrm{kHz} \\; t \\right) \\quad \\textrm{.}\n",
    "$$"
   ]
  },
  {
   "cell_type": "markdown",
   "id": "719158b8",
   "metadata": {
    "editable": true
   },
   "source": [
    "How does the firing rate respond to the changes in input current?\n",
    "\n",
    "<!-- --- begin solution of exercise --- -->\n",
    "**Solution.**"
   ]
  },
  {
   "cell_type": "code",
   "execution_count": 8,
   "id": "b6453b70",
   "metadata": {
    "collapsed": false,
    "editable": true,
    "jupyter": {
     "outputs_hidden": false
    }
   },
   "outputs": [],
   "source": [
    "parameters = {\n",
    "    \"v_reset\": -70, #mV\n",
    "    \"v_thresh\": -50, #mV\n",
    "    \"tau_m\": 10, #ms\n",
    "    \"R\": 100, #MOhm\n",
    "}\n",
    "\n",
    "lif_srm = LIFSRM(parameters)\n",
    "# input current\n",
    "I0 = .8 # nA\n",
    "f = 0.2 #kHz\n",
    "I = lambda t: 1.5 + 1.4*np.cos(2*np.pi*f*t)\n",
    "\n",
    "time, potential, spike_train, spike_times = lif_srm.run(0.0, 20.0, 0.01, I)\n",
    "plotResults(time, potential, spike_times, I, parameters)"
   ]
  },
  {
   "cell_type": "markdown",
   "id": "54384dcd",
   "metadata": {
    "editable": true
   },
   "source": [
    "The firing rate follows the modulation in the driving current.\n",
    "That is true as long as the current's frequency is smaller relative to the firing frequency of the model.\n",
    "<!-- --- end solution of exercise --- -->"
   ]
  },
  {
   "cell_type": "markdown",
   "id": "c042a9c4",
   "metadata": {
    "editable": true
   },
   "source": [
    "## From SRMs to Generalised Linear Models (GLMs)\n",
    "\n",
    "**Sources of Noise in a Neuron.** There is a variety of sources of noise that a neuron is subject to and affect its behaviour.\n",
    "For one thing, it experiences random fluctuations which are caused by\n",
    "* channel noise\n",
    "\n",
    "* unrelieable synapses\n",
    "\n",
    "* quasi-random input from other cells\n",
    "\n",
    ". Channel noise is caused by the sheer amount of individual ion channel units that are present in a neuron.\n",
    "The cooperation of so many individual units inevitably causes stochasticity.\n",
    "In addition, unreliably working synapses cause variability in synaptic amplitude, transmission rate and spontenous, \n",
    "unintentional release of neurotransmitter that can cause the false initiation of a signal at the receiving end of the synaptic terminal.\n",
    "All of those processes cause fluctuations in the neuron's ion currents.\n",
    "These fluctuations can be approximated by additive white Gaussian noise in the current model"
   ]
  },
  {
   "cell_type": "markdown",
   "id": "8e32a1e5",
   "metadata": {
    "editable": true
   },
   "source": [
    "<!-- Equation labels as ordinary links -->\n",
    "<div id=\"eq:SpontaneousNoiseAnsatz\"></div>\n",
    "\n",
    "$$\n",
    "\\begin{equation}\n",
    "    \\begin{split}\n",
    "        I(t) &= \\mu(t) + \\sqrt{2\\, D_{r}}\\, \\xi_{r}(t) \\quad \\textrm{where} \\\\\n",
    "        \\langle \\xi_{r}(t) \\rangle &= 0 \\\\\n",
    "        \\langle \\xi_{r}(t)\\, \\xi_{r}(t^{\\prime}) \\rangle &= \\delta(t - t^{\\prime}) \\quad \\textrm{.}\n",
    "    \\end{split}\n",
    "    \\label{eq:SpontaneousNoiseAnsatz} \\tag{9}\n",
    "\\end{equation}\n",
    "$$"
   ]
  },
  {
   "cell_type": "markdown",
   "id": "f2573594",
   "metadata": {
    "editable": true
   },
   "source": [
    "With this additive model, we can separate the current $I$ into a deterministic mean component and a noise term that carries all the variance $2\\,D_{r}$.\n",
    "Thus, $D$ denotes a parameter that controls the intensity of the fluctuations.\n",
    "The angled brackets refer to the physicist's notation for the expectation value.\n",
    "In the computationally neuroscientific literature, it is more common to use this compared with the mathematician's notation.\n",
    "However, they are completely semantically equivalent to each other such that $\\langle \\cdot \\rangle = \\mathbb{E} \\left[ \\cdot \\right]$.\n",
    "\n",
    "In addition to the spontaneous fluctuations, arriving external signals $I^{ext}$ may carry fluctuations that originated in previous processes with them, but translate down to the neuron we are considering here.\n",
    "Approximately, we can follow the same Ansatz as before"
   ]
  },
  {
   "cell_type": "markdown",
   "id": "85825700",
   "metadata": {
    "editable": true
   },
   "source": [
    "<!-- Equation labels as ordinary links -->\n",
    "<div id=\"eq:SignalAnsatz\"></div>\n",
    "\n",
    "$$\n",
    "\\begin{equation}\n",
    "    \\begin{split}\n",
    "        I(t) &= s(t) + \\sqrt{2\\, D_{s}}\\, \\xi_{s}(t) \\quad \\textrm{where} \\\\\n",
    "        \\langle \\xi_{s}(t) \\rangle &= 0 \\\\\n",
    "        \\langle \\xi_{s}(t)\\, \\xi_{s}(t^{\\prime}) \\rangle &= \\delta(t - t^{\\prime}) \\quad \\textrm{.}\n",
    "    \\end{split}\n",
    "    \\label{eq:SignalAnsatz} \\tag{10}\n",
    "\\end{equation}\n",
    "$$"
   ]
  },
  {
   "cell_type": "markdown",
   "id": "b10df30c",
   "metadata": {
    "editable": true
   },
   "source": [
    "In total, we get"
   ]
  },
  {
   "cell_type": "markdown",
   "id": "02d0a922",
   "metadata": {
    "editable": true
   },
   "source": [
    "<!-- Equation labels as ordinary links -->\n",
    "<div id=\"eq:SepInpCurr\"></div>\n",
    "\n",
    "$$\n",
    "I(t) = \\mu(t) + s(t) + \\underbrace{\\sqrt{ 2\\, D_{r}}\\, \\xi_{r}(t) +  \\sqrt{2\\, D_{s}}\\, \\xi_{s}(t)}_{=\\sqrt{2\\, D}\\, \\xi(t)} \\quad \\textrm{.}\n",
    "    \\label{eq:SepInpCurr} \\tag{11}\n",
    "$$"
   ]
  },
  {
   "cell_type": "markdown",
   "id": "cd27386f",
   "metadata": {
    "editable": true
   },
   "source": [
    "At each point in time $t$, $\\xi_{r}(t)$ and $\\xi_{s}(t)$ are Gaussian random variables.\n",
    "Because the addition of two Gaussian random variables results in another Gaussian variable, we can represent the sum of both noise components by another additive Gaussian noise source $\\xi$.\n",
    "With that, the variances sum"
   ]
  },
  {
   "cell_type": "markdown",
   "id": "c10da7bf",
   "metadata": {
    "editable": true
   },
   "source": [
    "$$\n",
    "D = D_{r} + D_{s} \\quad \\textrm{.}\n",
    "$$"
   ]
  },
  {
   "cell_type": "markdown",
   "id": "3c4d3e99",
   "metadata": {
    "editable": true
   },
   "source": [
    "The stochastic current model transforms the subthreshold ODE into a Stochatistic Differential Equation (SDE)"
   ]
  },
  {
   "cell_type": "markdown",
   "id": "0b2654d1",
   "metadata": {
    "editable": true
   },
   "source": [
    "<!-- Equation labels as ordinary links -->\n",
    "<div id=\"eq:SDE\"></div>\n",
    "\n",
    "$$\n",
    "\\begin{equation}\n",
    "    \\begin{split}\n",
    "        \\tau_{m} \\dot{v}(t) &= f(v) + R\\, I^{\\textrm{det}}(t) + R\\, \\sqrt{2\\, D}\\, \\xi(t) \\\\\n",
    "        \\langle \\xi(t) \\rangle &= 0 \\\\\n",
    "        \\langle \\xi(t)\\, \\xi(t^{\\prime}) \\rangle &= \\delta(t - t^{\\prime})\n",
    "    \\end{split}\n",
    "    \\label{eq:SDE} \\tag{12}\n",
    "\\end{equation}\n",
    "$$"
   ]
  },
  {
   "cell_type": "markdown",
   "id": "fa3db2eb",
   "metadata": {
    "editable": true
   },
   "source": [
    "with $I^{\\textrm{det}}(t) = \\mu(t) + s(t)$.\n",
    "\n",
    "**Escape Noise.** To study how an Integrate and Fire Neuron model reacts to spontaneous fluctuations and noise, \n",
    "Equation ([12](#eq:SDE)) can be solved using tools from stochastic calculus.\n",
    "However, as this would go beyond the scope of this excercise based lecture, we are going to take another approximate approach.\n",
    "For this, we will use our intuition that we strenghtened in the recent excercise.\n",
    "As we have seen, fluctutations in the input current $I$ will, in turn, cause fluctuations in the membran potential $v$ and affect the spike train statistics down the line.\n",
    "One of the most important of these statistics is the neuron's firing rate, which we already have encountered in Excercise 1 d-e).\n",
    "Let us recall what we mean by that.\n",
    "\n",
    "The firing rate is defined as the average number of spikes per unit time within a given time interval in the limit of small intervals"
   ]
  },
  {
   "cell_type": "markdown",
   "id": "26d47281",
   "metadata": {
    "editable": true
   },
   "source": [
    "<!-- Equation labels as ordinary links -->\n",
    "<div id=\"eq:FiringRate\"></div>\n",
    "\n",
    "$$\n",
    "\\begin{equation}\n",
    "    r(t) = \\lim_{\\Delta t \\rightarrow 0} \\frac{\\int_{t}^{t+T} S(t^{\\prime})\\, dt^{\\prime}}{\\Delta t} \\quad \\textrm{.}\n",
    "    \\label{eq:FiringRate} \\tag{13}\n",
    "\\end{equation}\n",
    "$$"
   ]
  },
  {
   "cell_type": "markdown",
   "id": "aba8dd6d",
   "metadata": {
    "editable": true
   },
   "source": [
    "For an ergodic system, it does not matter whether we average over the time domain or the stochastic ensemble. \n",
    "Thus,"
   ]
  },
  {
   "cell_type": "markdown",
   "id": "3e5a2403",
   "metadata": {
    "editable": true
   },
   "source": [
    "<!-- Equation labels as ordinary links -->\n",
    "<div id=\"eq:FiringRateErgodic\"></div>\n",
    "\n",
    "$$\n",
    "\\begin{equation}\n",
    "    r(t) = \\langle S(t) \\rangle\n",
    "    \\label{eq:FiringRateErgodic} \\tag{14}\n",
    "\\end{equation}\n",
    "$$"
   ]
  },
  {
   "cell_type": "markdown",
   "id": "d012c902",
   "metadata": {
    "editable": true
   },
   "source": [
    "as long as our process is ergodic.\n",
    "All processes that we study possess that property.\n",
    "\n",
    "As in Equation ([11](#eq:SepInpCurr)), we seperate our input current into a deterministic component $I^{\\textrm{det}}$ and a stochastic one.\n",
    "The mean dynamics of the membrane potential will approximately be described by an SRM that is driven by the deterministic\n",
    "component of the external input current $I^{\\textrm{ext}}_{\\textrm{det}}$, see [Figure 4](#fig:SRMRate).\n",
    "In addition to that, fluctuations in $I^{\\textrm{ext}}$ cause fluctuations in $v$.\n",
    "Consequently, each realisation of the stochastic neuron in an ensemble will reach the threshold sooner or later which causes fluctuations in the individual spike times.\n",
    "In a stochastic process, each realisation can exhibit extreme outlier bahviour.\n",
    "As opposed to this, statistical measures account for the behaviour of the entire ensemble and provide a better understanding of the underlying system.\n",
    "For this reason, we are going to take look at how one can approximate the mean spiking rate of an ensemble of stochastic Integrate and Fire Neurons based on the mean SRM estimate.\n",
    "\n",
    "<!-- dom:FIGURE:[figures/SRMRate.png, height=200, alt=\"Kramer's escape rate theory\", frac=0.8] Example of an SRM model state. The membrane potential $v$ is approximately described by the response model. The spontaneous firing rate at any time point $t$ is then a function of the potential gap between $v(t)$ and the momentary threshold $\\vartheta(t)$. <div id=\"fig:SRMRate\"></div> -->\n",
    "<!-- begin figure -->\n",
    "<div id=\"fig:SRMRate\"></div>\n",
    "\n",
    "<img src=\"figures/SRMRate.png\" height=\"200\" alt=\"Kramer's escape rate theory\"><p style=\"font-size: 0.9em\"><i>Figure 4: Example of an SRM model state. The membrane potential $v$ is approximately described by the response model. The spontaneous firing rate at any time point $t$ is then a function of the potential gap between $v(t)$ and the momentary threshold $\\vartheta(t)$.</i></p>\n",
    "<!-- end figure -->\n",
    "\n",
    "Let us assume, we have estimated the mean membrane potential $v(t)$ at time $t$ based on the deterministic component of the external input current using an SRM.\n",
    "In order for one realisation to fire, it has to bridge the potential barrier $\\vartheta - v(t)$. \n",
    "This setting approximately resembles that of the Kramer's rate.\n",
    "Let us consider a point particle that experiences the external mechanical potential $U(x)$ in the overdamped limit, for example consider the particle being submerged within a viscous fluid.\n",
    "In this case, we know that this particle is described by the following Langevin equation"
   ]
  },
  {
   "cell_type": "markdown",
   "id": "aa7dba59",
   "metadata": {
    "editable": true
   },
   "source": [
    "$$\n",
    "\\gamma \\dot{x} = - \\partial_{x} U(x) + \\sqrt{2\\, D}\\, \\xi(t) \\quad \\textrm{.}\n",
    "$$"
   ]
  },
  {
   "cell_type": "markdown",
   "id": "206ccb30",
   "metadata": {
    "editable": true
   },
   "source": [
    "The profile of the potential $U(x)$ is as shown in [Figure 5](#fig:KramerRate).\n",
    "If the ensemble system resides in a stationary state around the potential minimum $x = a$, the Kramer's rate of particles escaping over the finite potential barrier at $x=b$ is"
   ]
  },
  {
   "cell_type": "markdown",
   "id": "a9ca8d73",
   "metadata": {
    "editable": true
   },
   "source": [
    "<!-- Equation labels as ordinary links -->\n",
    "<div id=\"eq:KramersRate\"></div>\n",
    "\n",
    "$$\n",
    "\\begin{equation}\n",
    "    r(t) \\propto \\sqrt{U^{\\prime \\prime}(a) \\left| U^{\\prime \\prime}(b) \\right|}\\, e^{- \\frac{\\Delta U}{k\\, T}} \\quad \\textrm{where} \\quad \\gamma\\, D = k\\, T \\quad \\textrm{.}\n",
    "    \\label{eq:KramersRate} \\tag{15}\n",
    "\\end{equation}\n",
    "$$"
   ]
  },
  {
   "cell_type": "markdown",
   "id": "3bf29153",
   "metadata": {
    "editable": true
   },
   "source": [
    "In contrast to the Kramer's rate setting, however, our system is not necessarily located in an equilibrium state.\n",
    "Nevertheless,"
   ]
  },
  {
   "cell_type": "markdown",
   "id": "96d5288b",
   "metadata": {
    "editable": true
   },
   "source": [
    "<!-- Equation labels as ordinary links -->\n",
    "<div id=\"eq:ArrheniusLaw\"></div>\n",
    "\n",
    "$$\n",
    "\\begin{equation}\n",
    "    r(t) \\propto e^{- \\frac{\\Delta U}{k\\, T}} \n",
    "    \\label{eq:ArrheniusLaw} \\tag{16}\n",
    "\\end{equation}\n",
    "$$"
   ]
  },
  {
   "cell_type": "markdown",
   "id": "d0fa5930",
   "metadata": {
    "editable": true
   },
   "source": [
    "is a good approximation for escape rates over finite potential barriers in general.\n",
    "In physical chemistry, Equation ([16](#eq:ArrheniusLaw)) is called the Arrhenius law.\n",
    "\n",
    "<!-- dom:FIGURE:[figures/KramersRate.png, height=200, alt=\"Kramer's escape rate theory\", frac=0.8] Kramer's escape rate over a finite barrier $\\Delta U$. <div id=\"fig:KramerRate\"></div> -->\n",
    "<!-- begin figure -->\n",
    "<div id=\"fig:KramerRate\"></div>\n",
    "\n",
    "<img src=\"figures/KramersRate.png\" height=\"200\" alt=\"Kramer's escape rate theory\"><p style=\"font-size: 0.9em\"><i>Figure 5: Kramer's escape rate over a finite barrier $\\Delta U$.</i></p>\n",
    "<!-- end figure -->\n",
    "\n",
    "Based on Equation ([16](#eq:ArrheniusLaw)), we make an Ansatz"
   ]
  },
  {
   "cell_type": "markdown",
   "id": "b1255458",
   "metadata": {
    "editable": true
   },
   "source": [
    "<!-- Equation labels as ordinary links -->\n",
    "<div id=\"eq:RateAnsatz\"></div>\n",
    "\n",
    "$$\n",
    "\\begin{equation}\n",
    "    r(t) = \\frac{1}{\\tau_{0}}\\, e^{- \\beta\\, \\left( v_{\\textrm{thresh}} - v(t) \\right)} \\quad \\textrm{.}\n",
    "    \\label{eq:RateAnsatz} \\tag{17}\n",
    "\\end{equation}\n",
    "$$"
   ]
  },
  {
   "cell_type": "markdown",
   "id": "f66a81a2",
   "metadata": {
    "editable": true
   },
   "source": [
    "The physiological parameters of the model $\\tau_{0}$ and $\\beta$ need to be determined either experimentally or by analytically deriving them from the Integrate and Fire model.\n",
    "\n",
    "**Summary.**\n",
    "\n",
    "The Integrate and Fire model"
   ]
  },
  {
   "cell_type": "markdown",
   "id": "6be152d8",
   "metadata": {
    "editable": true
   },
   "source": [
    "<!-- Equation labels as ordinary links -->\n",
    "<div id=\"eq:StochIFModel\"></div>\n",
    "\n",
    "$$\n",
    "\\begin{equation}\n",
    "    \\dot{v} = f(v) + I^{det}(t) + \\sqrt{2\\, D}\\, \\xi(t)\n",
    "    \\label{eq:StochIFModel} \\tag{18}\n",
    "\\end{equation}\n",
    "$$"
   ]
  },
  {
   "cell_type": "markdown",
   "id": "165fbbd5",
   "metadata": {
    "editable": true
   },
   "source": [
    "can be represented by the Spike Response Model"
   ]
  },
  {
   "cell_type": "markdown",
   "id": "d61cd1e3",
   "metadata": {
    "editable": true
   },
   "source": [
    "<!-- Equation labels as ordinary links -->\n",
    "<div id=\"eq:StochSRM\"></div>\n",
    "\n",
    "$$\n",
    "\\begin{equation}\n",
    "    \\begin{split}\n",
    "        \\Xi(t) &= \\left( v_{\\textrm{reset}} - \\vartheta_{0} \\right) + \n",
    "        \\int_{-\\infty}^{t} \\kappa_{1}(t - \\zeta)\\, I^{det}(\\zeta)\\, d \\zeta + \n",
    "        \\int_{-\\infty}^{t} \\eta^{\\textrm{eff}}_{1}(t - \\zeta)\\, S(\\zeta)\\, d \\zeta \\\\\n",
    "        r(t) &= \\frac{1}{\\tau_{0}} \\, e^{\\frac{\\Xi(t)}{\\tau_{m}\\, D}}\n",
    "    \\end{split}\n",
    "    \\label{eq:StochSRM} \\tag{19}\n",
    "\\end{equation}\n",
    "$$"
   ]
  },
  {
   "cell_type": "markdown",
   "id": "f90fcf80",
   "metadata": {
    "editable": true
   },
   "source": [
    "which describes the mean firing rate of the ensemble.\n",
    "\n",
    "The Stochastic Firing Rate Spike Response Model in Equation ([19](#eq:StochSRM)) is formally equivalent to **Generalised Linear Models (GLM)** which is one type of statistical model.\n",
    "This insight is quite benecial, because it allows us to use the entire toolbox that the theory of GLMs developed.\n",
    "In particular, this allows one to adopt all inference methods to estimate the model's parameters from neural data.\n",
    "Because of that, the SRM formulation is particularly interesting for phenomenological studies.\n",
    "\n",
    "**Warning.**\n",
    "\n",
    "The Firing Rate Spike Response Model is **not exact!**\n",
    "Compared with the non-linear Integrate and Fire model, it only accounts for\n",
    "* Linear response\n",
    "\n",
    "* Stationary mean firing rate.\n",
    "\n",
    "Therefore, it only yields an approximate description of the underlying dynamics.\n",
    "\n",
    "For theoretically rigorous derivations, we require tools from stochastic calculus such as \n",
    "* the Stochastic Integral and its interpretations (Itô, Hengii-Klimantovich, Stratonovich)\n",
    "\n",
    "* Fokker-Planck equation\n",
    "\n",
    "and harmonic spectral analysis to controll approximations etc.\n",
    "Following this track, we can identify the filters, escapte rate functions with objects in the IF models.\n",
    "\n",
    "**From the Biological to the Artifical Neuron.** In biological neural networks, the input currents consist of several contributions from different synapses.\n",
    "Let us assume the neuron receives input from $M$ different synapses, as illustrated in [Figure 6](#fig:BioAINeuron).\n",
    "The individual synaptic input currents $I_{m}$ are weighted according to the respective coupling strenght $w_{m}$.\n",
    "As a result,"
   ]
  },
  {
   "cell_type": "markdown",
   "id": "9e3d2930",
   "metadata": {
    "editable": true
   },
   "source": [
    "$$\n",
    "\\begin{align*}\n",
    "    I(t) &= \\sum_{m = 1}^{M} \\, w_{m} \\, I_{m}(t) \\\\\n",
    "    &= \\sum_{m=1}^{M}\\, w_{m}\\, \\mu_{i}(t) + \\sum_{m=1}^{M}\\, w_{m}\\, \\sigma_{m}\\, \\xi_{m}(t) \\quad \\textrm{.}\n",
    "\\end{align*}\n",
    "$$"
   ]
  },
  {
   "cell_type": "markdown",
   "id": "43397af1",
   "metadata": {
    "editable": true
   },
   "source": [
    "Analogous to the arguments above, $\\xi_{t}$ is a Gaussian random variable for each $t \\in [0,\\, T]$.\n",
    "Since a sum of Gaussian random variables is still a Gaussian random variable whereby the variances sum, we can represent the right hand sum by a single white Gaussian noise source $\\xi(t)$"
   ]
  },
  {
   "cell_type": "markdown",
   "id": "f6ef9579",
   "metadata": {
    "editable": true
   },
   "source": [
    "$$\n",
    "I(t) = \\sum_{m=1}^{M}\\, w_{m}\\, \\mu_{i}(t) + \\sqrt{2\\, D}\\, \\xi(t)\n",
    "$$"
   ]
  },
  {
   "cell_type": "markdown",
   "id": "762a076b",
   "metadata": {
    "editable": true
   },
   "source": [
    "with noise intensity"
   ]
  },
  {
   "cell_type": "markdown",
   "id": "4d2ef367",
   "metadata": {
    "editable": true
   },
   "source": [
    "$$\n",
    "D = \\frac{1}{2}\\, \\left( \\sum_{m=1}^{M}\\, w_{m}^{2}\\, \\sigma_{m}^{2} \\right)^{1/2} \\quad \\textrm{.}\n",
    "$$"
   ]
  },
  {
   "cell_type": "markdown",
   "id": "5920599a",
   "metadata": {
    "editable": true
   },
   "source": [
    "We can collect the synaptic weights $w_{i}$ as well as the mean input curents $\\mu_{i}$ in vectors $\\pmb{w} = (w_{1},\\, \\dots)$, $\\pmb{\\mu}=(\\mu_{1},\\, \\dots)$ which allows for a more compact notation"
   ]
  },
  {
   "cell_type": "markdown",
   "id": "f6b64e13",
   "metadata": {
    "editable": true
   },
   "source": [
    "$$\n",
    "I(t) = \\pmb{w}^{T} \\pmb{\\mu} + \\sqrt{2\\, D}\\, \\xi(t) \\quad \\textrm{.}\n",
    "$$"
   ]
  },
  {
   "cell_type": "markdown",
   "id": "86d6eab6",
   "metadata": {
    "editable": true
   },
   "source": [
    "With that and"
   ]
  },
  {
   "cell_type": "markdown",
   "id": "918b8fc4",
   "metadata": {
    "editable": true
   },
   "source": [
    "$$\n",
    "\\sigma(x) := \\frac{1}{\\tau_{0}}\\, e^{\\beta\\, x}\n",
    "$$"
   ]
  },
  {
   "cell_type": "markdown",
   "id": "f9d90422",
   "metadata": {
    "editable": true
   },
   "source": [
    "the rate model"
   ]
  },
  {
   "cell_type": "markdown",
   "id": "b5ecb3c9",
   "metadata": {
    "editable": true
   },
   "source": [
    "$$\n",
    "r(\\pmb{\\mu}(t), t) = \\sigma \\left[ \\sum_{m=1}^{M} \\, w_{m} \\, \\int_{-\\infty}^{t} \\kappa_{1}(t - \\zeta)\\, \\mu_{m}(\\zeta)\\, d \\zeta + \n",
    "    \\int_{-\\infty}^{t} \\,\\eta^{\\textrm{eff}}_{1}(t-\\zeta)\\, S(\\zeta) \\,  d \\zeta + \\left( v_{\\textrm{reset}} - \\vartheta_{0} \\right) \\right]\n",
    "$$"
   ]
  },
  {
   "cell_type": "markdown",
   "id": "01201bd4",
   "metadata": {
    "editable": true
   },
   "source": [
    "formally resembles a generalised perceptron with weights $w_{m}$, bias $v_{\\textrm{reset}} - \\vartheta_{0}$ and activation function $\\sigma$.\n",
    "The effective transient activation potential kernel $\\eta_{1}^{\\textrm{eff}}$ as well as $\\kappa_{1}$ incorporate additional biological detail into the model such as adaptation or refractory periods.\n",
    "In the limit"
   ]
  },
  {
   "cell_type": "markdown",
   "id": "392b3f31",
   "metadata": {
    "editable": true
   },
   "source": [
    "$$\n",
    "\\begin{align*}\n",
    "    \\eta_{1}^{\\textrm{eff}} &\\rightarrow 0 \\quad \\textrm{no transient dynamics} \\\\\n",
    "    \\kappa_{1}(t - \\zeta) &\\rightarrow \\delta(t - \\zeta) \\quad \\textrm{direct proportional response}\n",
    "\\end{align*}\n",
    "$$"
   ]
  },
  {
   "cell_type": "markdown",
   "id": "3db21ce8",
   "metadata": {
    "editable": true
   },
   "source": [
    "we retrieve the standard rate based stationary AI perceptron model with an exponential activation function"
   ]
  },
  {
   "cell_type": "markdown",
   "id": "925fd1bb",
   "metadata": {
    "editable": true
   },
   "source": [
    "$$\n",
    "r(\\pmb{\\mu}) = \\sigma \\left[ \\pmb{w}^{T} \\pmb{\\mu} + \\left( v_{\\textrm{reset}} - \\vartheta_{0} \\right)  \\right] \\quad \\textrm{.}\n",
    "$$"
   ]
  },
  {
   "cell_type": "markdown",
   "id": "7b1b6c94",
   "metadata": {
    "editable": true
   },
   "source": [
    "<!-- dom:FIGURE:[figures/BioAINeuron.png, height=400, alt=\"Schematics of a biologically plausible IF neuron a) and a stationary rate based AI neuron b)\", frac=0.8] Schematics of a biologically plausible IF neuron a) and a stationary rate based AI neuron b) <div id=\"fig:BioAINeuron\"></div> -->\n",
    "<!-- begin figure -->\n",
    "<div id=\"fig:BioAINeuron\"></div>\n",
    "\n",
    "<img src=\"figures/BioAINeuron.png\" height=\"400\" alt=\"Schematics of a biologically plausible IF neuron a) and a stationary rate based AI neuron b)\"><p style=\"font-size: 0.9em\"><i>Figure 6: Schematics of a biologically plausible IF neuron a) and a stationary rate based AI neuron b)</i></p>\n",
    "<!-- end figure -->\n",
    "\n",
    "**Summary.**\n",
    "\n",
    "In order to arrive at the standard AI rate-based perceptron model, we had to make some harsh approximations.\n",
    "Keep in mind that if you use Perceptron Models to model neural systems, you implicitely make the following assumptions.\n",
    "\n",
    "1. Linear, direct reponse\n",
    "2. Stationarity \n",
    "3. No transient dynamics"
   ]
  }
 ],
 "metadata": {
  "kernelspec": {
   "display_name": "Python 3 (ipykernel)",
   "language": "python",
   "name": "python3"
  },
  "language_info": {
   "codemirror_mode": {
    "name": "ipython",
    "version": 3
   },
   "file_extension": ".py",
   "mimetype": "text/x-python",
   "name": "python",
   "nbconvert_exporter": "python",
   "pygments_lexer": "ipython3",
   "version": "3.9.1"
  }
 },
 "nbformat": 4,
 "nbformat_minor": 5
}
