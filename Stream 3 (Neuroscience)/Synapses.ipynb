{
 "cells": [
  {
   "cell_type": "markdown",
   "id": "5a2eda41",
   "metadata": {
    "editable": true
   },
   "source": [
    "<!-- File automatically generated using DocOnce (https://github.com/doconce/doconce/):\n",
    "doconce format ipynb Synapses.do.txt  -->\n",
    "\n",
    "## Synapses\n",
    "<!-- The synapse: receptors: NMDA, GABA, AMPA -->\n",
    "<!-- FIGURE: [figures/synapse.svg] <div id=\"fig:synapse\"></div> -->"
   ]
  },
  {
   "cell_type": "markdown",
   "id": "97684ebb",
   "metadata": {
    "editable": true
   },
   "source": [
    "## Conductance based synapse models\n",
    "Conductance-based synapses, examine the ion flow dynamics under synaptic transmission. \n",
    "Synapses, serving as communication points between neurons, \n",
    "experience conductance changes over time due to neurotransmitter release or pre-synaptic voltage changes.\n",
    "\n",
    "During synaptic activation, the membrane potential experiences a rapid and transient change, leading to excitatory \n",
    "postsynaptic potential (EPSP) or inhibitory postsynaptic potential (IPSP). This is driven by postsynaptic currents (PSCs) \n",
    "triggered by pre-synaptic cell spiking activity.\n",
    "\n",
    "Neurotransmitters stored in vesicles in the pre-synaptic terminal are released into the synaptic cleft upon \n",
    "action potential invasion. This process, facilitated by calcium ions, triggers the binding of the neurotransmitter \n",
    "to postsynaptic receptors, causing postsynaptic membrane potential changes.\n",
    "\n",
    "In conductance-based models, post synaptic conductance is impacted by the ion flow across the neuron's membrane. \n",
    "It's determined by the maximum conductance and the proportion of open channels, influenced by various factors \n",
    "including neurotransmitter amount, post-synaptic cell state, and previous synaptic activity.\n",
    "\n",
    "Conductance-based synapses showcase phenomena like short-term plasticity, facilitation, and depression. \n",
    "They offer detailed insights into synaptic dynamics, including ion channel kinetics and pre- and post-synaptic \n",
    "interactions. They are beneficial for comprehending synaptic transmission, synaptic plasticity, and \n",
    "their roles in neural network dynamics.\n",
    "\n",
    "Synaptic conductance can be presented as a product of maximum conductance and open channel probability ($g_s = \\hat{g}_s P$). \n",
    "Open probability can be split into two terms, $P = P_s P_{rel}$, reflecting pre- and post-synaptic activities. $P_s$ \n",
    "represents the probability of postsynaptic channel opening, given neurotransmitter release from the presynaptic terminal. \n",
    "$P_s$ can be considered as the fraction of opened channels due to the transmitter.\n",
    "\n",
    "At central synapses, each synaptic bouton typically contains just a few active release zones. \n",
    "Thus, when an action potential reaches a distinct anatomically recognized synapse, usually no more than one \n",
    "vesicle is released. This implies that the probability of release $P_{rel}$, \n",
    "plays a significant role in determining whether a presynaptic action potential translates into a postsynaptic signal. \n",
    "In vitro studies suggest that the release probability at an individual synapse, both in vertebrates and invertebrates, \n",
    "can vary greatly, typically ranging from 0.1 to 0.9.\n",
    "Remember that the probability statement here is a statement about the probability of release of a single vesicle, which \n",
    "is a mean value over many trials. The probability of release of a single vesicle in reality dictates a stochastic process,\n",
    "where synapse activation is a random event, with potentially many failures.\n",
    "\n",
    "In a simplified model of a directly activated receptor channel, the transmitter binds to a closed receptor and opens \n",
    "it through a binding reaction, using $k$ transmitter molecules. \n",
    "Conversely, the transmitter molecules unbind from the receptor, causing it to close. \n",
    "These processes mirror the gating of a voltage-dependent channel, and can be represented by the same type of equation to \n",
    "describe how the open probability $P_s$ changes over time:"
   ]
  },
  {
   "cell_type": "markdown",
   "id": "24ed791b",
   "metadata": {
    "editable": true
   },
   "source": [
    "<!-- Equation labels as ordinary links -->\n",
    "<div id=\"eq:post_conductance\"></div>\n",
    "\n",
    "$$\n",
    "\\begin{equation}\n",
    "\\frac{dP_s}{dt} = \\alpha_s (1 - P_s) - \\beta_s P_s\n",
    "\\label{eq:post_conductance} \\tag{1}\n",
    "\\end{equation}\n",
    "$$"
   ]
  },
  {
   "cell_type": "markdown",
   "id": "cf6901de",
   "metadata": {
    "editable": true
   },
   "source": [
    "Here, $\\beta_s$ is the channel closing rate and is often considered a constant, whereas $\\alpha_s$ depends on the available transmitter \n",
    "concentration for receptor binding. Given that the concentration of the transmitter at the synaptic channel site is $[T]$, \n",
    "the probability of finding $k$ transmitter molecules $[T]$ within the channel's binding range is proportional to $[T]^k$, \n",
    "and $\\alpha_s$ is a proportionality constant times this factor.\n",
    "This equation is similar to the equations describing the gating of a voltage-dependent channel, and can be described with the same kinetic scheme:"
   ]
  },
  {
   "cell_type": "markdown",
   "id": "4241e003",
   "metadata": {
    "editable": true
   },
   "source": [
    "<!-- Equation labels as ordinary links -->\n",
    "<div id=\"_auto1\"></div>\n",
    "\n",
    "$$\n",
    "\\begin{equation}\n",
    "C \\underset{\\beta_s}{\\overset{\\alpha_s[T]}{\\rightleftharpoons}} O\n",
    "\\label{_auto1} \\tag{2}\n",
    "\\end{equation}\n",
    "$$"
   ]
  },
  {
   "cell_type": "markdown",
   "id": "c7b79e59",
   "metadata": {
    "editable": true
   },
   "source": [
    "where $C$ is the closed state and $O$ is the open state.\n",
    "\n",
    "An action potential invading the presynaptic terminal increases the transmitter concentration and $\\alpha_s$ value, thus boosting $P_s$. \n",
    "However, following transmitter release, its concentration can rapidly diminish due to diffusion out of the cleft, \n",
    "enzyme-mediated degradation, and presynaptic uptake mechanisms, resulting in a zero $\\alpha_s$ value and an exponential decay of $P_s$ \n",
    "with a time constant $1/\\beta_s$. The channel closing time constant is usually larger than the opening time.\n",
    "\n",
    "The simplest post-synaptic conductance can be modeled considering $P_s$ decaying exponentially to zero following the equation:"
   ]
  },
  {
   "cell_type": "markdown",
   "id": "418bdaf4",
   "metadata": {
    "editable": true
   },
   "source": [
    "<!-- Equation labels as ordinary links -->\n",
    "<div id=\"_auto2\"></div>\n",
    "\n",
    "$$\n",
    "\\begin{equation}\n",
    "\\frac{dP_s}{dt} = - \\frac{P_s}{\\tau_s}\n",
    "\\label{_auto2} \\tag{3}\n",
    "\\end{equation}\n",
    "$$"
   ]
  },
  {
   "cell_type": "markdown",
   "id": "734419e7",
   "metadata": {
    "editable": true
   },
   "source": [
    "and immediately after each presynaptic action potential, the replacement is made as:"
   ]
  },
  {
   "cell_type": "markdown",
   "id": "b3bb4fd4",
   "metadata": {
    "editable": true
   },
   "source": [
    "<!-- Equation labels as ordinary links -->\n",
    "<div id=\"_auto3\"></div>\n",
    "\n",
    "$$\n",
    "\\begin{equation}\n",
    "P_s \\leftarrow P_s + P_{max} (1 - P_s)\n",
    "\\label{_auto3} \\tag{4}\n",
    "\\end{equation}\n",
    "$$"
   ]
  },
  {
   "cell_type": "markdown",
   "id": "181f21ff",
   "metadata": {
    "editable": true
   },
   "source": [
    "Conductance-based synapses provide intricate synaptic dynamics, including ion channel kinetics and the complex \n",
    "interplay between pre- and post-synaptic activity. They help understand synaptic transmission, various forms of \n",
    "synaptic plasticity, and synapses' role in neural network dynamics. \n",
    "Notably, phenomena such as shunting inhibition, saturation, short-term plasticity, \n",
    "facilitation, or depression can be observed, where synapse responsiveness changes due to past activity.\n",
    "\n",
    "Conductance based synapses can be added to the integrate and fire neuron by"
   ]
  },
  {
   "cell_type": "markdown",
   "id": "49b8f3a4",
   "metadata": {
    "editable": true
   },
   "source": [
    "$$\n",
    "\\begin{align*}\n",
    "C_m \\frac{\\mathrm{d}u}{\\mathrm{d}t} = \\sum_i g_i(t) (E_i - u) + g_l(u_{rest} - u),\n",
    "\\end{align*}\n",
    "$$"
   ]
  },
  {
   "cell_type": "markdown",
   "id": "79cae0fb",
   "metadata": {
    "editable": true
   },
   "source": [
    "where $g_i(t)$ is the synaptic conductance of the $i$-th synapse, $E_i$ is the reversal potential of the $i$-th synapse, \n",
    "and $I_i=g_i(t) (E_i - u)$ is the synaptic current.\n",
    "\n",
    "In many cases the synaptic conductance is modeled as a sum of two exponential functions, one for the rise and one for the decay:\n",
    "Three commonly used waveform equations are illustrated below (a) single exponential decay, (b) alpha function, and \n",
    "(c) dual exponential function:"
   ]
  },
  {
   "cell_type": "markdown",
   "id": "b1c0e343",
   "metadata": {
    "editable": true
   },
   "source": [
    "<!-- Equation labels as ordinary links -->\n",
    "<div id=\"eq:exp_decay\"></div>\n",
    "\n",
    "$$\n",
    "\\begin{equation}\n",
    "g_{\\text{syn}}(t) = \\bar{g}_{\\text{syn}} \\exp \\left( \\frac{t - t_s}{\\tau} \\right)\n",
    "\\label{eq:exp_decay} \\tag{5}\n",
    "\\end{equation}\n",
    "$$"
   ]
  },
  {
   "cell_type": "markdown",
   "id": "d160fcf8",
   "metadata": {
    "editable": true
   },
   "source": [
    "<!-- Equation labels as ordinary links -->\n",
    "<div id=\"eq:alpha_function\"></div>\n",
    "\n",
    "$$\n",
    "\\begin{equation} \n",
    "g_{\\text{syn}}(t) = \\bar{g}_{\\text{syn}} \\frac{t - t_s}{\\tau} \\exp \\left( \\frac{t - t_s}{\\tau} \\right)\n",
    "\\label{eq:alpha_function} \\tag{6}\n",
    "\\end{equation}\n",
    "$$"
   ]
  },
  {
   "cell_type": "markdown",
   "id": "a03df94a",
   "metadata": {
    "editable": true
   },
   "source": [
    "<!-- Equation labels as ordinary links -->\n",
    "<div id=\"eq:dual_exp\"></div>\n",
    "\n",
    "$$\n",
    "\\begin{equation} \n",
    "g_{\\text{syn}}(t) = \\bar{g}_{\\text{syn}} \\frac{\\tau_1 \\tau_2}{\\tau_1 - \\tau_2} \\left( \\exp \\left( \\frac{t - t_s}{\\tau_1} \\right) - \\exp \\left( \\frac{t - t_s}{\\tau_2} \\right) \\right)\n",
    "\\label{eq:dual_exp} \\tag{7}\n",
    "\\end{equation}\n",
    "$$"
   ]
  },
  {
   "cell_type": "markdown",
   "id": "1971df85",
   "metadata": {
    "editable": true
   },
   "source": [
    "where $t,t_s$ denotes time and spike time respectively.\n",
    "\n",
    "The synaptic conductance $\\bar{g}_{\\text{syn}}$ is the maximum conductance change at the synapse, and $\\tau$ is the time constant of the\n",
    "synaptic conductance change. The time constant $\\tau$ is related to the rise and fall times of the synaptic conductance waveform.\n",
    "The alpha and dual exponential waveforms are more realistic representations of the conductance change at a typical synapse, \n",
    "and good fits of PSC using these functions for $g_{\\text{syn}}(t)$ can often be obtained to recorded synaptic currents. \n",
    "The dual exponential is needed when the rise and fall times must be set independently.\n",
    "We typically use the alpha function to model the synaptic conductance.\n",
    "\n",
    "The types of synapses are classified by the neurotransmitter they release.\n",
    "We typically separate synapses into two classes: excitatory and inhibitory, where each class have many types\n",
    "of synapses, with two main types for each.\n",
    "\n",
    "Biologists distinguish between two major types of inhibitory synapse, called GABAA\n",
    "and GABAB. Both synapse types use GABA as the neurotransmitter. \n",
    "GABAA channels are ionotropic and open exclusively for chloride ions, whereas GABAB\n",
    "synapses have metabotropic receptors that trigger a comparatively slow signaling chain ultimately leading to the opening of K+\n",
    "channels. Consequently the value of the synaptic reversal potential $E_{syn}$ depends for GABAA\n",
    "synapses on the concentration of chloride ions inside and outside the cell, while that of GABAB\n",
    "synapses depends on the potassium concentrations.\n",
    "\n",
    "Most excitatory synapses in the vertebrate central nervous system rely on glutamate as their neurotransmitter. \n",
    "The postsynaptic receptors, however, can have very different pharmacological properties and different types of \n",
    "glutamate receptor units can be present in a single synapse. These receptors are classified using artificial \n",
    "drugs such as NMDA or AMPA that act as selective agonists. NMDA (N-methyl-D-aspartate) binds to channels with \n",
    "NMDA receptors, but not to other glutamate receptors. The most prominent among those glutamate receptors that do not \n",
    "respond to NMDA are the AMPA-receptors. AMPA is an artificial glutamate. Channels with AMPA-sensitive receptors \n",
    "are called 'AMPA channels' because these channels react to AMPA, whereas channels with NMDA-sensitive receptors do \n",
    "not open upon application of AMPA. However, both NMDA and AMPA channels react to the natural form of glutamate \n",
    "that the nervous system uses as neurotransmitter."
   ]
  },
  {
   "cell_type": "markdown",
   "id": "f2892a6e",
   "metadata": {
    "editable": true
   },
   "source": [
    "## Exercise 1: Familiarize yourself with the different synapses\n",
    "\n",
    "The below code showcase the simulation of a single neuron with conductance based synapses and these different types of \n",
    "synapses. Discuss the differences between these synapses and how they affect the neuron's behavior."
   ]
  },
  {
   "cell_type": "code",
   "execution_count": null,
   "id": "f542c7b6-89a6-4b5b-88a8-71599f36f808",
   "metadata": {},
   "outputs": [],
   "source": [
    "%matplotlib inline\n",
    "\n",
    "import numpy as np\n",
    "import matplotlib.pyplot as plt\n",
    "from scipy.integrate import odeint\n",
    "\n",
    "# Parameters\n",
    "tau_decay_gabaa = 1  # ms\n",
    "tau_rise_gabab = 40  # ms\n",
    "tau_decay_gabab = 200  # ms\n",
    "tau_decay_ampa = 2  # ms\n",
    "tau_rise_nmda = 8  # ms\n",
    "tau_decay_nmda = 60  # ms\n",
    "alpha_nmda = 0.062  # mV^-1\n",
    "beta_nmda = 1 / 3.57  # mM^-1\n",
    "mg_concentration = 1.2  # mM\n",
    "\n",
    "E_gabaa = -75  # mV\n",
    "E_gabab = -90  # mV\n",
    "E_ampa = 0  # mV\n",
    "E_nmda = 0  # mV\n",
    "g_syn_bar_gabaa = 18\n",
    "g_syn_bar_gabab = .05\n",
    "g_syn_bar_ampa = 5\n",
    "g_syn_bar_nmda = 2\n",
    "\n",
    "u_rest = -65  # mV\n",
    "u_threshold = -50\n",
    "g_l = 10\n",
    "C_m = 200\n",
    "\n",
    "\n",
    "# Functions\n",
    "def heaviside(t):\n",
    "    return np.array(t >= 0, dtype=float)\n",
    "\n",
    "def nmda_g_inf(u, mg):\n",
    "    return 1 / (1 + beta_nmda * np.exp(-alpha_nmda * u) * mg)\n",
    "\n",
    "def g_syn_exp(t, g_syn_bar, tau):\n",
    "    return g_syn_bar * np.exp(-t/tau)* heaviside(t)\n",
    "\n",
    "def g_syn_alpha(t, g_syn_bar, tau):\n",
    "    return g_syn_bar * t/tau * np.exp(-t/tau)* heaviside(t)\n",
    "\n",
    "def g_syn_double_exp(t, g_syn_bar, tau1, tau2):\n",
    "    return g_syn_bar * tau1*tau2/(tau1-tau2) * (np.exp(-t/tau1) - np.exp(-t/tau2))* heaviside(t)\n",
    "\n",
    "def synaptic_current(u, g_syn, E_syn):\n",
    "    return g_syn * (E_syn - u)\n",
    "\n",
    "def du_dt_membrane(u, t, u_rest, g_l, C, inputs):\n",
    "    input_currents = [I_syn(u, t-t_spike) for I_syn, t_spikes in inputs for t_spike in t_spikes]\n",
    "    dudt = (sum(input_currents) + g_l*(u_rest - u)) / C\n",
    "    return dudt\n",
    "\n",
    "# Time vector\n",
    "time = np.arange(0, 1000, 0.5)\n",
    "\n",
    "gabaa_current = lambda u,t: synaptic_current(\n",
    "    u, \n",
    "    g_syn_alpha(t, g_syn_bar_gabaa, tau_decay_gabaa), \n",
    "    E_gabaa\n",
    ")\n",
    "gabab_current = lambda u,t: synaptic_current(\n",
    "    u, \n",
    "    g_syn_double_exp(t, g_syn_bar_gabab, tau_rise_gabab, tau_decay_gabab), \n",
    "    E_gabab\n",
    ")\n",
    "ampa_current = lambda u,t: synaptic_current(\n",
    "    u, \n",
    "    g_syn_exp(t, g_syn_bar_ampa, tau_decay_ampa), \n",
    "    E_ampa\n",
    ")\n",
    "nmda_current = lambda u,t: synaptic_current(\n",
    "    u, \n",
    "    g_syn_double_exp(t, g_syn_bar_nmda, tau_rise_nmda, tau_decay_nmda)*nmda_g_inf(u, mg_concentration), \n",
    "    E_nmda\n",
    ")\n",
    "\n",
    "inputs = [(gabaa_current, [10]), (gabab_current, [100]), (ampa_current, [500]), (nmda_current, [700])]\n",
    "\n",
    "u_sol = odeint(du_dt_membrane, u_rest, time, args=(u_rest, g_l, C_m, inputs))\n",
    "\n",
    "plt.figure()\n",
    "plt.plot(time, u_sol)\n",
    "plt.xlabel('Time (ms)')\n",
    "plt.ylabel('Post-synaptic potential (PSP) (mV)')\n",
    "\n",
    "plt.figure()\n",
    "for (I_syn, t_spikes), label in zip(inputs, ['GABAA', 'GABAB', 'AMPA', 'NMDA']):\n",
    "    plt.plot(time, sum([I_syn(u_rest, time - t_spike) for t_spike in t_spikes]), label=label)\n",
    "plt.legend()\n",
    "plt.xlabel('Time (ms)')\n",
    "plt.ylabel('Post-synaptic current (nA)')"
   ]
  },
  {
   "cell_type": "markdown",
   "id": "058b79cc",
   "metadata": {
    "editable": true
   },
   "source": [
    "## Exercise 2: Differential expression of synapses\n",
    "\n",
    "A single neuron may receive thousands of inputs and efficient numerical\n",
    "calculation of synaptic conductance is often crucial. In a large-scale network\n",
    "model, calculation of synaptic input may be the limiting factor in the speed\n",
    "of simulation. The three conductance waveforms considered above are all solutions\n",
    "of the impulse response of a damped oscillator, which is given by the second order ODE for the synaptic conductance:"
   ]
  },
  {
   "cell_type": "markdown",
   "id": "f33ab4ee",
   "metadata": {
    "editable": true
   },
   "source": [
    "$$\n",
    "\\tau_1 \\tau_2 \\frac{d^2 g}{dt^2} + (\\tau_1 + \\tau_2 ) \\frac{dg}{dt} + g = g_{\\text{syn}} x(t).\n",
    "$$"
   ]
  },
  {
   "cell_type": "markdown",
   "id": "cbf1c87c",
   "metadata": {
    "editable": true
   },
   "source": [
    "The function $x(t)$ represents the contribution from the stream of transmitter releases. \n",
    "It takes the value 1 if a release occurs at time $t$, and is zero otherwise. \n",
    "The conductance $g(t)$ takes the single exponential form when $\\tau_1 = 0$ and the alpha function form when $\\tau_1 = \\tau_2 = \\tau$.\n",
    "\n",
    "This ODE can be integrated using a suitable numerical integration routine to give the synaptic conductance over time in a\n",
    "way that does not require storing spike times or the impulse response waveform, both of which are required for e.g. solving Eq. ([6](#eq:alpha_function)) directly.\n",
    "\n",
    "Therefore, Brian2 requires the user to specify the synaptic conductance waveform in the form of an ODE.\n",
    "An example of a post-synaptic current (PSC) is the $\\alpha$-function given by Eq. ([6](#eq:alpha_function)).\n",
    "This equation can be reformulated as the following ODE:"
   ]
  },
  {
   "cell_type": "markdown",
   "id": "918695de",
   "metadata": {
    "editable": true
   },
   "source": [
    "$$\n",
    "\\begin{align*}\n",
    "\\frac{\\mathrm{d}g}{\\mathrm{d}t} &= (g - x) / \\tau\\\\\n",
    "\\frac{dx}{dt} &= -\\frac{x}{\\tau}\\\\\n",
    "x &\\leftarrow x + w_i\\, \\text{after a spike from node i}\n",
    "\\end{align*}\n",
    "$$"
   ]
  },
  {
   "cell_type": "markdown",
   "id": "4286e2b8",
   "metadata": {
    "editable": true
   },
   "source": [
    "To verify the equivalence of these two formulations, consider a single synapse and a single spike at time 0. \n",
    "The initial conditions at $t=0$ will be $g_0 = 0$, $x_0 = 1$.\n",
    "\n",
    "To solve these equations, let's substitute $s=t/\\tau$ and differentiate with respect to $s$ instead of $t$.\n",
    "We obtain the equations $\\frac{\\mathrm{d}g}{\\mathrm{d}s} = x-g$, $\\frac{\\mathrm{d}x}{\\mathrm{d}s} = -x$."
   ]
  },
  {
   "cell_type": "markdown",
   "id": "9e5da9f2",
   "metadata": {},
   "source": [
    "**a)**\n",
    "Solve the system of differential equations for the $\\alpha$-function.\n",
    "<!-- --- begin solution of exercise --- -->\n",
    "**Solution.**"
   ]
  },
  {
   "cell_type": "markdown",
   "id": "8b642c6b",
   "metadata": {
    "editable": true,
    "jupyter": {
     "outputs_hidden": true,
     "source_hidden": true
    },
    "tags": [
     "hide-input",
     "hide-output"
    ]
   },
   "source": [
    "Solving these linear system of differential equations, we obtain $g(s) = s\\exp(-s), x(t)=\\exp(-s)$.\n",
    "<!-- --- end solution of exercise --- -->"
   ]
  },
  {
   "cell_type": "markdown",
   "id": "66eed2b9",
   "metadata": {
    "editable": true
   },
   "source": [
    "**b)**\n",
    "In Brian2 the exponential synapse can be inplemented by\n",
    "\n",
    "**Exponential synapse:**"
   ]
  },
  {
   "cell_type": "code",
   "execution_count": 2,
   "id": "6cf97612",
   "metadata": {
    "collapsed": false,
    "editable": true,
    "jupyter": {
     "outputs_hidden": false
    }
   },
   "outputs": [],
   "source": [
    "model = '''\n",
    "dg/dt = -g/tau : 1\n",
    "'''\n",
    "on_pre = 'g += w'"
   ]
  },
  {
   "cell_type": "markdown",
   "id": "bfba9600",
   "metadata": {
    "editable": true
   },
   "source": [
    "Write a similar solution for the $\\alpha$-function and dual exponential synapse.\n",
    "\n",
    "<!-- --- begin solution of exercise --- -->\n",
    "**Solution.**"
   ]
  },
  {
   "cell_type": "markdown",
   "id": "4db5ff49-1ad6-47bd-89cd-e81a5b807d0f",
   "metadata": {
    "jupyter": {
     "source_hidden": true
    },
    "tags": []
   },
   "source": [
    "**Alpha synapse**:"
   ]
  },
  {
   "cell_type": "code",
   "execution_count": 3,
   "id": "772207c6",
   "metadata": {
    "editable": true,
    "jupyter": {
     "source_hidden": true
    },
    "tags": [
     "hide-input",
     "hide-output"
    ]
   },
   "outputs": [],
   "source": [
    "model = '''\n",
    "dg/dt = (x-g)/tau : 1\n",
    "dx/dt = -x/tau    : 1\n",
    "'''\n",
    "on_pre = 'x += w'"
   ]
  },
  {
   "cell_type": "markdown",
   "id": "6b9f05ba",
   "metadata": {
    "editable": true,
    "jupyter": {
     "outputs_hidden": true,
     "source_hidden": true
    },
    "tags": [
     "hide-input",
     "hide-output"
    ]
   },
   "source": [
    "where $x$ reaches a maximum value of $w$ at time $\\tau$.\n",
    "\n",
    "**Dual exponential synapse:**"
   ]
  },
  {
   "cell_type": "code",
   "execution_count": 4,
   "id": "62390cd5",
   "metadata": {
    "editable": true,
    "jupyter": {
     "source_hidden": true
    },
    "tags": [
     "hide-input",
     "hide-output"
    ]
   },
   "outputs": [],
   "source": [
    "model = '''\n",
    "dg/dt = ((tau_2 / tau_1) ** (tau_1 / (tau_2 - tau_1))*x-g)/tau_1 : 1\n",
    "dx/dt = -x/tau_2                                                 : 1\n",
    "'''\n",
    "on_pre = 'x += w'"
   ]
  },
  {
   "cell_type": "markdown",
   "id": "9e2f13f4",
   "metadata": {
    "editable": true,
    "jupyter": {
     "outputs_hidden": true,
     "source_hidden": true
    },
    "tags": [
     "hide-input",
     "hide-output"
    ]
   },
   "source": [
    "where $x$ reaches a maximum value of $w$ at time $\\tau_1 \\ln(\\tau_2 / \\tau_1)$.\n",
    "<!-- --- end solution of exercise --- -->"
   ]
  },
  {
   "cell_type": "markdown",
   "id": "32ba0ad3",
   "metadata": {
    "editable": true
   },
   "source": [
    "## Exercise 3: Implement the NMDA synapse in a LIF neuron using Brian2\n",
    "\n",
    "The NMDA (N-methyl-D-aspartate) receptor is a type of ionotropic glutamate receptor that plays a crucial role in synaptic plasticity and memory function. \n",
    "The conductance of NMDA receptors is voltage-dependent and also influenced by the extracellular concentration of magnesium ions.\n",
    "\n",
    "The steady-state conductance of NMDA receptors can be expressed as:"
   ]
  },
  {
   "cell_type": "markdown",
   "id": "47053508",
   "metadata": {
    "editable": true
   },
   "source": [
    "<!-- Equation labels as ordinary links -->\n",
    "<div id=\"_auto4\"></div>\n",
    "\n",
    "$$\n",
    "\\begin{equation}\n",
    "G_{\\text{Mg}}(u) = \\frac{1}{1 + \\beta_{\\text{nmda}} e^{-\\alpha_{\\text{nmda}} u} [\\text{Mg}]}\n",
    "\\label{_auto4} \\tag{8}\n",
    "\\end{equation}\n",
    "$$"
   ]
  },
  {
   "cell_type": "markdown",
   "id": "47789d03",
   "metadata": {
    "editable": true
   },
   "source": [
    "where $u$ is the membrane potential, $[\\text{mg}]$ is the extracellular magnesium concentration, and \n",
    "$\\alpha_{\\text{nmda}}$ and $\\beta_{\\text{nmda}}$ are constants.\n",
    "\n",
    "The synaptic conductance of an NMDA receptors is:"
   ]
  },
  {
   "cell_type": "markdown",
   "id": "515b59ce",
   "metadata": {
    "editable": true
   },
   "source": [
    "<!-- Equation labels as ordinary links -->\n",
    "<div id=\"_auto5\"></div>\n",
    "\n",
    "$$\n",
    "\\begin{equation}\n",
    "g_{\\text{nmda}}(u, t) = g_{\\text{syn}}(t) G_{\\text{Mg}}(u)\n",
    "\\label{_auto5} \\tag{9}\n",
    "\\end{equation}\n",
    "$$"
   ]
  },
  {
   "cell_type": "markdown",
   "id": "e8526799",
   "metadata": {
    "editable": true
   },
   "source": [
    "Where $g_{syn}(t)$ is typically modeled with the dual exponetial function. Fill in the blanks in the below brian2 code to model the NMDA synapse.\n",
    "Compare the response with those of exercise 1"
   ]
  },
  {
   "cell_type": "code",
   "execution_count": 5,
   "id": "b87643d6",
   "metadata": {
    "collapsed": false,
    "editable": true,
    "jupyter": {
     "outputs_hidden": false
    }
   },
   "outputs": [],
   "source": [
    "from brian2 import *\n",
    "start_scope()\n",
    "\n",
    "# Simulation parameters\n",
    "duration = 0.5*second\n",
    "dt = 0.001*ms\n",
    "defaultclock.dt = dt\n",
    "\n",
    "# Neuron parameters\n",
    "u_rest = -65*mV  # mV\n",
    "g_l = 10*uS\n",
    "C_m = 200*pF\n",
    "\n",
    "# Synapse parameters\n",
    "E_nmda = 0*mV\n",
    "tau_1 = 8*ms\n",
    "tau_2 = 60*ms\n",
    "g_syn_max = 100*uS\n",
    "Mg = 1*mM\n",
    "\n",
    "eqs = '''\n",
    "du/dt = code here\n",
    "G_mg = 1 / (1 + Mg/(3.57*mM)*exp(-u/(16.3*mV))) : 1\n",
    "'''\n",
    "model = '''\n",
    "dx/dt = code here\n",
    "dg/dt = code here\n",
    "'''\n",
    "\n",
    "neurons = NeuronGroup(1, eqs, method='rk4')\n",
    "neurons.u = u_rest\n",
    "indices = array([0])\n",
    "times = array([100])*ms  # Set up your spike times here\n",
    "spikes = SpikeGeneratorGroup(1, indices, times)\n",
    "S_NMDA = Synapses(spikes, neurons, model, on_pre='code here')\n",
    "\n",
    "S_NMDA.connect()\n",
    "\n",
    "# Monitor membrane potential\n",
    "monitor = StateMonitor(neurons, ['u', 'g_syn', 'G_mg'], record=True)\n",
    "\n",
    "# Run simulation\n",
    "run(duration)"
   ]
  },
  {
   "cell_type": "markdown",
   "id": "ec22f68f",
   "metadata": {
    "editable": true
   },
   "source": [
    "<!-- --- begin solution of exercise --- -->\n",
    "**Solution.**"
   ]
  },
  {
   "cell_type": "code",
   "execution_count": 6,
   "id": "0e595587",
   "metadata": {
    "editable": true,
    "jupyter": {
     "source_hidden": true
    },
    "tags": [
     "hide-input",
     "hide-output"
    ]
   },
   "outputs": [],
   "source": [
    "eqs = '''\n",
    "du/dt = (g_l*(u_rest - u) + g_syn*G_mg*(E_nmda - u)) / C_m : volt\n",
    "G_mg = 1 / (1 + Mg/(3.57*mM)*exp(-u/(16.3*mV))) : 1\n",
    "g_syn : siemens\n",
    "'''\n",
    "model = '''\n",
    "dx/dt = -x/tau_2 : siemens (clock-driven)\n",
    "dg/dt = ((tau_2 / tau_1) ** (tau_1 / (tau_2 - tau_1)) * x - g) / tau_1 : siemens (clock-driven)\n",
    "g_syn_post = g : siemens (summed)\n",
    "'''\n",
    "\n",
    "S_NMDA = Synapses(spikes, neurons, model, on_pre='x += g_syn_max')"
   ]
  },
  {
   "cell_type": "markdown",
   "id": "a8a5944a",
   "metadata": {
    "editable": true
   },
   "source": [
    "<!-- --- end solution of exercise --- -->"
   ]
  },
  {
   "cell_type": "markdown",
   "id": "b9c82368",
   "metadata": {
    "editable": true
   },
   "source": [
    "## Exercise 4: Synaptic input is nonlinear\n",
    "\n",
    "Considering constant synaptic input to the LIF neuron we get $g(t) = g$ and"
   ]
  },
  {
   "cell_type": "markdown",
   "id": "080197fe",
   "metadata": {
    "editable": true
   },
   "source": [
    "<!-- Equation labels as ordinary links -->\n",
    "<div id=\"_auto6\"></div>\n",
    "\n",
    "$$\n",
    "\\begin{equation}\n",
    "\\tau_m \\frac{\\mathrm{d}u}{\\mathrm{d}t} = R_m g_{syn} (E_{syn} - u) + u_{rest} - u + R_m I_e \n",
    "\\label{_auto6} \\tag{10}\n",
    "\\end{equation}\n",
    "$$"
   ]
  },
  {
   "cell_type": "markdown",
   "id": "32be1029",
   "metadata": {
    "editable": true
   },
   "source": [
    "<!-- Equation labels as ordinary links -->\n",
    "<div id=\"_auto7\"></div>\n",
    "\n",
    "$$\n",
    "\\begin{equation} \n",
    "= R_m g_{syn} E_{syn} - R_m g_{syn} u + u_{rest} - u + R_m I_e \n",
    "\\label{_auto7} \\tag{11}\n",
    "\\end{equation}\n",
    "$$"
   ]
  },
  {
   "cell_type": "markdown",
   "id": "4b0aecdf",
   "metadata": {
    "editable": true
   },
   "source": [
    "<!-- Equation labels as ordinary links -->\n",
    "<div id=\"_auto8\"></div>\n",
    "\n",
    "$$\n",
    "\\begin{equation}  \n",
    "\\frac{\\tau_m}{1 + R_m g_{syn}} \\frac{\\mathrm{d}u}{\\mathrm{d}t} =  \\frac{R_m g_{syn} E_{syn} + u_{rest} + R_m I_e}{1 + R_m g_{syn}} - u \n",
    "\\label{_auto8} \\tag{12}\n",
    "\\end{equation}\n",
    "$$"
   ]
  },
  {
   "cell_type": "markdown",
   "id": "9d35a009",
   "metadata": {
    "editable": true
   },
   "source": [
    "<!-- Equation labels as ordinary links -->\n",
    "<div id=\"eq:shunting_lif\"></div>\n",
    "\n",
    "$$\n",
    "\\begin{equation} \n",
    "\\tau_m' \\frac{\\mathrm{d}u}{\\mathrm{d}t} =  \\frac{g_{syn}E_{syn}}{G_{in}} + \\frac{u_{rest}}{R_mG_{in}} + \\frac{I_e}{G_{in}} - u\n",
    "\\label{eq:shunting_lif} \\tag{13}\n",
    "\\end{equation}\n",
    "$$"
   ]
  },
  {
   "cell_type": "markdown",
   "id": "6fa0fa95",
   "metadata": {},
   "source": [
    "**a)**\n",
    "Describe the new membrane timeconstant $\\tau_m'$ and input conductance $G_{in}$.\n",
    "<!-- --- begin solution of exercise --- -->\n",
    "**Solution.**"
   ]
  },
  {
   "cell_type": "markdown",
   "id": "41d2ff92",
   "metadata": {
    "editable": true,
    "jupyter": {
     "outputs_hidden": true,
     "source_hidden": true
    },
    "tags": [
     "hide-input",
     "hide-output"
    ]
   },
   "source": [
    "As we see this changes the membrane timeconstant $\\tau_m' = \\frac{C}{G_{in}} = \\frac{\\tau_m}{1 + R_m g_{syn}}$ and the \n",
    "input conductance $G_{in} = g_{syn} + g_{m}, g_{m} = 1/R_m$.\n",
    "There are two important outcomes of this, saturation and shunting.\n",
    "<!-- --- end solution of exercise --- -->"
   ]
  },
  {
   "cell_type": "markdown",
   "id": "f220179a",
   "metadata": {
    "editable": true
   },
   "source": [
    "**b)**\n",
    "To see the saturation let $u_{rest}=I_e=0$. Solving for Eq. ([13](#eq:shunting_lif)) describe the new stady-state potential\n",
    "in terms of $g_{syn}$ and $E_{syn}$ and $g_m$.\n",
    "\n",
    "<!-- --- begin solution of exercise --- -->\n",
    "**Solution.**"
   ]
  },
  {
   "cell_type": "markdown",
   "id": "73e61d9b",
   "metadata": {
    "editable": true,
    "jupyter": {
     "outputs_hidden": true,
     "source_hidden": true
    },
    "tags": [
     "hide-input",
     "hide-output"
    ]
   },
   "source": [
    "<!-- Equation labels as ordinary links -->\n",
    "<div id=\"_auto9\"></div>\n",
    "\n",
    "$$\n",
    "\\begin{equation}\n",
    "u_\\infty = \\frac{g_{syn}E_{syn}}{g_{syn} + g_{m}}\n",
    "\\label{_auto9} \\tag{14}\n",
    "\\end{equation}\n",
    "$$"
   ]
  },
  {
   "cell_type": "markdown",
   "id": "a8a5944a_1",
   "metadata": {
    "editable": true
   },
   "source": [
    "<!-- --- end solution of exercise --- -->"
   ]
  },
  {
   "cell_type": "markdown",
   "id": "992d6157",
   "metadata": {},
   "source": [
    "**c)**\n",
    "Describe $u$ when synaptic input is small ($g_{syn} << g_m$)\n",
    "<!-- --- begin solution of exercise --- -->\n",
    "**Solution.**"
   ]
  },
  {
   "cell_type": "markdown",
   "id": "0ceb224f",
   "metadata": {
    "editable": true,
    "jupyter": {
     "outputs_hidden": true,
     "source_hidden": true
    },
    "tags": [
     "hide-input",
     "hide-output"
    ]
   },
   "source": [
    "We get $u \\approx \\frac{g_{syn}E_{syn}}{g_m}$.\n",
    "In this case the input can be approximated well by a constant current source of amplitude $g_{syn}E_{syn}$.\n",
    "<!-- --- end solution of exercise --- -->"
   ]
  },
  {
   "cell_type": "markdown",
   "id": "5f856c3f",
   "metadata": {},
   "source": [
    "**d)**\n",
    "Describe $u$ when $g_{syn} >> g_m$\n",
    "<!-- --- begin solution of exercise --- -->\n",
    "**Solution.**"
   ]
  },
  {
   "cell_type": "markdown",
   "id": "e5f4010e",
   "metadata": {
    "editable": true,
    "jupyter": {
     "outputs_hidden": true,
     "source_hidden": true
    },
    "tags": [
     "hide-input",
     "hide-output"
    ]
   },
   "source": [
    "We get $u \\approx E_{syn}$.\n",
    "As the EPSP becomes larger and larger, the driving potential across the synaptic\n",
    "conductance $u—E_{syn}$ becomes smaller and smaller, disappearing eventually at $u = E_{syn}$\n",
    "No matter how large the conductance increase is made, there is no more potential to drive\n",
    "ions across the membrane.\n",
    "<!-- --- end solution of exercise --- -->"
   ]
  },
  {
   "cell_type": "markdown",
   "id": "63047876",
   "metadata": {
    "editable": true
   },
   "source": [
    "## Exercise 5: Shunting inhibition\n",
    "\n",
    "Shunting inhibition and hyperpolarizing inhibition are two mechanisms of inhibitory neurotransmission in the nervous system.\n",
    "Both types of inhibition make it more difficult for a neuron to generate an action potential, but they do so in different ways.\n",
    "\n",
    "1. **Hyperpolarizing Inhibition:** This type of inhibition occurs when inhibitory neurotransmitters bind to post-synaptic \n",
    "receptors and open potassium or chloride channels. The opening of these channels leads to an influx of negative charges \n",
    "into the neuron, which makes the inside of the neuron more negative or hyperpolarized (further from the action potential \n",
    "threshold). This increases the membrane potential, or difference in electric charge across the cell membrane, making it \n",
    "more difficult for the neuron to reach the threshold required to fire an action potential. \n",
    "This type of inhibition essentially increases the \"difficulty level\" for the neuron to fire.\n",
    "\n",
    "2. **Shunting Inhibition:** This type of inhibition occurs when inhibitory neurotransmitters bind to post-synaptic \n",
    "receptors and open chloride channels specifically. This creates an inhibitory post-synaptic potential (IPSP) that doesn't \n",
    "necessarily hyperpolarize the cell, but rather stabilizes it at its resting potential. \n",
    "This form of inhibition is often referred to as \"shunting\" because it prevents the neuron from being depolarized \n",
    "(making it less negative and more likely to fire an action potential) by other excitatory inputs. It's as if these \n",
    "inhibitory inputs create a \"shunt\" or bypass circuit that diverts the excitatory currents away, preventing them from \n",
    "causing depolarization.\n",
    "\n",
    "In both cases, the overall effect is to inhibit the neuron's ability to generate an action potential, \n",
    "but the exact mechanisms and impacts on the neuron's electrical activity are different.\n",
    "\n",
    "Activation of a $GABA_A$ synapse, one of the most common forms of fast inhibition in\n",
    "cortex and associated structures, increases the membrane conductance for chloride ions\n",
    "and has a reversal potential in the neighborhood of many cells' resting potential, thereby\n",
    "implementing a form of shunting inhibition.\n",
    "Shunting produces a nonlinear interaction between shunting inhibition and excitatory input. \n",
    "\n",
    "To see the effect of shunting consider the LIF with inhibitory and excitatory reversal potential $E_i, E_e$ \n",
    "respectively. Moreover let $E_i = u_{rest} = 0$"
   ]
  },
  {
   "cell_type": "markdown",
   "id": "4d0c8942",
   "metadata": {
    "editable": true
   },
   "source": [
    "$$\n",
    "\\begin{align*}\n",
    "\\tau_m \\frac{\\mathrm{d}u}{\\mathrm{d}t} &= R_m g_i u + R_m g_e (E_e - u) - u \\\\\n",
    "\\tau_m' \\frac{\\mathrm{d}u}{\\mathrm{d}t} &=  \\frac{g_{e}E_{e}}{G_{in}} - u\n",
    "\\end{align*}\n",
    "$$"
   ]
  },
  {
   "cell_type": "markdown",
   "id": "55dae9dd",
   "metadata": {},
   "source": [
    "**a)**\n",
    "Describe $G_{in}$ and $\\tau_m'$ in terms of $g_i, g_e, g_m$ and $C = \\tau_{m} / R_{m}$.\n",
    "<!-- --- begin solution of exercise --- -->\n",
    "**Solution.**"
   ]
  },
  {
   "cell_type": "markdown",
   "id": "fdf7cfff",
   "metadata": {
    "editable": true,
    "jupyter": {
     "outputs_hidden": true,
     "source_hidden": true
    },
    "tags": [
     "hide-input",
     "hide-output"
    ]
   },
   "source": [
    "Where $G_{in} = g_e + g_m - g_i$ and $\\tau_m' = \\frac{C}{G_{in}}$.\n",
    "<!-- --- end solution of exercise --- -->"
   ]
  },
  {
   "cell_type": "markdown",
   "id": "052382b2",
   "metadata": {
    "editable": true
   },
   "source": [
    "**b)**\n",
    "Describe the stady state in terms of $G_{in}$, $g_e$ and $E_e$.\n",
    "\n",
    "<!-- --- begin solution of exercise --- -->\n",
    "**Solution.**"
   ]
  },
  {
   "cell_type": "markdown",
   "id": "8718301f",
   "metadata": {
    "editable": true,
    "jupyter": {
     "outputs_hidden": true,
     "source_hidden": true
    },
    "tags": [
     "hide-input",
     "hide-output"
    ]
   },
   "source": [
    "$$\n",
    "\\begin{align*}\n",
    "u_\\infty = \\frac{g_{e}E_{e}}{G_{in}}\n",
    "\\end{align*}\n",
    "$$"
   ]
  },
  {
   "cell_type": "markdown",
   "id": "a8a5944a_2",
   "metadata": {
    "editable": true
   },
   "source": [
    "<!-- --- end solution of exercise --- -->"
   ]
  },
  {
   "cell_type": "markdown",
   "id": "06ebb786",
   "metadata": {
    "editable": true
   },
   "source": [
    "**c)**\n",
    "Describe what happens when $g_i >> g_e + g_m$\n",
    "\n",
    "<!-- --- begin solution of exercise --- -->\n",
    "**Solution.**"
   ]
  },
  {
   "cell_type": "markdown",
   "id": "99c5c105",
   "metadata": {
    "editable": true,
    "jupyter": {
     "outputs_hidden": true,
     "source_hidden": true
    },
    "tags": [
     "hide-input",
     "hide-output"
    ]
   },
   "source": [
    "$$\n",
    "\\begin{align*}\n",
    "u_\\infty = - \\frac{g_{e}E_{e}}{g_{i}}\n",
    "\\end{align*}\n",
    "$$\n",
    "since the synaptic reversal potential is equal to the resting potential $g_i$ \n",
    "only appears in the denominator. Increasing $g_i$ therefore reduces the EPSP from its peak\n",
    "value in a division-like manner.\n",
    "Moreover, increasing $g_i$, also affects the speed with which the cell converges to its steady-state, since\n",
    "the time constant decreases with increasing shunting inhibition.\n",
    "<!-- --- end solution of exercise --- -->"
   ]
  },
  {
   "cell_type": "markdown",
   "id": "fbc48a93",
   "metadata": {
    "editable": true
   },
   "source": [
    "The effect of shunting inhibition on the membrane potential of a neuron can be seen in the following example."
   ]
  },
  {
   "cell_type": "code",
   "execution_count": 7,
   "id": "324f2b08",
   "metadata": {
    "collapsed": false,
    "editable": true,
    "jupyter": {
     "outputs_hidden": false
    }
   },
   "outputs": [],
   "source": [
    "# Time vector\n",
    "time = np.arange(0, 60, 0.1)\n",
    "\n",
    "for gi in [0,1,5]:\n",
    "    # Plotting\n",
    "    gabaa_current = lambda u,t: synaptic_current(u, gi, E_gabaa)\n",
    "    ampa_current = lambda u,t: synaptic_current(u, 1, E_ampa)\n",
    "\n",
    "\n",
    "    inputs = [(gabaa_current, [0]), (ampa_current, [0])]\n",
    "\n",
    "    u_sol = odeint(du_dt_membrane, u_rest, time, args=(u_rest, 0.1, 200, inputs))\n",
    "\n",
    "    plt.plot(time, u_sol, label=f'g_i={gi}')\n",
    "\n",
    "plt.legend()"
   ]
  },
  {
   "cell_type": "markdown",
   "id": "75343b54",
   "metadata": {
    "editable": true
   },
   "source": [
    "## Exercise 6: Shunting inhibition effect on firing rate\n",
    "\n",
    "The shunting effects seen above have been proposed as a possible basis for neural computations involving division.\n",
    "\n",
    "<!-- dom:FIGURE: [figures/carandini-heeger-1994.png] <div id=\"fig:carandini-heeger-1994\"></div> In the work of Carandini and Heeger (1994) shunting inhibition was proposed as a means of  normalizing inputs in simple cells of the primary visual cortex. Their work presents a simplified model of the response properties of neurons in the visual system.  One key idea in this model is that the responses of neurons are normalized by the activity of their neighbors,  which is thought to explain various non-linear response properties observed in visual neurons.  The model can be simplified as a three-stage cascade: linear filtering, rectification, and normalization.  -->\n",
    "<!-- begin figure -->\n",
    "<div id=\"fig:carandini-heeger-1994\"></div>\n",
    "\n",
    "<img src=\"figures/carandini-heeger-1994.png\" ><p style=\"font-size: 0.9em\"><i>Figure 1:  In the work of Carandini and Heeger (1994) shunting inhibition was proposed as a means of  normalizing inputs in simple cells of the primary visual cortex. Their work presents a simplified model of the response properties of neurons in the visual system.  One key idea in this model is that the responses of neurons are normalized by the activity of their neighbors,  which is thought to explain various non-linear response properties observed in visual neurons.  The model can be simplified as a three-stage cascade: linear filtering, rectification, and normalization. Right panels show response properties of a\n",
    "simple cell in primary visual cortex of the monkey in response to drifting sinusoidal gratings. \n",
    "(A) through (D) One cycle of the response to gratings of contrast 0.125, 0.25,\n",
    "0.5, and 1.0. The cell saturates with contrast (doubling the contrast doubles the neuronal response\n",
    "when going from A to B, but not when going from C to D) and advances its response (a shift of\n",
    "about 50 msec occurs between A and D). (E) Amplitude and (F) Phase of the fundamental Fourier\n",
    "component to sinusoidal gratings drifting at 6 Hz. Shown are the responses of the cell at its preferred\n",
    "orientation (open symbols) and 20° away from the preferred orientation (solid symbols). Error bars\n",
    "represent ±1 standard deviation and the solid lines correspond to the best fit of the model equation\n",
    "that uses shunting inhibition, activated via massive feedback, to carry out this gain normalization.</i></p>\n",
    "<!-- end figure -->\n",
    "\n",
    "Carandini and Heeger proposed a simple rate equation $max(0, u-u_{rest})^2$.\n",
    "With the proposed rate equation of Carandini and Heeger we can see that the firing rate grows non-linearly with \n",
    "constant current input and shunting inhibition. With $u_{rest} = 0$ we can see that the rate output \n",
    "can be nonlinearly normalized by the shunting inhibition"
   ]
  },
  {
   "cell_type": "markdown",
   "id": "5025cd89",
   "metadata": {
    "editable": true
   },
   "source": [
    "<!-- Equation labels as ordinary links -->\n",
    "<div id=\"_auto10\"></div>\n",
    "\n",
    "$$\n",
    "\\begin{equation}\n",
    "r = \\left[\\frac{g_{e}E_{e}}{g_{i}}\\right]^2\n",
    "\\label{_auto10} \\tag{15}\n",
    "\\end{equation}\n",
    "$$"
   ]
  },
  {
   "cell_type": "markdown",
   "id": "876f191b",
   "metadata": {
    "editable": true
   },
   "source": [
    "**a)**\n",
    "Show that the firing rate of the integrate and fire model grows linearly with constant injected current\n",
    "\n",
    "**Hint:**\n",
    "The firing rate of an integrate-and-fire model in response to a constant injected current can be computed analytically. \n",
    "When $I_e$ is independent of time, the subthreshold potential $u(t)$ can be computed by solving equation \n",
    "([13](#eq:shunting_lif)) and is"
   ]
  },
  {
   "cell_type": "markdown",
   "id": "d20d5c35",
   "metadata": {
    "editable": true
   },
   "source": [
    "<!-- Equation labels as ordinary links -->\n",
    "<div id=\"_auto11\"></div>\n",
    "\n",
    "$$\n",
    "\\begin{equation}\n",
    "u(t) = u_{\\text{rest}} + R_m I_e + (u(0) - u_{\\text{rest}} - R_m I_e) \\exp(-t/\\tau_m)\n",
    "\\label{_auto11} \\tag{16}\n",
    "\\end{equation}\n",
    "$$"
   ]
  },
  {
   "cell_type": "markdown",
   "id": "21721c82",
   "metadata": {
    "editable": true
   },
   "source": [
    "where $u(0)$ is the value of u at time $t = 0$.\n",
    "It is valid for the integrate-and-fire model only as long as $u$ stays below the threshold. \n",
    "Suppose that at $t = 0$, the neuron has just fired an action potential and is thus at the reset potential, \n",
    "so that $u(0) = u_{\\text{reset}}$. The next action potential will occur when the membrane potential reaches the \n",
    "threshold, that is, at a time $t = t_{\\text{isi}}$\n",
    "\n",
    "<!-- --- begin solution of exercise --- -->\n",
    "**Solution.**"
   ]
  },
  {
   "cell_type": "markdown",
   "id": "0bb29ffe",
   "metadata": {
    "editable": true,
    "jupyter": {
     "outputs_hidden": true,
     "source_hidden": true
    },
    "tags": [
     "hide-input",
     "hide-output"
    ]
   },
   "source": [
    "<!-- Equation labels as ordinary links -->\n",
    "<div id=\"_auto12\"></div>\n",
    "\n",
    "$$\n",
    "\\begin{equation}\n",
    "u(t_{\\text{isi}}) = u_{\\text{th}} = u_{\\text{rest}} + R_m I_e + (u_{\\text{reset}} - u_{\\text{rest}} - R_m I_e) \n",
    "\\exp(-t_{\\text{isi}}/\\tau_m)\n",
    "\\label{_auto12} \\tag{17}\n",
    "\\end{equation}\n",
    "$$\n",
    "By solving this for $t_{\\text{isi}}$, the time of the next action potential, we can determine the interspike \n",
    "interval for constant $I_e$, or equivalently its inverse, which we call the interspike-interval firing rate of \n",
    "the neuron,\n",
    "<!-- Equation labels as ordinary links -->\n",
    "<div id=\"_auto13\"></div>\n",
    "\n",
    "$$\n",
    "\\begin{equation}\n",
    "r_{\\text{isi}} = \\frac{1}{t_{\\text{isi}}} = \\frac{1}{\\tau_m} \\ln \\left( \\frac{R_m I_e + u_{\\text{rest}} - \n",
    "u_{\\text{reset}}}{R_m I_e + u_{\\text{rest}} - u_{\\text{th}}} \\right)\n",
    "\\label{_auto13} \\tag{18}\n",
    "\\end{equation}\n",
    "$$\n",
    "This expression is valid if $R_m I_e > u_{\\text{th}} - u_{\\text{rest}}$, otherwise $r_{\\text{isi}} = 0$. \n",
    "For sufficiently large values of $I_e$, we can use the linear approximation of the logarithm ($\\ln(1 + z ) \\approx z$ \n",
    "for small $z$) to show that\n",
    "<!-- Equation labels as ordinary links -->\n",
    "<div id=\"_auto14\"></div>\n",
    "\n",
    "$$\n",
    "\\begin{equation}\n",
    "r_{\\text{isi}} \\approx \\frac{u_{\\text{rest}} - u_{\\text{th}} + R_m I_e}{\\tau_m (u_{\\text{th}} - u_{\\text{reset}})}\n",
    "\\label{_auto14} \\tag{19}\n",
    "\\end{equation}\n",
    "$$\n",
    "which shows that the firing rate grows linearly with $I_e$ for large $I_e$.\n",
    "<!-- --- end solution of exercise --- -->"
   ]
  },
  {
   "cell_type": "markdown",
   "id": "71802880",
   "metadata": {
    "editable": true
   },
   "source": [
    "**b)**\n",
    "Show that the firing rate of the integrate and fire model grows linearly with constant injected current\n",
    "using brian2"
   ]
  },
  {
   "cell_type": "code",
   "execution_count": 8,
   "id": "d8425fb0",
   "metadata": {
    "collapsed": false,
    "editable": true,
    "jupyter": {
     "outputs_hidden": false
    }
   },
   "outputs": [],
   "source": [
    "# Define the model\n",
    "tau = 20*ms\n",
    "u_rest = -70*mV\n",
    "u_th = -50*mV\n",
    "R = 100*Mohm\n",
    "duration = 1*second\n",
    "model = '''\n",
    "du/dt = code here : volt\n",
    "I : amp\n",
    "'''"
   ]
  },
  {
   "cell_type": "markdown",
   "id": "ec22f68f_1",
   "metadata": {
    "editable": true,
    "jupyter": {
     "outputs_hidden": true
    },
    "tags": [
     "hide-input",
     "hide-output"
    ]
   },
   "source": [
    "<!-- --- begin solution of exercise --- -->\n",
    "**Solution.**"
   ]
  },
  {
   "cell_type": "code",
   "execution_count": 10,
   "id": "8bc072ad",
   "metadata": {
    "editable": true,
    "jupyter": {
     "source_hidden": true
    },
    "tags": [
     "hide-input",
     "hide-output"
    ]
   },
   "outputs": [],
   "source": [
    "model = '''\n",
    "du/dt = (-(u-u_rest) + R*I)/tau : volt\n",
    "I : amp\n",
    "'''\n",
    "# Create a neuron group\n",
    "neurons = NeuronGroup(100, model, threshold='u>u_th', reset='u=u_rest', method='linear')\n",
    "neurons.u = u_rest\n",
    "\n",
    "# Apply a range of constant input currents\n",
    "neurons.I = linspace(0*nA, 1*nA, 100)\n",
    "\n",
    "# Record spikes\n",
    "spikes = SpikeMonitor(neurons)\n",
    "\n",
    "# Run simulation\n",
    "run(duration)\n",
    "\n",
    "# Compute firing rates\n",
    "firing_rates = spikes.count / duration\n",
    "\n",
    "# Plot firing rate vs input current\n",
    "plot(neurons.I/nA, firing_rates/Hz, '.')\n",
    "xlabel('I (nA)')\n",
    "ylabel('Firing rate (Hz)')\n",
    "show()"
   ]
  },
  {
   "cell_type": "markdown",
   "id": "a8a5944a_3",
   "metadata": {
    "editable": true
   },
   "source": [
    "<!-- --- end solution of exercise --- -->"
   ]
  },
  {
   "cell_type": "markdown",
   "id": "5a4c37cd",
   "metadata": {
    "editable": true,
    "tags": []
   },
   "source": [
    "**c)**\n",
    "What is the effect of shunting inhibition on the integrate-and-fire neurons in terms of firing rate?\n",
    "In this exercise we will look closely at the proposed model of Carandini and Heeger to see if we \n",
    "can verify or falsify their claims.\n",
    "\n",
    "<!-- --- begin solution of exercise --- -->\n",
    "**Solution.**"
   ]
  },
  {
   "cell_type": "markdown",
   "id": "a75c14a2",
   "metadata": {
    "editable": true,
    "jupyter": {
     "outputs_hidden": true,
     "source_hidden": true
    },
    "tags": [
     "hide-input",
     "hide-output"
    ]
   },
   "source": [
    "The firing rate grows linearly with shunting inhibition.\n",
    "Assume that synaptic input is arriving at a sufficient rate to maintain a relatively constant value of $g_i$. \n",
    "In this case, shunting amounts to changing the value of the membrane resistance from $R_m$ to \n",
    "$\\frac{R_m}{1 + R_m g_i}$. \n",
    "Recalling the equation for the firing rate of the integrate-and-fire model and the fact that $\\tau_m = C_m R_m$, \n",
    "we can write the firing rate in a form that reveals its dependence on $R_m$,\n",
    "<!-- Equation labels as ordinary links -->\n",
    "<div id=\"_auto15\"></div>\n",
    "\n",
    "$$\n",
    "\\begin{equation}\n",
    "r_{\\text{isi}} \\approx \\frac{u_{\\text{rest}} - u_{\\text{th}}}{C_m R_m (u_{\\text{th}} - u_{\\text{reset}})} + \n",
    "\\frac{I_e}{C_m (u_{\\text{th}} - u_{\\text{reset}})}\n",
    "\\label{_auto15} \\tag{20}\n",
    "\\end{equation}\n",
    "$$\n",
    "Changing $R_m$ only modifies the constant term in this equation, it has no effect on the dependence of the firing \n",
    "rate on $I_e$.\n",
    "\n",
    "We can also show this using the Brian2 simulator\n",
    "<!-- --- end solution of exercise --- -->"
   ]
  },
  {
   "cell_type": "markdown",
   "id": "0931ed31",
   "metadata": {
    "editable": true,
    "jupyter": {
     "outputs_hidden": true
    },
    "tags": [
     "hide-input",
     "hide-output"
    ]
   },
   "source": [
    "**d)**\n",
    "Show that the firing rate of the integrate and fire model grows linearly with constant injected current \n",
    "during shunting inhibition"
   ]
  },
  {
   "cell_type": "code",
   "execution_count": 11,
   "id": "195dd865",
   "metadata": {
    "collapsed": false,
    "editable": true,
    "jupyter": {
     "outputs_hidden": false
    }
   },
   "outputs": [],
   "source": [
    "start_scope()\n",
    "# Define the model\n",
    "duration = 1.0*second  # Total simulation time\n",
    "sim_dt = 0.1*ms        # Integrator/sampling step\n",
    "\n",
    "### Neuron parameters\n",
    "u_rest = -60*mV        # Leak reversal potential\n",
    "g_l = 10*nS          # Leak conductance\n",
    "E_i = -70*mV           # Inhibitory synaptic reversal potential\n",
    "C_m = 1500*pF           # Membrane capacitance\n",
    "u_th = -50*mV          # Firing threshold\n",
    "model = '''\n",
    "du/dt = code here : volt\n",
    "I : amp\n",
    "g_i : siemens\n",
    "'''"
   ]
  },
  {
   "cell_type": "markdown",
   "id": "ec22f68f_2",
   "metadata": {
    "editable": true
   },
   "source": [
    "<!-- --- begin solution of exercise --- -->\n",
    "**Solution.**"
   ]
  },
  {
   "cell_type": "code",
   "execution_count": 13,
   "id": "9f14bac8",
   "metadata": {
    "editable": true,
    "jupyter": {
     "source_hidden": true
    },
    "tags": [
     "hide-input",
     "hide-output"
    ]
   },
   "outputs": [],
   "source": [
    "model = '''\n",
    "du/dt = (I + g_l*(u_rest-u) + g_i*(E_i-u))/C_m : volt\n",
    "I : amp\n",
    "g_i : siemens\n",
    "'''\n",
    "# Create a neuron group\n",
    "neurons = NeuronGroup(700, model, threshold='u>u_th', reset='u=u_rest', method='euler')\n",
    "neurons.u = u_rest\n",
    "\n",
    "# Apply a range of constant input currents\n",
    "neurons.I = tile(linspace(0*nA, 1.5*nA, 100), 7)\n",
    "g_is = arange(10*nS, 70*nS, 10*nS)\n",
    "neurons.g_i = g_is.repeat(100)  # range of membrane resistances\n",
    "\n",
    "# Record spikes\n",
    "spikes = SpikeMonitor(neurons)\n",
    "\n",
    "# Run simulation\n",
    "run(duration)\n",
    "\n",
    "# Compute firing rates\n",
    "firing_rates = spikes.count / duration\n",
    "\n",
    "# Plot firing rate vs input current\n",
    "for g_i, I, f in zip(g_is, reshape(neurons.I/nA, (7,100)), reshape(firing_rates/Hz, (7,100))):\n",
    "    plot(I, f, label=f'{g_i}')\n",
    "xlabel('I (nA)')\n",
    "ylabel('Firing rate (Hz)')\n",
    "ylim(0,110)\n",
    "legend()"
   ]
  },
  {
   "cell_type": "markdown",
   "id": "a8a5944a_4",
   "metadata": {
    "editable": true,
    "jupyter": {
     "outputs_hidden": true
    },
    "tags": [
     "hide-input",
     "hide-output"
    ]
   },
   "source": [
    "<!-- --- end solution of exercise --- -->"
   ]
  },
  {
   "cell_type": "markdown",
   "id": "4d436a61",
   "metadata": {
    "editable": true
   },
   "source": [
    "**e)**\n",
    "The results discussed above assume that the synaptic input changes slowly. It is at\n",
    "present unclear what the effect of very high, but transient input frequencies to the inhibitory\n",
    "synapses will be.\n",
    "\n",
    "Explore with the Brian2 simulator the effect of transient excitatory and shunting inhibitory input,\n",
    "make a final conclusion about the hypothesis that contrast normalization is\n",
    "implemented using the natural properties of conductance-increasing synapses"
   ]
  },
  {
   "cell_type": "markdown",
   "id": "758080a8",
   "metadata": {
    "editable": true,
    "jupyter": {
     "outputs_hidden": true
    },
    "tags": [
     "hide-input",
     "hide-output"
    ]
   },
   "source": [
    "<!-- --- begin solution of exercise --- -->\n",
    "**Solution.**"
   ]
  },
  {
   "cell_type": "markdown",
   "id": "305ce145-1eab-48ee-9853-5228987bdb92",
   "metadata": {
    "jupyter": {
     "source_hidden": true
    },
    "tags": []
   },
   "source": [
    "Shunting inhibition acts in a linear, subtractive manner\n",
    "when treated within the context of a spiking neuron, rather than in the saturating manner we\n",
    "are accustomed to from a passive membrane. This is a natural consequence of the biophysics\n",
    "of spike generation and throws doubt onto the hypothesis that contrast normalization is\n",
    "implemented using the natural properties of conductance-increasing synapses."
   ]
  },
  {
   "cell_type": "code",
   "execution_count": 14,
   "id": "873d3577",
   "metadata": {
    "editable": true,
    "jupyter": {
     "source_hidden": true
    },
    "tags": [
     "hide-input",
     "hide-output"
    ]
   },
   "outputs": [],
   "source": [
    "start_scope()\n",
    "seed(11922)  # to get identical figures for repeated runs\n",
    "\n",
    "################################################################################\n",
    "# Model parameters\n",
    "################################################################################\n",
    "### General parameters\n",
    "duration = 1.0*second  # Total simulation time\n",
    "sim_dt = 0.01*ms        # Integrator/sampling step\n",
    "N_e = 800             # Number of excitatory neurons\n",
    "N_i = 200              # Number of inhibitory neurons\n",
    "\n",
    "### Neuron parameters\n",
    "u_rest = -60*mV        # Leak reversal potential\n",
    "g_l = 10*nS          # Leak conductance\n",
    "E_e = 0*mV             # Excitatory synaptic reversal potential\n",
    "E_i = -60*mV             # Inhibitory synaptic reversal potential\n",
    "C_m = 1500*pF           # Membrane capacitance\n",
    "tau_m = C_m/g_l         # milliseconds\n",
    "tau_e = 5*ms           # Excitatory synaptic time constant\n",
    "tau_i = 10*ms          # Inhibitory synaptic time constant\n",
    "tau_r = 5*ms           # Refractory period\n",
    "u_th = 50*mV          # Firing threshold\n",
    "\n",
    "### Synapse parameters\n",
    "w_e = 0.01*nS          # Excitatory synaptic conductance\n",
    "w_i = 0.1*nS           # Inhibitory synaptic conductance\n",
    "\n",
    "################################################################################\n",
    "# Model definition\n",
    "################################################################################\n",
    "# Set the integration time (in this case not strictly necessary, since we are\n",
    "# using the default value)\n",
    "defaultclock.dt = sim_dt\n",
    "\n",
    "### Neurons\n",
    "neuron_eqs = '''\n",
    "du/dt = (g_l*(u_rest-u) + g_e*(E_e-u_rest) + g_i*(E_i-u))/C_m    : volt (unless refractory)\n",
    "dg_e/dt = -g_e/tau_e  : siemens  # post-synaptic exc. conductance\n",
    "dg_i/dt = -g_i/tau_i  : siemens  # post-synaptic exc. conductance\n",
    "'''\n",
    "neurons = NeuronGroup(70, model=neuron_eqs,\n",
    "                      threshold='u>u_th', reset='u=u_rest',\n",
    "                      refractory='tau_r', method='euler')\n",
    "# Random initial membrane potential values and conductances\n",
    "neurons.u = 'u_rest'\n",
    "neurons.g_e = 'w_e'\n",
    "neurons.g_i = 'w_i'\n",
    "\n",
    "exc_neurons =  PoissonGroup(70, arange(1000, 4500, 50)*Hz)\n",
    "inh_neurons =  PoissonGroup(70, arange(500, 1200, 10)*Hz)\n",
    "\n",
    "exc_syn = Synapses(exc_neurons, neurons, on_pre='g_e += w_e')\n",
    "inh_syn = Synapses(inh_neurons, neurons, on_pre='g_i += w_i')\n",
    "\n",
    "exc_syn.connect(j='i')\n",
    "inh_syn.connect(j='i')\n",
    "\n",
    "# Record spikes\n",
    "spikes = SpikeMonitor(neurons)\n",
    "exc_spikes = SpikeMonitor(exc_neurons)\n",
    "inh_spikes = SpikeMonitor(inh_neurons)\n",
    "\n",
    "# Record conductances and membrane potential of neuron ni\n",
    "state_mon = StateMonitor(neurons, ['u', 'g_e', 'g_i'], record=True)\n",
    "\n",
    "\n",
    "# Run simulation\n",
    "run(duration)\n",
    "\n",
    "# Compute firing rates\n",
    "firing_rates = spikes.count / duration\n",
    "exc_firing_rates = exc_spikes.count / duration\n",
    "inh_firing_rates = inh_spikes.count / duration"
   ]
  },
  {
   "cell_type": "markdown",
   "id": "a8a5944a_5",
   "metadata": {
    "editable": true
   },
   "source": [
    "<!-- --- end solution of exercise --- -->"
   ]
  }
 ],
 "metadata": {
  "kernelspec": {
   "display_name": "Python 3 (ipykernel)",
   "language": "python",
   "name": "python3"
  },
  "language_info": {
   "codemirror_mode": {
    "name": "ipython",
    "version": 3
   },
   "file_extension": ".py",
   "mimetype": "text/x-python",
   "name": "python",
   "nbconvert_exporter": "python",
   "pygments_lexer": "ipython3",
   "version": "3.9.1"
  }
 },
 "nbformat": 4,
 "nbformat_minor": 5
}
