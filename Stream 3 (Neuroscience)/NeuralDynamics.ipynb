{
 "cells": [
  {
   "cell_type": "markdown",
   "id": "45230fd5",
   "metadata": {
    "editable": true
   },
   "source": [
    "<!-- File automatically generated using DocOnce (https://github.com/doconce/doconce/):\n",
    "doconce format ipynb NeuralDynamics.do.txt --no_abort -->\n",
    "\n",
    "## Neurons\n",
    "Neurons can be characterized and classified based on morphology, electrophysiology, and genotypes, \n",
    "each of which provides a different perspective on neuronal diversity.\n",
    "\n",
    "Morphology: The shape and structure of a neuron, including the size and branching pattern of its dendrites and the \n",
    "length and trajectory of its axon. \n",
    "For instance, pyramidal cells in the cortex have large apical dendrites extending towards the \n",
    "cortical surface and multiple basal dendrites, while Purkinje cells in the cerebellum have a single, \n",
    "elaborately branched dendritic tree. These morphological characteristics might provide the neurons' distinct \n",
    "roles in their respective circuits.\n",
    "\n",
    "Electrophysiology: The electrical properties of a neuron, including its firing patterns in response to various \n",
    "stimuli and the properties of its action potentials, can also be used to classify it. \n",
    "For instance, some neurons exhibit adaptation, decreasing their firing rate in response to a sustained \n",
    "stimulus, while others exhibit different patterns like tonic firing or bursting. The presence and properties of \n",
    "various ion channels contribute to these electrophysiological characteristics.\n",
    "\n",
    "Genotypes: The genetic profile of a neuron, including the genes it expresses, can provide important \n",
    "insights into its identity and function. For example, certain types of interneurons in the cortex can be identified \n",
    "by their expression of specific marker genes like parvalbumin or somatostatin. Parvalbumin positive inhibitory interneurons\n",
    "are typically fast spiking neurons with somatic synaptic targets. Genomic technologies like single-cell \n",
    "RNA sequencing are increasingly being used to characterize the genetic profiles of neurons, leading to the discovery \n",
    "of numerous distinct neuronal subtypes.\n",
    "\n",
    "It's important to note that these three aspects of neuronal identity - morphology, electrophysiology, and genotype - \n",
    "are interrelated and often correlate with each other. For instance, a neuron's genetic profile can influence its \n",
    "morphology and electrophysiological properties by determining the types of ion channels it expresses. Similarly, a \n",
    "neuron's morphology can influence its electrophysiological properties by affecting the spread of electrical signals \n",
    "through its dendritic tree.\n",
    "\n",
    "Therefore, a comprehensive understanding of neuronal diversity requires considering all three aspects - morphology, \n",
    "electrophysiology, and genotype. This multi-faceted approach is leading to increasingly detailed and nuanced \n",
    "classifications of neuronal types, shedding light on the remarkable diversity of the brain's cellular landscape."
   ]
  },
  {
   "cell_type": "markdown",
   "id": "278332c8",
   "metadata": {
    "editable": true
   },
   "source": [
    "## Ion channels\n",
    "Ion channels are fundamental components of neurons, playing a critical role in electrophysiological characteristics. \n",
    "These tiny protein structures, embedded in the neuron's cell membrane, act as gatekeepers, regulating the flow of ions \n",
    "in and out of the cell. The opening and closing of these channels, controlled by various factors such as voltage or \n",
    "chemical signals, influence the neuron's membrane potential. It is this balance of ionic flux, primarily of \n",
    "sodium (Na+), potassium (K+), and chloride (Cl-) ions, that dictates whether a neuron will fire an action potential, \n",
    "the basic unit of information in the brain.\n",
    "\n",
    "The study of ion channels is not merely about understanding their individual function, but also about deciphering their \n",
    "collective behavior and how they interact within complex neural networks. The dynamics of single neurons are largely \n",
    "governed by the interplay of different types of ion channels, each with unique properties and functions. For example, \n",
    "voltage-gated sodium and potassium channels are primarily responsible for the generation and propagation of action \n",
    "potentials, while ligand-gated channels are crucial in synaptic transmission.\n",
    "\n",
    "A pioneering work that laid the foundation for our understanding of ion channel function and neural dynamics is the \n",
    "Hodgkin-Huxley model, proposed by Alan Hodgkin and Andrew Huxley in the early 1950s. Their model was based on \n",
    "experimental data from the giant squid axon, a model system that allowed them to record changes in membrane potential \n",
    "and ionic currents with unprecedented detail.\n",
    "\n",
    "The Hodgkin-Huxley model describes how action potentials are generated and propagated along the axon. \n",
    "In their model, the membrane's electrical properties are represented by equivalent electrical circuits with \n",
    "voltage-gated sodium and potassium channels modeled as variable resistors whose resistance (or conductance) \n",
    "changes with voltage and time. The model also includes a fixed 'leak' conductance, which accounts for the passive \n",
    "diffusion of ions across the membrane.\n",
    "\n",
    "The sequence of events in the generation of an action potential can be summarized as follows:\n",
    "\n",
    "**Resting state:** The neuron is at rest, and most of the voltage-gated sodium and potassium channels are closed. \n",
    "The neuron maintains a resting membrane potential, typically around -70 mV.\n",
    "\n",
    "**Depolarization:** If a sufficient stimulus is applied, the membrane potential rises, triggering the opening of \n",
    "voltage-gated sodium channels. This results in an influx of sodium ions into the cell, causing further depolarization.\n",
    "\n",
    "**Repolarization:** After reaching a threshold, typically around -55 mV, the sodium channels become inactivated and \n",
    "potassium channels open, allowing potassium ions to flow out of the cell. This efflux of potassium ions repolarizes \n",
    "the membrane, returning it towards the resting potential.\n",
    "\n",
    "**Hyperpolarization:** The potassium channels close slowly, resulting in a temporary 'overshoot' of the membrane potential, \n",
    "known as hyperpolarization.\n",
    "\n",
    "**Return to resting state:** The sodium channels recover from inactivation, and the membrane potential returns to the \n",
    "resting level, ready for the next action potential.\n",
    "\n",
    "The Hodgkin-Huxley model was a significant breakthrough in neuroscience, providing a quantitative framework for \n",
    "understanding the basic principles of neural excitability and dynamics at the single neuron level. It paved the way \n",
    "for more sophisticated models that account for a broader range of ion channels and neuronal types, and that can \n",
    "simulate the complex dynamics of neural networks. As we delve deeper into the study of neuroscience, we will continue \n",
    "to explore these concepts and models, striving to uncover the intricate workings of the brain.\n",
    "\n",
    "The response dynamics of neurons are shaped by the different types of ion channels present in their membrane. \n",
    "These channels determine the neuron's characteristic response to inputs, including whether it fires rapidly or \n",
    "slowly, whether it adapts or maintains a steady firing rate in response to a constant stimulus, and whether it \n",
    "exhibits bursting behavior, among others.\n",
    "\n",
    "In summary, the presence and interplay of different types of ion channels in a neuron's membrane determine its dynamic \n",
    "response to stimuli. These channels not only shape the neuron's individual behavior but also contribute to the overall \n",
    "dynamics and function of the neural networks in which the neuron participates. It is through the intricate balance of \n",
    "these ionic processes that complex neural behaviors emerge, highlighting the fundamental role of ion channels in the \n",
    "operation of the nervous system."
   ]
  },
  {
   "cell_type": "markdown",
   "id": "80550bb2",
   "metadata": {
    "editable": true
   },
   "source": [
    "## Phase plane analysis of neural dynamics\n",
    "In this section we will start out with the Hodgkin-Huxley (HH) model containing four variables \n",
    "and reduce it first to a system of two variables and finaly to a system of one variable, introducing\n",
    "the leaky integrate and fire model.\n",
    "\n",
    "The HH model is given by"
   ]
  },
  {
   "cell_type": "markdown",
   "id": "08c9afe0",
   "metadata": {
    "editable": true
   },
   "source": [
    "<!-- Equation labels as ordinary links -->\n",
    "<div id=\"eq:HH\"></div>\n",
    "\n",
    "$$\n",
    "\\begin{equation}\n",
    "    \\label{eq:HH} \\tag{1}\n",
    "    C\\frac{\\mathrm{d}u}{\\mathrm{d}t} = -g_{Na}m^3h(u - E_{Na}) - g_Kn^4(u - E_K) - g_L(u - E_L) + I(t)\n",
    "\\end{equation}\n",
    "$$"
   ]
  },
  {
   "cell_type": "markdown",
   "id": "d24879e1",
   "metadata": {
    "editable": true
   },
   "source": [
    "Where $u$ is the membrane potential, $C$ is the membrane capacitance, $g_x,E_x$ are conductance and reversal potential for \n",
    "ion species $x$ respectively.\n",
    "The gating variables $n,m,h$ evolve according to the differential equation"
   ]
  },
  {
   "cell_type": "markdown",
   "id": "4aa38470",
   "metadata": {
    "editable": true
   },
   "source": [
    "<!-- Equation labels as ordinary links -->\n",
    "<div id=\"eq:channel_gate\"></div>\n",
    "\n",
    "$$\n",
    "\\begin{align*}\n",
    "    \\tau_x(u)\\frac{\\mathrm{d}x}{\\mathrm{d}t} = -(x-x_0(u))\n",
    "    \\label{eq:channel_gate} \\tag{2}\n",
    "\\end{align*}\n",
    "$$"
   ]
  },
  {
   "cell_type": "markdown",
   "id": "352ff86a",
   "metadata": {
    "editable": true
   },
   "source": [
    "That is, for a fixed voltage $u$, the variable $x$ approaches the asymptotic value $x_0(u)$ with a time constant $\\tau_x(u)$. \n",
    "The voltage dependence of the time constant and asymptotic value are given by"
   ]
  },
  {
   "cell_type": "markdown",
   "id": "e28d44d6",
   "metadata": {
    "editable": true
   },
   "source": [
    "$$\n",
    "\\begin{align*}\n",
    "    x_0(u) &= \\frac{\\alpha_x(u)}{\\alpha_x(u)+\\beta_x(u)}\\\\\n",
    "    \\tau_x(u) &= (\\alpha_x(u) + \\beta_x(u))^{-1}\n",
    "\\end{align*}\n",
    "$$"
   ]
  },
  {
   "cell_type": "markdown",
   "id": "c493f71e",
   "metadata": {
    "editable": true
   },
   "source": [
    "To plot the gating variables as a function of voltage, we first define the functions $\\alpha_x(u)$ and $\\beta_x(u)$.\n",
    "These functions are parameterized by electrophysiological data from pyramidal neurons of the cortex. \n",
    "The parameters for $n$ and $m$ were fitted by Zach Mainen [[Mainen1995]](#Mainen1995) on experiments reported by Huguenard et al. \n",
    "[[Huguenard1988]](#Huguenard1988) and the parameters for h by Richard Naud on the experiments reported in Hamill et al. [[Hamill1991]](#Hamill1991). \n",
    "Voltage is measured in mV and the membrane capacity is C=1μF/cm2, adapted from [[Gerstner2014]](#Gerstner2014)."
   ]
  },
  {
   "cell_type": "code",
   "execution_count": 1,
   "id": "eea8db5e",
   "metadata": {
    "collapsed": false,
    "editable": true,
    "jupyter": {
     "outputs_hidden": false
    }
   },
   "outputs": [],
   "source": [
    "%matplotlib inline\n",
    "\n",
    "import numpy as np\n",
    "import matplotlib.pyplot as plt\n",
    "\n",
    "def alpha_x(u, x):\n",
    "    if x == 'n':\n",
    "        return 0.02 * (u - 25) / (1 - np.exp(-(u - 25) / 9))\n",
    "    elif x == 'm':\n",
    "        return 0.182 * (u + 35) / (1 - np.exp(-(u + 35) / 9))\n",
    "    elif x == 'h':\n",
    "        return 0.25 * np.exp(-(u + 90) / 12)\n",
    "    else:\n",
    "        raise ValueError(\"Invalid value for x. Choose from 'n', 'm', or 'h'.\")\n",
    "\n",
    "def beta_x(u, x):\n",
    "    if x == 'n':\n",
    "        return -0.002 * (u - 25) / (1 - np.exp((u - 25) / 9))\n",
    "    elif x == 'm':\n",
    "        return -0.124 * (u + 35) / (1 - np.exp((u + 35) / 9))\n",
    "    elif x == 'h':\n",
    "        return 0.25 * np.exp((u + 62) / 6) / np.exp((u + 90) / 12)\n",
    "    else:\n",
    "        raise ValueError(\"Invalid value for x. Choose from 'n', 'm', or 'h'.\")\n",
    "\n",
    "def x0(u, x):\n",
    "    alpha = alpha_x(u, x)\n",
    "    beta = beta_x(u, x)\n",
    "    return alpha / (alpha + beta)\n",
    "\n",
    "def tau_x(u, x):\n",
    "    alpha = alpha_x(u, x)\n",
    "    beta = beta_x(u, x)\n",
    "    return 1 / (alpha + beta)"
   ]
  },
  {
   "cell_type": "code",
   "execution_count": 2,
   "id": "3baed263",
   "metadata": {
    "collapsed": false,
    "editable": true,
    "jupyter": {
     "outputs_hidden": false
    }
   },
   "outputs": [],
   "source": [
    "u_range = np.linspace(-100, 100, 1000)\n",
    "\n",
    "fig, (ax1, ax2) = plt.subplots(1, 2, figsize=(12, 5))\n",
    "\n",
    "for x in ['n', 'm', 'h']:\n",
    "    x0_values = [x0(u, x) for u in u_range]\n",
    "    tau_x_values = [tau_x(u, x) for u in u_range]\n",
    "    \n",
    "    ax1.plot(u_range, x0_values, label=f'{x}')\n",
    "    ax2.plot(u_range, tau_x_values, label=f'{x}')\n",
    "\n",
    "ax1.set_title('Steady-state value ($x_0$) vs. Voltage ($u$)')\n",
    "ax1.set_xlabel('Voltage ($u$)')\n",
    "ax1.set_ylabel('$x_0$')\n",
    "ax1.legend()\n",
    "\n",
    "ax2.set_title('Time constant ($\\\\tau_x$) vs. Voltage ($u$)')\n",
    "ax2.set_xlabel('Voltage ($u$)')\n",
    "ax2.set_ylabel('$\\\\tau_x$')\n",
    "ax2.legend()"
   ]
  },
  {
   "cell_type": "markdown",
   "id": "755e5c7c",
   "metadata": {
    "editable": true
   },
   "source": [
    "By looking closely at these plots we can observe two qualitative aspects."
   ]
  },
  {
   "cell_type": "markdown",
   "id": "15c06d16",
   "metadata": {
    "editable": true
   },
   "source": [
    "## Exercise 1: Qualitative analysis of the gating variables"
   ]
  },
  {
   "cell_type": "markdown",
   "id": "60254a42",
   "metadata": {
    "editable": true
   },
   "source": [
    "**a)**\n",
    "First, from the time constants, the dynamics of the gating variable $m$ is faster than those of $n$ and $h$. \n",
    "Furthermore, the time scale of $m$ is quick compared to the membrane time constant $\\tau = \\frac{C}{g_L}$ \n",
    "for a passive membrane, characterizing voltage $u$ evolution when all channels are closed.\n",
    "\n",
    "Make a quasi steady state approximation for $m$.\n",
    "\n",
    "<!-- --- begin solution of exercise --- -->\n",
    "**Solution.**"
   ]
  },
  {
   "cell_type": "markdown",
   "id": "c42a5f7f-4221-4c44-8c4c-f706b309193a",
   "metadata": {
    "jupyter": {
     "source_hidden": true
    },
    "tags": []
   },
   "source": [
    "The rapid time scale of $m$ implies that it can be treated as an instantaneous variable, \n",
    "replacing variable $m$ in Eq. ([1](#eq:HH)) with its steady-state value, $m(t) \\rightarrow m_0[u(t)]$. \n",
    "This is a quasi steady state approximation enabled by the separation of time scales between fast and slow variables.\n",
    "<!-- --- end solution of exercise --- -->"
   ]
  },
  {
   "cell_type": "markdown",
   "id": "2d9695af",
   "metadata": {
    "editable": true
   },
   "source": [
    "**b)**\n",
    "Second, time constants $\\tau_n(u)$ and $\\tau_h(u)$ exhibit similar dynamics over voltage $u$. \n",
    "Additionally, the graphs of $n_0(u)$ and $1 - h_0(u)$ are alike. \n",
    "\n",
    "Define a single effective variable $w$ to account for the dynamics of $n$ and $h$.\n",
    "\n",
    "<!-- --- begin solution of exercise --- -->\n",
    "**Solution.**"
   ]
  },
  {
   "cell_type": "markdown",
   "id": "447c97b3-f93b-4d8c-9955-6b70290d0850",
   "metadata": {
    "jupyter": {
     "source_hidden": true
    },
    "tags": []
   },
   "source": [
    "Approximating variables $n$ and $(1 - h)$ with a single effective variable $w$ seems reasonable. \n",
    "Using a linear approximation $(b - h) \\approx an$ with constants $a, b$, we set $w = b - h = an$.\n",
    "<!-- --- end solution of exercise --- -->"
   ]
  },
  {
   "cell_type": "markdown",
   "id": "ba4a0b1e",
   "metadata": {
    "editable": true
   },
   "source": [
    "**c)**\n",
    "Write the HH model with the quasi steady state approximation for $m$ and the effective variable $w$.\n",
    "\n",
    "<!-- --- begin solution of exercise --- -->\n",
    "**Solution.**"
   ]
  },
  {
   "cell_type": "markdown",
   "id": "4ceabbad-7d28-4487-8c37-e3e57c5e4a6d",
   "metadata": {
    "jupyter": {
     "source_hidden": true
    },
    "tags": []
   },
   "source": [
    "With $h = b - w$, $n = \\frac{w}{a}$, and $m = m_0(u)$, the HH model becomes\n",
    "$$\n",
    "C\\frac{\\mathrm{d}u}{\\mathrm{d}t} = -g_{Na}[m_0(u)]^3(b - w)(u - E_{Na}) - g_K\\left(\\frac{w}{a}\\right)^4(u - E_K) - g_L(u - E_L) + I\n",
    "$$\n",
    "<!-- --- end solution of exercise --- -->"
   ]
  },
  {
   "cell_type": "markdown",
   "id": "ef4b87de",
   "metadata": {
    "editable": true
   },
   "source": [
    "Considering Eq. ([2](#eq:channel_gate)), the $m$ equation vanishes since $m$ is treated as instantaneous. \n",
    "Instead of two equations for $n$ and $h$, we have a single effective equation for $w$. \n",
    "The HH model is thus reduced to the system"
   ]
  },
  {
   "cell_type": "markdown",
   "id": "4d893ba8",
   "metadata": {
    "editable": true
   },
   "source": [
    "<!-- Equation labels as ordinary links -->\n",
    "<div id=\"eq:HHtwo_1\"></div>\n",
    "\n",
    "$$\n",
    "\\begin{equation}\n",
    "    \\tau_u\\frac{\\mathrm{d}u}{\\mathrm{d}t} = [F(u, w) + RI], \\label{eq:HHtwo_1} \\tag{3}\n",
    "\\end{equation}\n",
    "$$"
   ]
  },
  {
   "cell_type": "markdown",
   "id": "d07a0ccf",
   "metadata": {
    "editable": true
   },
   "source": [
    "<!-- Equation labels as ordinary links -->\n",
    "<div id=\"eq:HHtwo_2\"></div>\n",
    "\n",
    "$$\n",
    "\\begin{equation} \n",
    "    \\tau_w\\frac{\\mathrm{d}w}{\\mathrm{d}t} = G(u, w)\n",
    "    \\label{eq:HHtwo_2} \\tag{4}\n",
    "\\end{equation}\n",
    "$$"
   ]
  },
  {
   "cell_type": "markdown",
   "id": "4b7c2d82",
   "metadata": {
    "editable": true
   },
   "source": [
    "with $R = \\frac{1}{g_L}$, $\\tau_u = RC$, and some functions $F$, $\\tau_w$ is a parameter and $G$\n",
    "is a function that interpolates between $\\frac{\\mathrm{d}n}{\\mathrm{d}t}$ and $\\frac{\\mathrm{d}h}{\\mathrm{d}t}$, for further information see\n",
    "[[Gerstner2014]](#Gerstner2014) (sec. 4.2.2)."
   ]
  },
  {
   "cell_type": "markdown",
   "id": "0300db54",
   "metadata": {
    "editable": true
   },
   "source": [
    "## Morris-Lecar model\n",
    "Morris and Lecar [[Morris1981]](#Morris1981) proposed a simplified two-dimensional description of neuronal spike dynamics, \n",
    "with one equation describing the evolution of the membrane potential $u$ and another for the slow recovery variable $w$\n",
    "where the time constants $\\tau_n$ and $\\tau_h$ in ([1](#eq:HH)) are approximated by a common function $\\tau(u)$. \n",
    "\n",
    "The Morris-Lecar model was originally developed to describe the electrical activity in a barnacle muscle fiber, not a neuron. \n",
    "In the particular biological system that Morris and Lecar were studying, the primary ionic currents that controlled the \n",
    "action potentials were due to calcium and potassium ions, not sodium ions.\n",
    "\n",
    "The barnacle muscle fiber they studied was a type of \"giant\" fiber, which had been used for many years as a model system \n",
    "in electrophysiology because its large size made it easier to insert electrodes and measure electrical activity. \n",
    "In these fibers, it was found that action potentials were primarily controlled by the flow of potassium and calcium ions."
   ]
  },
  {
   "cell_type": "markdown",
   "id": "c23809a0",
   "metadata": {
    "editable": true
   },
   "source": [
    "<!-- Equation labels as ordinary links -->\n",
    "<div id=\"_auto1\"></div>\n",
    "\n",
    "$$\n",
    "\\begin{equation}\n",
    "C\\frac{du}{dt} = -g_{Ca} m_0(u)(u - E_{Ca}) - g_K w(u - E_K) - g_l(u - E_l) + I,\n",
    "\\label{_auto1} \\tag{5}\n",
    "\\end{equation}\n",
    "$$"
   ]
  },
  {
   "cell_type": "markdown",
   "id": "3b0a877d",
   "metadata": {
    "editable": true
   },
   "source": [
    "<!-- Equation labels as ordinary links -->\n",
    "<div id=\"eq:MLtwo\"></div>\n",
    "\n",
    "$$\n",
    "\\begin{equation} \n",
    "\\frac{dw}{dt} = -\\frac{1}{\\tau(u)}[w - w_0(u)]. \n",
    "\\label{eq:MLtwo} \\tag{6}\n",
    "\\end{equation}\n",
    "$$"
   ]
  },
  {
   "cell_type": "markdown",
   "id": "cc8ccf63",
   "metadata": {
    "editable": true
   },
   "source": [
    "Comparing Eq. ([3](#eq:HHtwo_1)) - ([4](#eq:HHtwo_2)) with Eq. ([6](#eq:MLtwo)), we note differences in the current terms and exponents. \n",
    "To clarify the relation between the two models, we could set $m_0(u) = [m_0(u)]^3$ and $w = (w/a)^4$. \n",
    "The equilibrium functions are approximated by:"
   ]
  },
  {
   "cell_type": "markdown",
   "id": "653ecc80",
   "metadata": {
    "editable": true
   },
   "source": [
    "<!-- Equation labels as ordinary links -->\n",
    "<div id=\"eq:MLm0\"></div>\n",
    "\n",
    "$$\n",
    "\\begin{equation}\n",
    "m_0(u) = \\frac{1}{2}\\left[1 + \\tanh\\left(\\frac{u - u_1}{u_2}\\right)\\right], \\label{eq:MLm0} \\tag{7}\n",
    "\\end{equation}\n",
    "$$"
   ]
  },
  {
   "cell_type": "markdown",
   "id": "3600089f",
   "metadata": {
    "editable": true
   },
   "source": [
    "<!-- Equation labels as ordinary links -->\n",
    "<div id=\"eq:MLw0\"></div>\n",
    "\n",
    "$$\n",
    "\\begin{equation} \n",
    "w_0(u) = \\frac{1}{2}\\left[1 + \\tanh\\left(\\frac{u - u_3}{u_4}\\right)\\right], \\label{eq:MLw0} \\tag{8}\n",
    "\\end{equation}\n",
    "$$"
   ]
  },
  {
   "cell_type": "markdown",
   "id": "2070c43f",
   "metadata": {
    "editable": true
   },
   "source": [
    "<!-- Equation labels as ordinary links -->\n",
    "<div id=\"eq:MLtau\"></div>\n",
    "\n",
    "$$\n",
    "\\begin{equation} \n",
    "\\tau(u) = \\tau_w \\cosh\\left(\\frac{u - u_3}{2u_4}\\right). \\label{eq:MLtau} \\tag{9}\n",
    "\\end{equation}\n",
    "$$"
   ]
  },
  {
   "cell_type": "markdown",
   "id": "fe8eec8e",
   "metadata": {
    "editable": true
   },
   "source": [
    "The Morris-Lecar model ([6](#eq:MLtwo)) - ([9](#eq:MLtau)) provides a phenomenological description of action potentials, \n",
    "and its mathematical conditions for firing can be discussed by phase plane analysis."
   ]
  },
  {
   "cell_type": "markdown",
   "id": "662c4c2c",
   "metadata": {
    "editable": true
   },
   "source": [
    "## Phase Plane Analysis\n",
    "Phase plane analysis is a powerful tool for understanding the dynamics of nonlinear systems, such as those found in \n",
    "neuroscience. This technique is particularly useful for characterizing how the state of a system changes over time \n",
    "based on a set of differential equations. In the context of neural dynamics, phase plane analysis is often used to \n",
    "study models of neuron behavior, such as the Hodgkin-Huxley model or the simpler Fitzhugh-Nagumo model.\n",
    "\n",
    "To perform phase plane analysis, we first need a model of our system's dynamics in the form of a set of \n",
    "differential equations. For example, consider a simplified two-dimensional neuron model described by the following \n",
    "system of equations:"
   ]
  },
  {
   "cell_type": "markdown",
   "id": "54af0379",
   "metadata": {
    "editable": true
   },
   "source": [
    "$$\n",
    "\\begin{align*}\n",
    "\\frac{dv}{dt} &= f(v, w) + I \\\\\n",
    "\\frac{dw}{dt} &= g(v, w)\n",
    "\\end{align*}\n",
    "$$"
   ]
  },
  {
   "cell_type": "markdown",
   "id": "43958fbb",
   "metadata": {
    "editable": true
   },
   "source": [
    "where $v$ represents the membrane potential, $w$ represents a recovery variable (e.g., the activation of a \n",
    "potassium channel or the inactivation of a sodium channel), $I$ is the input current, and $f$ and $g$ are \n",
    "functions that describe how the membrane potential and recovery variable change over time.\n",
    "\n",
    "To construct a phase plane, we plot $v$ on the x-axis and $w$ on the y-axis. Each point in this plane represents a \n",
    "possible state of the neuron (i.e., a particular combination of membrane potential and recovery variable), and the \n",
    "trajectory of the system over time can be visualized as a path in this plane.\n",
    "\n",
    "One key aspect of the phase plane is the nullclines, which are the set of points where the rate of change of either \n",
    "$v$ or $w$ is zero. Mathematically, the nullclines are given by the solutions to the equations $\\frac{dv}{dt} = 0$ \n",
    "and $\\frac{dw}{dt} = 0$. These nullclines divide the phase plane into regions where the state of the system is moving \n",
    "towards or away from the nullclines.\n",
    "\n",
    "The intersections of the nullclines are known as fixed points or equilibria. These are the points where both \n",
    "$\\frac{dv}{dt} = 0$ and $\\frac{dw}{dt} = 0$, meaning the system does not change when in these states. \n",
    "Depending on the local properties of the system around these points, they can be classified as stable nodes (attractors), \n",
    "unstable nodes (repellers), or saddles.\n",
    "\n",
    "Analyzing the dynamics around these fixed points and along the nullclines can provide crucial insights into the \n",
    "behavior of the neuron model. For instance, oscillatory behavior, such as the repetitive firing of an action potential, \n",
    "corresponds to a limit cycle in the phase plane, which is a closed trajectory around a stable focus or a limit point.\n",
    "\n",
    "In summary, phase plane analysis is a crucial tool in theoretical neuroscience for understanding the dynamics of \n",
    "neuron models. By representing the state of a neuron in a phase plane and analyzing the resulting trajectories, \n",
    "nullclines, and fixed points, we can gain a deeper understanding of the neuron's behavior under different conditions."
   ]
  },
  {
   "cell_type": "markdown",
   "id": "bdfc122e",
   "metadata": {
    "editable": true
   },
   "source": [
    "## Bifurcation analysis\n",
    "Bifurcation analysis is a powerful tool for understanding the dynamics of nonlinear systems, such as those found in\n",
    "neuroscience. This technique is particularly useful for characterizing how the state of a system changes over time.\n",
    "In the context of neuronal dynamics, bifurcations can represent transitions between different firing behaviors, \n",
    "such as from resting to repetitive firing. The Morris-Lecar model is a two-dimensional dynamical system that is often \n",
    "used to study these bifurcations in the context of neural dynamics.\n",
    "\n",
    "Three main types of bifurcations of interest in the Morris-Lecar model:\n",
    "\n",
    "1. **Saddle-node bifurcations:** These bifurcations occur when a pair of fixed points (one stable, one unstable) \n",
    "appear or disappear as a parameter is varied. In the Morris-Lecar model, saddle-node bifurcations can occur as the \n",
    "applied current $I$ is varied, leading to transitions between quiescence and repetitive firing.\n",
    "\n",
    "2. **Hopf bifurcations:** These bifurcations occur when a stable fixed point becomes unstable and a limit cycle \n",
    "appears or disappears. In the Morris-Lecar model, supercritical Hopf bifurcations can represent the onset of \n",
    "repetitive firing as $I$ is increased, while subcritical Hopf bifurcations can represent the onset of \n",
    "bursting behavior.\n",
    "\n",
    "3. **SNIC (Saddle Node on Invariant Cycle) bifurcations:** These are a special type of bifurcation where a \n",
    "saddle-node bifurcation occurs on a limit cycle. In the Morris-Lecar model, SNIC bifurcations can represent \n",
    "the onset of tonic spiking.\n",
    "\n",
    "By studying these bifurcations in the Morris-Lecar model, we can gain insights into the transitions between different firing behaviors in neurons and how they depend on various parameters. These bifurcation analyses are fundamental to understanding how neurons encode and process information."
   ]
  },
  {
   "cell_type": "markdown",
   "id": "6ac138a1",
   "metadata": {
    "editable": true
   },
   "source": [
    "## Exercise 2: Phase Plane Analysis of the Morris-Lecar Model\n",
    "\n",
    "Neurons can exhibit two types of behavior, known as Type I and Type II, when they transition from a resting state to \n",
    "repetitive firing. These types of behavior correspond to different types of bifurcations and lead to distinct firing patterns. \n",
    "\n",
    "The **Morris-Lecar model** is a well-known model of neuron dynamics that can be used to illustrate these behaviors. \n",
    "\n",
    "1. **Type I behavior** is characterized by an *infinite* number of spikes as the applied current approaches a critical\n",
    " value from below. This behavior corresponds to a saddle-node bifurcation on an invariant circle (SNIC) or a saddle-node \n",
    " bifurcation. The firing rate as a function of applied current has a nonzero slope at the rheobase \n",
    " (minimum current required for firing). \n",
    "\n",
    "    The Morris-Lecar model can exhibit Type I behavior under certain parameter settings. \n",
    "    For example, if the parameters are set such that the potassium current is much stronger than the calcium current, \n",
    "    the model will show Type I behavior.\n",
    "\n",
    "2. **Type II behavior** is characterized by a *finite* number of spikes as the applied current approaches the critical \n",
    "value from below. This behavior corresponds to a Hopf bifurcation. The firing rate as a function of applied current has a \n",
    "zero slope at the rheobase.\n",
    "\n",
    "    The Morris-Lecar model can also exhibit Type II behavior under different parameter settings. \n",
    "    For instance, if the u4 is much greater than u3, the model will show Type II behavior.\n",
    "\n",
    "These behaviors can be summarized in a bifurcation diagram, with the adaptation current on the y-axis and the \n",
    "voltage on the x-axis. In this diagram, a SNIC bifurcation appears as a point where a stable equilibrium and a \n",
    "limit cycle (representing repetitive firing) collide and annihilate each other, while a Hopf bifurcation appears as a \n",
    "point where a stable equilibrium becomes unstable and a limit cycle emerges.\n",
    "\n",
    "We will look into the phase plane analysis to better understand the different types of neuron responses."
   ]
  },
  {
   "cell_type": "code",
   "execution_count": 3,
   "id": "2171db3c",
   "metadata": {
    "collapsed": false,
    "editable": true,
    "jupyter": {
     "outputs_hidden": false
    }
   },
   "outputs": [],
   "source": [
    "import numpy as np\n",
    "from scipy.integrate import odeint\n",
    "import matplotlib.pyplot as plt\n",
    "from ipywidgets import interact, FloatSlider\n",
    "\n",
    "def m0(u, u1, u2):\n",
    "    return 0.5 * (1 + np.tanh((u - u1) / u2))\n",
    "\n",
    "def w0(u, u3, u4):\n",
    "    return 0.5 * (1 + np.tanh((u - u3) / u4))\n",
    "\n",
    "def tau(u, tau_w, u3, u4):\n",
    "    return tau_w * np.cosh((u - u3) / (2 * u4))\n",
    "\n",
    "def dudt(u, w, gca, gk, gl, Eca, Ek, El, I, C, u1, u2):\n",
    "    return (-gca * m0(u, u1, u2) * (u - Eca) - gk * w * (u - Ek) - gl * (u - El) + I) / C\n",
    "\n",
    "def dwdt(u, w, tau_w, u3, u4):\n",
    "    return -(w - w0(u, u3, u4)) / tau(u, tau_w, u3, u4)\n",
    "\n",
    "def morris_lecar_model(uw, t, gca, gk, gl, Eca, Ek, El, C, u1, u2, u3, u4, tau_w, I_ext_func):\n",
    "    u, w = uw\n",
    "    I_ext = I_ext_func(t)\n",
    "    _dudt = dudt(u, w, gca, gk, gl, Eca, Ek, El, I_ext, C, u1, u2)\n",
    "    _dwdt = dwdt(u, w, tau_w, u3, u4)\n",
    "    return [_dudt, _dwdt]"
   ]
  },
  {
   "cell_type": "markdown",
   "id": "6a9d8186",
   "metadata": {
    "editable": true
   },
   "source": [
    "**a)**\n",
    "Define functions that gives the nullclines of the Morris-Lecar model."
   ]
  },
  {
   "cell_type": "code",
   "execution_count": 4,
   "id": "8be3146c",
   "metadata": {
    "collapsed": false,
    "editable": true,
    "jupyter": {
     "outputs_hidden": false
    }
   },
   "outputs": [],
   "source": [
    "def u_nullcline(u, gca, gk, gl, Eca, Ek, El, I, C, u1, u2):\n",
    "    return ## your code here\n",
    "\n",
    "def w_nullcline(u, u3, u4):\n",
    "    return ## your code here"
   ]
  },
  {
   "cell_type": "markdown",
   "id": "ec22f68f",
   "metadata": {
    "editable": true
   },
   "source": [
    "<!-- --- begin solution of exercise --- -->\n",
    "**Solution.**"
   ]
  },
  {
   "cell_type": "code",
   "execution_count": 5,
   "id": "08ba232e",
   "metadata": {
    "editable": true,
    "jupyter": {
     "source_hidden": true
    },
    "tags": []
   },
   "outputs": [],
   "source": [
    "def u_nullcline(u, gca, gk, gl, Eca, Ek, El, I, C, u1, u2):\n",
    "    return (-gca * m0(u, u1, u2) * (u - Eca) - gl * (u - El) + I) / (gk * (u - Ek))\n",
    "\n",
    "def w_nullcline(u, u3, u4):\n",
    "    return w0(u, u3, u4)"
   ]
  },
  {
   "cell_type": "markdown",
   "id": "a8a5944a",
   "metadata": {
    "editable": true
   },
   "source": [
    "<!-- --- end solution of exercise --- -->"
   ]
  },
  {
   "cell_type": "code",
   "execution_count": 6,
   "id": "782c0e06",
   "metadata": {
    "collapsed": false,
    "editable": true,
    "jupyter": {
     "outputs_hidden": false
    }
   },
   "outputs": [],
   "source": [
    "# Model parameters\n",
    "gl = 2.0\n",
    "Eca = 120.0\n",
    "Ek = -84.0\n",
    "El = -60.0\n",
    "I = 0.0\n",
    "C = 20.0\n",
    "tau_w = 30.0\n",
    "\n",
    "# Initial conditions\n",
    "u_initial = -60.0\n",
    "w_initial = 0.0\n",
    "uw_initial = [u_initial, w_initial]\n",
    "# Time points\n",
    "# Integration settings\n",
    "t_start, t_stop = 0.0, 500.0\n",
    "dt = 0.1\n",
    "times = np.arange(t_start, t_stop, dt)"
   ]
  },
  {
   "cell_type": "code",
   "execution_count": 7,
   "id": "909a88e8",
   "metadata": {
    "collapsed": false,
    "editable": true,
    "jupyter": {
     "outputs_hidden": false
    }
   },
   "outputs": [],
   "source": [
    "def plot_phase_plane(I, gca, gk, u1, u2, u3, u4):\n",
    "\n",
    "\n",
    "    # Integrate the ODEs\n",
    "    solution = odeint(\n",
    "        morris_lecar_model, \n",
    "        uw_initial, \n",
    "        times, \n",
    "        args=(gca, gk, gl, Eca, Ek, El, C, u1, u2, u3, u4, tau_w, lambda t: I)\n",
    "    )\n",
    "\n",
    "    # Nullclines\n",
    "    u_range = np.linspace(-80, 60, 200)\n",
    "    w_range = np.linspace(-0.1, 1.1, 200)\n",
    "    \n",
    "    u_mesh, w_mesh = np.meshgrid(u_range, w_range)\n",
    "    du_nullcline = u_nullcline(u_range, gca, gk, gl, Eca, Ek, El, I, C, u1, u2)\n",
    "    dw_nullcline = w_nullcline(u_range, u3, u4)\n",
    "\n",
    "    # Plot the phase plane and u(t)\n",
    "    fig, (ax1, ax2) = plt.subplots(1, 2, figsize=(16, 6))\n",
    "\n",
    "    # Phase plane plot\n",
    "    ax1.plot(solution[:, 0], solution[:, 1], label=\"u(t)\", color='b')\n",
    "    ax1.plot(u_range, du_nullcline, color='r', ls='dashed', label=\"u-nullcline\")\n",
    "    ax1.plot(u_range, dw_nullcline, color='g', ls='dashed', label=\"w-nullcline\")\n",
    "    # ax1.scatter(*fixed_points, color='k', marker='o', label=\"Fixed point\")\n",
    "    ax1.set_xlabel(\"u\")\n",
    "    ax1.set_ylabel(\"w\")\n",
    "    ax1.set_title(\"Phase Plane Analysis with I = {:.1f}\".format(I))\n",
    "    ax1.legend()\n",
    "    ax1.set_xlim([-100, 60])\n",
    "    ax1.set_ylim([-0.1, 1.1])\n",
    "    ax1.grid()\n",
    "\n",
    "    # u(t) plot\n",
    "    ax2.plot(times, solution[:, 0], label=\"u(t)\", color='b')\n",
    "    ax2.set_xlabel(\"t\")\n",
    "    ax2.set_ylabel(\"u\")\n",
    "    ax2.set_title(\"Membrane potential u as a function of time\")\n",
    "    ax2.legend([\"u(t)\"])\n",
    "    ax2.grid()\n",
    "\n",
    "    plt.show()\n",
    "\n",
    "interact(\n",
    "    plot_phase_plane,\n",
    "    I=FloatSlider(min=0, max=200, step=1, value=0, description=\"I\"),\n",
    "    gca=FloatSlider(min=0, max=30, step=.1, value=4.4, description='gca'),\n",
    "    gk=FloatSlider(min=0, max=30, step=.1, value=8, description='gk'),\n",
    "    u1=FloatSlider(min=-30, max=30, step=.1, value=-1.2, description='u1'),\n",
    "    u2=FloatSlider(min=-30, max=30, step=.1, value=18, description='u2'),\n",
    "    u3=FloatSlider(min=-30, max=30, step=.1, value=12, description='u3'),\n",
    "    u4=FloatSlider(min=-30, max=30, step=.1, value=17.4, description='u4')\n",
    ")"
   ]
  },
  {
   "cell_type": "markdown",
   "id": "4ea81a95",
   "metadata": {
    "editable": true
   },
   "source": [
    "**b)**\n",
    "Find parameters that gives type 1 and type 2 excitable behavior.\n",
    "\n",
    "<!-- --- begin solution of exercise --- -->\n",
    "**Solution.**"
   ]
  },
  {
   "cell_type": "code",
   "execution_count": 8,
   "id": "d8928b4c",
   "metadata": {
    "editable": true,
    "jupyter": {
     "source_hidden": true
    },
    "tags": []
   },
   "outputs": [],
   "source": [
    "gca = 4.4\n",
    "gk = 8.0\n",
    "u1 = -1.2\n",
    "u2 = 18.0\n",
    "\n",
    "# type 1\n",
    "u3 = 12.0\n",
    "u4 = 17.4\n",
    "\n",
    "# type 2\n",
    "u3 = 2.0\n",
    "u4 = 30.0"
   ]
  },
  {
   "cell_type": "markdown",
   "id": "07e40e0f",
   "metadata": {
    "editable": true
   },
   "source": [
    "<!-- --- end solution of exercise --- -->\n",
    "\n",
    "In the following, we will use the parameters for the Morris-Lecar model that gives type 1 and type 2 excitable behavior\n",
    "to explore the effect of a current pulse on the membrane potential."
   ]
  },
  {
   "cell_type": "code",
   "execution_count": 9,
   "id": "aa809ccb",
   "metadata": {
    "collapsed": false,
    "editable": true,
    "jupyter": {
     "outputs_hidden": false
    }
   },
   "outputs": [],
   "source": [
    "import numpy as np\n",
    "from scipy.integrate import odeint\n",
    "import matplotlib.pyplot as plt\n",
    "\n",
    "# Current pulse settings\n",
    "def I_ext_func(t, I_amp, t_start_pulse, t_stop_pulse):\n",
    "    if t_start_pulse <= t <= t_stop_pulse:\n",
    "        return I_amp\n",
    "    else:\n",
    "        return 0.0\n",
    "\n",
    "I_min = 0\n",
    "I_max = 200\n",
    "\n",
    "def interactive_plot(I, t_start_pulse, t_stop_pulse, threshold):\n",
    "\n",
    "    solution = odeint(\n",
    "        morris_lecar_model, \n",
    "        uw_initial, times, \n",
    "        args=(gca, gk, gl, Eca, Ek, El, C, u1, u2, u3, u4, tau_w, lambda t: I_ext_func(t, I, t_start_pulse, t_stop_pulse))\n",
    "    )\n",
    "\n",
    "    fig, (ax1, ax2) = plt.subplots(2, 1, figsize=(10, 8))\n",
    "\n",
    "    ax1.plot(times, solution[:, 0], label='u(t)')\n",
    "    ax1.set_xlabel('Time (ms)')\n",
    "    ax1.set_ylabel('Membrane potential (mV)')\n",
    "    ax1.set_ylim(-80, 60)\n",
    "    ax1.axhline(threshold, label='threshold', ls='dashed', c='k', lw=0.5)\n",
    "    ax1.legend()\n",
    "\n",
    "    ax2.plot(times, [I_ext_func(t, I, t_start_pulse, t_stop_pulse) for t in times], label='I_ext(t)')\n",
    "    ax2.set_xlabel('Time (ms)')\n",
    "    ax2.set_ylabel('Injected current (µA/cm²)')\n",
    "    ax2.set_ylim(I_min, I_max)\n",
    "    ax2.legend()\n",
    "\n",
    "    plt.show()\n",
    "\n",
    "interact(\n",
    "    interactive_plot,\n",
    "    I=FloatSlider(min=I_min, max=I_max, step=1, value=40, description='I_amp'),\n",
    "    t_start_pulse=FloatSlider(min=0, max=500, step=1, value=100, description='t_start_pulse'),\n",
    "    t_stop_pulse=FloatSlider(min=0, max=500, step=1, value=200, description='t_stop_pulse'),\n",
    "    threshold=FloatSlider(min=-80, max=60, step=0.1, value=0, description='threshold')\n",
    ")"
   ]
  },
  {
   "cell_type": "markdown",
   "id": "6d959038",
   "metadata": {
    "editable": true
   },
   "source": [
    "**c)**\n",
    "Under which conditions does the current pulse trigger a spike? \n",
    "When is a threshold a good approximation of the spike initiation?"
   ]
  },
  {
   "cell_type": "markdown",
   "id": "35025ba3",
   "metadata": {
    "editable": true
   },
   "source": [
    "**d)**\n",
    "We notice two important things when performing the phase plane analysis: \n",
    "(1) spike initiation follows two qualitative types (type 1 and type 2)\n",
    "(2) spike initiation can be approximated by threshold with type 1 but not type 2.\n",
    "Consider the generic two-dimensional neuron model given by Eq. ([6](#eq:MLtwo)). \n",
    "We measure time in units of $\\tau$ and take $R = 1$. Equation ([3](#eq:HHtwo_1)) - ([4](#eq:HHtwo_2)) are then\n",
    "<!-- Equation labels as ordinary links -->\n",
    "<div id=\"_auto2\"></div>\n",
    "\n",
    "$$\n",
    "\\begin{equation}\n",
    "\\frac{du}{dt} = F(u, w) + I,\\\n",
    "\\frac{dw}{dt} = \\epsilon G(u, w),\n",
    "\\label{_auto2} \\tag{10}\n",
    "\\end{equation}\n",
    "$$\n",
    "\n",
    "where $\\epsilon = \\frac{\\tau}{\\tau_w}$. What happens if $\\tau_w \\gg \\tau$, then $\\epsilon \\ll 1$?\n",
    "\n",
    "<!-- --- begin solution of exercise --- -->\n",
    "**Solution.**"
   ]
  },
  {
   "cell_type": "markdown",
   "id": "5eed6dee-e0ce-465c-83a3-25b3a8863277",
   "metadata": {
    "jupyter": {
     "source_hidden": true
    },
    "tags": []
   },
   "source": [
    "In this situation, the time scale that governs the evolution of $u$ is much faster than that of $w$. \n",
    "This observation can be exploited for the analysis of the system. \n",
    "The general idea is that of a \"separation of time scales\"; in the mathematical literature, \n",
    "the limit of $\\epsilon \\to 0$ is called \"singular perturbation\". \n",
    "Oscillatory behavior for small $\\epsilon$ is called a \"relaxation oscillation\".\n",
    "<!-- --- end solution of exercise --- -->"
   ]
  },
  {
   "cell_type": "markdown",
   "id": "ee6ec605",
   "metadata": {
    "editable": true
   },
   "source": [
    "## Do we need the Axon?\n",
    "The shape of the action potential of a given neuron is rather stereotyped with very little change between one \n",
    "spike and the next. Thus, the shape of the action potential which travels along the axon to a \n",
    "postsynaptic neuron cannot be used to transmit information; rather, from the point of view of the receiving neuron,\n",
    "action potentials are 'events' which are fully characterized by the arrival time of the spike at the synapse. \n",
    "Note that spikes from different neuron types can have different shapes and the duration and shape of the spike does \n",
    "influence neurotransmitter release; but the spikes that arrive at a given synapse all come from the same presynaptic \n",
    "neuron and - if we neglect effects of fatigue of ionic channels in the axon - we can assume that its time course is \n",
    "always the same."
   ]
  },
  {
   "cell_type": "markdown",
   "id": "6aa118c8",
   "metadata": {
    "editable": true
   },
   "source": [
    "## Adaptation\n",
    "Adaptation is a fundamental property of neurons, which allows them to adjust their response to stimuli over time. \n",
    "Neuronal adaptation can be observed at various levels, such as in the firing rate, membrane potential, and synaptic transmission. \n",
    "It helps the nervous system to maintain homeostasis, process information efficiently, and adapt to changes in the environment. \n",
    "In this section, we provide a concise introduction to adaptation in neurons, focusing on its mechanisms and functional roles.\n",
    "\n",
    "A clear example of how ion channels influence neuronal behavior can be seen in the stellate cells of the mammalian \n",
    "cerebral cortex. Stellate cells are a type of interneuron that can display a property known as adaptation, where the \n",
    "firing rate decreases over time in response to a constant or sustained stimulus.\n",
    "\n",
    "Adaptation in stellate cells is primarily mediated by the interplay of two types of ion channels: voltage-gated \n",
    "potassium channels and calcium-activated potassium channels. These channels dynamically regulate the membrane potential, \n",
    "thus controlling the cell's firing pattern.\n",
    "\n",
    "Voltage-gated potassium channels open in response to depolarization and help repolarize the membrane after an action \n",
    "potential, preventing further firing. They are crucial for maintaining the resting membrane potential and ensuring the \n",
    "neuron does not fire excessively.\n",
    "\n",
    "On the other hand, calcium-activated potassium channels (e.g., BK and SK channels) open in response to the intracellular \n",
    "increase in calcium ions (Ca2+) that occurs during an action potential. When these channels open, they allow an efflux of \n",
    "potassium ions, which hyperpolarizes the cell and makes it less likely to fire. This effect is particularly noticeable when \n",
    "the stimulus is sustained, as the accumulated Ca2+ opens more of these channels over time, leading to a progressive \n",
    "decrease in firing rate.\n",
    "\n",
    "The balance between these two types of potassium channels is a key factor in the adaptive response of stellate cells. \n",
    "If a stimulus is strong enough to cause repeated firing, the cumulative effect of the calcium-activated potassium channels \n",
    "can lead to a significant decrease in firing rate, demonstrating adaptation.\n",
    "\n",
    "Neuronal adaptation can be mediated by different cellular and molecular mechanisms, including:\n",
    "  * __Ionic currents:__ Voltage-gated and calcium-dependent ion channels can modulate the excitability of a neuron. \n",
    "\n",
    "  Prolonged activation of these channels can lead to adaptation by affecting the neuron's membrane potential or the \n",
    "  propagation of action potentials.\n",
    "\n",
    "  * __Intrinsic plasticity:__ Neurons can alter their intrinsic properties, such as the resting membrane potential and \n",
    "\n",
    "  input resistance, in response to ongoing activity. This type of adaptation can result in changes in the neuron's firing \n",
    "  rate and response to synaptic input.\n",
    "\n",
    "  * __Synaptic plasticity:__ Adaptation can also occur at the level of synapses, where the strength of connections between \n",
    "\n",
    "  neurons can be modified in response to activity. This can involve changes in neurotransmitter release, receptor \n",
    "  expression, or the efficacy of post-synaptic responses.\n",
    "\n",
    "Adaptation plays crucial roles in various aspects of neural processing, such as:\n",
    "  * __Gain control:__ Neuronal adaptation can adjust the sensitivity of a neuron to its inputs, allowing it to \n",
    "\n",
    "  operate over a wide range of stimulus intensities. This gain control mechanism enables neurons to maintain stable \n",
    "  responses and avoid saturation.\n",
    "\n",
    "  * __Temporal filtering:__ By adapting to the temporal properties of incoming signals, neurons can preferentially \n",
    "\n",
    "  respond to specific features of stimuli, such as their frequency, duration, or temporal contrast.\n",
    "\n",
    "  * __Energy efficiency:__ Adaptation can help neurons to minimize energy consumption by reducing unnecessary spiking \n",
    "\n",
    "  activity and optimizing their response to relevant stimuli.\n",
    "\n",
    "  * __Learning and memory:__ Adaptation can contribute to the formation and consolidation of memories by modifying \n",
    "\n",
    "  synaptic connections and facilitating the storage of information over different timescales.\n",
    "\n",
    "In conclusion, adaptation is a crucial feature of neurons, enabling them to dynamically adjust their response properties \n",
    "and optimize their function in various contexts. Understanding the mechanisms and functional roles of adaptation is \n",
    "essential for uncovering the principles that govern neural processing and computation."
   ]
  },
  {
   "cell_type": "markdown",
   "id": "bcdf76b4",
   "metadata": {
    "editable": true
   },
   "source": [
    "## Exercise 3: Simulating Adaptation in Stellate Cells with the GLIF Model and Brian2\n",
    "<div id=\"sec:exercise-adaptation\"></div>\n",
    "\n",
    "In this exercise, we will use the Generalized Leaky Integrate-and-Fire (GLIF) model to simulate the behavior of \n",
    "stellate cells in response to an input current. The Brian2 simulator will be used for the implementation. \n",
    "\n",
    "The GLIF model is a single-compartment model described by the following differential equation:"
   ]
  },
  {
   "cell_type": "markdown",
   "id": "4050a50e",
   "metadata": {
    "editable": true
   },
   "source": [
    "<!-- Equation labels as ordinary links -->\n",
    "<div id=\"_auto3\"></div>\n",
    "\n",
    "$$\n",
    "\\begin{equation}\n",
    "C \\frac{du}{dt} = g_l(E_l - u) + g_{\\text{a}} w(E_{\\text{a}} - u) + I,\n",
    "\\label{_auto3} \\tag{11}\n",
    "\\end{equation}\n",
    "$$"
   ]
  },
  {
   "cell_type": "markdown",
   "id": "983428bd",
   "metadata": {
    "editable": true
   },
   "source": [
    "where $u$ is the membrane potential, $g_{\\text{a}}$ is the conductance of the adaptation current, $w$ is the \n",
    "adaptation variable, $E_{\\text{a}}$ is the reversal potential of the adaptation current, and $I$ is the input current. \n",
    "The adaptation current is described by the following differential equation:"
   ]
  },
  {
   "cell_type": "markdown",
   "id": "b54407ec",
   "metadata": {
    "editable": true
   },
   "source": [
    "<!-- Equation labels as ordinary links -->\n",
    "<div id=\"_auto4\"></div>\n",
    "\n",
    "$$\n",
    "\\begin{equation}\n",
    "\\tau_{\\text{a}} \\frac{dw}{dt} = a(u - E_l) - w,\n",
    "\\label{_auto4} \\tag{12}\n",
    "\\end{equation}\n",
    "$$"
   ]
  },
  {
   "cell_type": "markdown",
   "id": "5f8c54ab",
   "metadata": {
    "editable": true
   },
   "source": [
    "where $\\tau_{\\text{a}}$ is the time constant of the adaptation current, and $a$ is a parameter that determines \n",
    "the degree of adaptation.\n",
    "\n",
    "**Tasks:**\n",
    "\n",
    "1. Implement the GLIF model in Brian2.\n",
    "2. Simulate the response of a stellate cell to a step current input. You can use the following parameter values, \n",
    "which are typical for stellate cells: $C = 200$ pF, $g_L = 10$ nS, $EL = -70$ mV, $g_{\\text{a}} = 2$ nS, $E_{\\text{a}} = -90$ \n",
    "mV, $\\tau_{\\text{a}} = 200$ ms, $a = 2$ nS.\n",
    "3. Plot the membrane potential and the adaptation current as a function of time.\n",
    "4. Analyze the response of the stellate cell to the input current. Does the cell exhibit \n",
    "adaptation? How does the adaptation current change over time?\n",
    "\n",
    "**Hints:**\n",
    "\n",
    "* You can use the `NeuronGroup`, `StateMonitor`, and `run` functions from Brian2 to implement the GLIF model and simulate the stellate cell.\n",
    "\n",
    "* You can use the `plot` function from Matplotlib to plot the membrane potential and the adaptation current."
   ]
  },
  {
   "cell_type": "code",
   "execution_count": 10,
   "id": "db470de4",
   "metadata": {
    "collapsed": false,
    "editable": true,
    "jupyter": {
     "outputs_hidden": false
    }
   },
   "outputs": [],
   "source": [
    "from brian2 import *\n",
    "\n",
    "# Parameter definitions\n",
    "C = 200*pF\n",
    "g_L = 10*nS\n",
    "EL = -70*mV\n",
    "u_th = -50*mV\n",
    "u_r = -60*mV\n",
    "b = 0.2  # increment of w for each spike (supra-threshold adaptation parameter)\n",
    "g_a = 2*nS\n",
    "E_a = -90*mV\n",
    "tau_a = 200*ms\n",
    "a = 2/volt # subthreshold adaptation parameter"
   ]
  },
  {
   "cell_type": "markdown",
   "id": "08bfa117",
   "metadata": {
    "editable": true
   },
   "source": [
    "**a)**\n",
    "Define the GLIF model with spiking mechanism"
   ]
  },
  {
   "cell_type": "code",
   "execution_count": 11,
   "id": "0e09a294",
   "metadata": {
    "collapsed": false,
    "editable": true,
    "jupyter": {
     "outputs_hidden": false
    }
   },
   "outputs": [],
   "source": [
    "eqs = '''\n",
    "du/dt = code here : volt (unless refractory)\n",
    "dw/dt = code here : 1\n",
    "I : amp\n",
    "'''"
   ]
  },
  {
   "cell_type": "markdown",
   "id": "ec22f68f_1",
   "metadata": {
    "editable": true
   },
   "source": [
    "<!-- --- begin solution of exercise --- -->\n",
    "**Solution.**"
   ]
  },
  {
   "cell_type": "code",
   "execution_count": 12,
   "id": "4f67b5de",
   "metadata": {
    "editable": true,
    "jupyter": {
     "source_hidden": true
    },
    "tags": []
   },
   "outputs": [],
   "source": [
    "eqs = '''\n",
    "du/dt = (-g_L*(u - EL) - g_a*w*(u - E_a) + I)/C : volt (unless refractory)\n",
    "dw/dt = (a*(u - EL) - w)/tau_a : 1\n",
    "I : amp\n",
    "'''"
   ]
  },
  {
   "cell_type": "markdown",
   "id": "a8a5944a_1",
   "metadata": {
    "editable": true
   },
   "source": [
    "<!-- --- end solution of exercise --- -->"
   ]
  },
  {
   "cell_type": "markdown",
   "id": "2429a997",
   "metadata": {
    "editable": true
   },
   "source": [
    "**b)**\n",
    "Create a neuron group with a single neuron"
   ]
  },
  {
   "cell_type": "code",
   "execution_count": 13,
   "id": "aebbb8bf",
   "metadata": {
    "collapsed": false,
    "editable": true,
    "jupyter": {
     "outputs_hidden": false
    }
   },
   "outputs": [],
   "source": [
    "neurons = # code here"
   ]
  },
  {
   "cell_type": "markdown",
   "id": "ec22f68f_2",
   "metadata": {
    "editable": true
   },
   "source": [
    "<!-- --- begin solution of exercise --- -->\n",
    "**Solution.**"
   ]
  },
  {
   "cell_type": "code",
   "execution_count": 14,
   "id": "18ffc4fd",
   "metadata": {
    "editable": true,
    "jupyter": {
     "source_hidden": true
    },
    "tags": []
   },
   "outputs": [],
   "source": [
    "neurons = NeuronGroup(1, eqs, threshold='u>u_th', reset='u=u_r; w+=b', refractory=5*ms, method='euler')"
   ]
  },
  {
   "cell_type": "markdown",
   "id": "a8a5944a_2",
   "metadata": {
    "editable": true
   },
   "source": [
    "<!-- --- end solution of exercise --- -->"
   ]
  },
  {
   "cell_type": "markdown",
   "id": "5cbc2308",
   "metadata": {
    "editable": true
   },
   "source": [
    "**c)**\n",
    "Set the initial conditions"
   ]
  },
  {
   "cell_type": "code",
   "execution_count": 15,
   "id": "ee1d9d38",
   "metadata": {
    "collapsed": false,
    "editable": true,
    "jupyter": {
     "outputs_hidden": false
    }
   },
   "outputs": [],
   "source": [
    "neurons.u = # code here\n",
    "neurons.w = # code here"
   ]
  },
  {
   "cell_type": "markdown",
   "id": "ec22f68f_3",
   "metadata": {
    "editable": true
   },
   "source": [
    "<!-- --- begin solution of exercise --- -->\n",
    "**Solution.**"
   ]
  },
  {
   "cell_type": "code",
   "execution_count": 16,
   "id": "59d5e5f9",
   "metadata": {
    "editable": true,
    "jupyter": {
     "source_hidden": true
    },
    "tags": []
   },
   "outputs": [],
   "source": [
    "neurons.u = EL\n",
    "neurons.w = 0"
   ]
  },
  {
   "cell_type": "markdown",
   "id": "a8a5944a_3",
   "metadata": {
    "editable": true
   },
   "source": [
    "<!-- --- end solution of exercise --- -->"
   ]
  },
  {
   "cell_type": "code",
   "execution_count": 17,
   "id": "6c667b09",
   "metadata": {
    "collapsed": false,
    "editable": true,
    "jupyter": {
     "outputs_hidden": false
    }
   },
   "outputs": [],
   "source": [
    "# Define the input current\n",
    "neurons.I = 250*pA"
   ]
  },
  {
   "cell_type": "markdown",
   "id": "a7044a6a",
   "metadata": {
    "editable": true
   },
   "source": [
    "**d)**\n",
    "Record the membrane potential, the adaptation variable, and the spikes"
   ]
  },
  {
   "cell_type": "code",
   "execution_count": 18,
   "id": "02bf808d",
   "metadata": {
    "collapsed": false,
    "editable": true,
    "jupyter": {
     "outputs_hidden": false
    }
   },
   "outputs": [],
   "source": [
    "state_mon = # code here\n",
    "spike_mon = # code here"
   ]
  },
  {
   "cell_type": "markdown",
   "id": "ec22f68f_4",
   "metadata": {
    "editable": true
   },
   "source": [
    "<!-- --- begin solution of exercise --- -->\n",
    "**Solution.**"
   ]
  },
  {
   "cell_type": "code",
   "execution_count": 19,
   "id": "03ade1cb",
   "metadata": {
    "editable": true,
    "jupyter": {
     "source_hidden": true
    },
    "tags": []
   },
   "outputs": [],
   "source": [
    "state_mon = StateMonitor(neurons, ['u', 'w'], record=True)\n",
    "spike_mon = SpikeMonitor(neurons)"
   ]
  },
  {
   "cell_type": "markdown",
   "id": "a8a5944a_4",
   "metadata": {
    "editable": true
   },
   "source": [
    "<!-- --- end solution of exercise --- -->"
   ]
  },
  {
   "cell_type": "markdown",
   "id": "2a00d490",
   "metadata": {
    "editable": true
   },
   "source": [
    "**e)**\n",
    "Run the simulation for 1 second"
   ]
  },
  {
   "cell_type": "code",
   "execution_count": 20,
   "id": "60f62c14",
   "metadata": {
    "collapsed": false,
    "editable": true,
    "jupyter": {
     "outputs_hidden": false
    }
   },
   "outputs": [],
   "source": [
    "# code here"
   ]
  },
  {
   "cell_type": "markdown",
   "id": "ec22f68f_5",
   "metadata": {
    "editable": true
   },
   "source": [
    "<!-- --- begin solution of exercise --- -->\n",
    "**Solution.**"
   ]
  },
  {
   "cell_type": "code",
   "execution_count": 21,
   "id": "bc8f5150",
   "metadata": {
    "editable": true,
    "jupyter": {
     "source_hidden": true
    },
    "tags": []
   },
   "outputs": [],
   "source": [
    "run(1*second)"
   ]
  },
  {
   "cell_type": "markdown",
   "id": "a8a5944a_5",
   "metadata": {
    "editable": true
   },
   "source": [
    "<!-- --- end solution of exercise --- -->"
   ]
  },
  {
   "cell_type": "markdown",
   "id": "56915c55",
   "metadata": {
    "editable": true
   },
   "source": [
    "**f)**\n",
    "Plot the membrane potential, the adaptation variable, and the spike times"
   ]
  },
  {
   "cell_type": "code",
   "execution_count": 22,
   "id": "60f62c14_1",
   "metadata": {
    "collapsed": false,
    "editable": true,
    "jupyter": {
     "outputs_hidden": false
    }
   },
   "outputs": [],
   "source": [
    "# code here"
   ]
  },
  {
   "cell_type": "markdown",
   "id": "ec22f68f_6",
   "metadata": {
    "editable": true
   },
   "source": [
    "<!-- --- begin solution of exercise --- -->\n",
    "**Solution.**"
   ]
  },
  {
   "cell_type": "code",
   "execution_count": 23,
   "id": "588b0a9a",
   "metadata": {
    "editable": true,
    "jupyter": {
     "source_hidden": true
    },
    "tags": []
   },
   "outputs": [],
   "source": [
    "figure(figsize=(12, 6))\n",
    "subplot(211)\n",
    "plot(state_mon.t/ms, state_mon.u[0]/mV)\n",
    "vlines(spike_mon.t/ms, u_th/mV, u_th/mV + 10, color='red')  # spike times are shown in red\n",
    "xlabel('Time (ms)')\n",
    "ylabel('Membrane potential (mV)')\n",
    "\n",
    "subplot(212)\n",
    "plot(state_mon.t/ms, state_mon.w[0])\n",
    "xlabel('Time (ms)')\n",
    "ylabel('Adaptation variable (w)')\n",
    "\n",
    "tight_layout()"
   ]
  },
  {
   "cell_type": "markdown",
   "id": "a8a5944a_6",
   "metadata": {
    "editable": true
   },
   "source": [
    "<!-- --- end solution of exercise --- -->"
   ]
  }
 ],
 "metadata": {
  "kernelspec": {
   "display_name": "Python 3 (ipykernel)",
   "language": "python",
   "name": "python3"
  },
  "language_info": {
   "codemirror_mode": {
    "name": "ipython",
    "version": 3
   },
   "file_extension": ".py",
   "mimetype": "text/x-python",
   "name": "python",
   "nbconvert_exporter": "python",
   "pygments_lexer": "ipython3",
   "version": "3.9.1"
  }
 },
 "nbformat": 4,
 "nbformat_minor": 5
}
