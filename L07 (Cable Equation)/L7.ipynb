{
 "cells": [
  {
   "cell_type": "markdown",
   "metadata": {
    "slideshow": {
     "slide_type": "slide"
    }
   },
   "source": [
    "<!-- dom:TITLE: Conduction in excitable cells - the cable equation -->\n",
    "# Conduction in excitable cells - the cable equation\n",
    "<!-- dom:AUTHOR: Joakim Sundnes -->\n",
    "<!-- Author: -->  \n",
    "**Joakim Sundnes**\n",
    "\n",
    "Date: **June 19, 2024**"
   ]
  },
  {
   "cell_type": "markdown",
   "metadata": {
    "slideshow": {
     "slide_type": "slide"
    }
   },
   "source": [
    "## Outline\n",
    "* Introduction\n",
    "\n",
    "  * History\n",
    "\n",
    "  * Brief overview of neurons\n",
    "\n",
    "* Derivation of the cable equation\n",
    "\n",
    "* Scaling/dimensionless form\n",
    "\n",
    "* Example models"
   ]
  },
  {
   "cell_type": "markdown",
   "metadata": {
    "slideshow": {
     "slide_type": "slide"
    }
   },
   "source": [
    "## We will use it to describe signal conduction in neurons, but there's a reason it is called the cable equation...\n",
    "<!-- dom:FIGURE: [./figs/atlantic_cable1.jpg, width=800 frac=1.0] -->\n",
    "<!-- begin figure -->\n",
    "\n",
    "<p></p>\n",
    "<img src=\"./figs/atlantic_cable1.jpg\" width=800>\n",
    "\n",
    "<!-- end figure -->\n",
    "\n",
    "<!-- FIGURE: [./figs/atlantic_cable2, width=500 frac=1.0] -->"
   ]
  },
  {
   "cell_type": "markdown",
   "metadata": {
    "slideshow": {
     "slide_type": "slide"
    }
   },
   "source": [
    "## Neurons consist of three distinct parts\n",
    "\n",
    "  * Dendrite-tree, the \"input stage\" of the neuron, converges on the soma.\n",
    "\n",
    "  * Soma, the cell body, contains the \"normal\" cellular functions\n",
    "\n",
    "  * Axon, the output of the neuron, may be branched. Synapses at the ends are connected to neighboring dendrites.\n",
    "\n",
    "\n",
    "**Active vs passive.**\n",
    "\n",
    "  * Axons are excitable => active conduction\n",
    "\n",
    "  * Dendrites are non-excitable => passive conduction"
   ]
  },
  {
   "cell_type": "markdown",
   "metadata": {
    "slideshow": {
     "slide_type": "slide"
    }
   },
   "source": [
    "<!-- dom:FIGURE: [./figs/250.png, width=1000 frac=2.0] -->\n",
    "<!-- begin figure -->\n",
    "\n",
    "<p></p>\n",
    "<img src=\"./figs/Blausen_0657_MultipolarNeuron.png\" width=1000>\n",
    "\n",
    "<!-- end figure -->\n",
    "Image from Wikipedia (https://en.wikipedia.org/wiki/Neuron)\n"
   ]
  },
  {
   "cell_type": "markdown",
   "metadata": {
    "slideshow": {
     "slide_type": "slide"
    }
   },
   "source": [
    "<!-- dom:FIGURE: [./figs/250.png, width=1000 frac=2.0] -->\n",
    "<!-- begin figure -->\n",
    "\n",
    "<p></p>\n",
    "<img src=\"./figs/600px-NeuronCapacitanceRev.jpeg\" width=500>\n",
    "\n",
    "<!-- end figure -->\n",
    "Image from Wikipedia (https://en.wikipedia.org/wiki/Cable_theory)"
   ]
  },
  {
   "cell_type": "markdown",
   "metadata": {
    "slideshow": {
     "slide_type": "slide"
    }
   },
   "source": [
    "## Why is the cable equation important?\n",
    "\n",
    "* Fundamental for modeling neurons\n",
    "\n",
    "* Signal propagation in Purkinje network\n",
    "\n",
    "* Extends to cardiac conduction in 3D (bidomain, monodomain)"
   ]
  },
  {
   "cell_type": "markdown",
   "metadata": {
    "slideshow": {
     "slide_type": "slide"
    }
   },
   "source": [
    "## Fundamental quantities and assumptions\n",
    "The cell typically has a potential gradient along its length. Radial components will be ignored.\n",
    "Notation:\n",
    "* $V_i$ and $V_e$ are intra- and extracellular potentials\n",
    "\n",
    "* $I_i$ and $I_e$ are intra- and extracellular (axial) current\n",
    "\n",
    "* $r_i$ and $r_e$; intra- and extracellular resistance per unit length\n",
    "\n",
    "\n",
    "\n",
    "We have\n",
    "\n",
    "$$\n",
    "r_i = \\frac{R_c}{A_i},\n",
    "$$\n",
    "\n",
    "where $R_c$ is the cytoplasmic resistivity and $A_i$ is the cross sectional area of the cable."
   ]
  },
  {
   "cell_type": "markdown",
   "metadata": {
    "slideshow": {
     "slide_type": "slide"
    }
   },
   "source": [
    "## Sketch of a discrete cable\n",
    "<!-- dom:FIGURE: [./figs/251.png, width=800 frac=0.9] -->\n",
    "<!-- begin figure -->\n",
    "\n",
    "<p></p>\n",
    "<img src=\"./figs/600px-Cable_theory_Neuron_RC_circuit_v3.svg.png\" width=600>\n",
    "<!-- end figure -->"
   ]
  },
  {
   "cell_type": "markdown",
   "metadata": {
    "slideshow": {
     "slide_type": "slide"
    }
   },
   "source": [
    "## Currents are assumed to be Ohmic\n",
    "\n",
    "The current along the axon is proportional to the potential difference:\n",
    "$$\n",
    "\\begin{align*}\n",
    "V_i(x+\\Delta x) - V_i(x) &= - I_i(x) r_i \\Delta x \\\\\n",
    "V_e(x+\\Delta x) - V_e(x) &= - I_e(x) r_e \\Delta x\n",
    "\\end{align*}\n",
    "$$\n",
    "\n",
    "In the limit:\n",
    "\n",
    "$$\n",
    "\\begin{align*}\n",
    "I_i = - \\frac{1}{r_i}  \\frac{\\partial V_i}{\\partial x} \\\\\n",
    "I_e = - \\frac{1}{r_e}  \\frac{\\partial V_e}{\\partial x}\n",
    "\\end{align*}\n",
    "$$"
   ]
  },
  {
   "cell_type": "markdown",
   "metadata": {
    "slideshow": {
     "slide_type": "slide"
    }
   },
   "source": [
    "## Conservation of current (1)\n",
    "Any current leaving the intracellular domain has to enter the\n",
    "extracellular domain, and vice-versa. Total current is conserved\n",
    "between $x$ and $x+\\Delta x$:\n",
    "\n",
    "$$\n",
    "I_i(x) - I_i(x+\\Delta x) = -(I_e(x) -  I_e(x+\\Delta x)) = I_t \\Delta x\n",
    "$$\n",
    "\n",
    "where $I_t$ is transmembrane current, per unit length.\n",
    "\n",
    "Taking the limit $\\Delta x\\rightarrow 0$ yields\n",
    "\n",
    "$$\n",
    "I_t = - \\frac{\\partial I_i}{\\partial x} = \\frac{\\partial I_e}{\\partial x}\n",
    "$$\n",
    "\n",
    "Inserting the expression for the currents ($I_{i,e} = (-1/r_{i,e}) \\partial V_{i,e}/\\partial x$) gives\n",
    "\n",
    "$$\n",
    "I_t = \\frac{1}{r_i}  \\frac{\\partial^2 V_i}{\\partial x^2}  = -\\frac{1}{r_e} \\frac{\\partial^2 V_e}{\\partial x^2}\n",
    "$$"
   ]
  },
  {
   "cell_type": "markdown",
   "metadata": {
    "slideshow": {
     "slide_type": "slide"
    }
   },
   "source": [
    "## Conservation of current (2)\n",
    "We now have the membrane current $I_t$ expressed in terms of\n",
    "$I_i,I_e$ (and $V_i,V_e$). \n",
    "\n",
    "We want a relation between the $I_t$ and the membrane\n",
    "potential $V$:\n",
    "\n",
    "$$\n",
    "\\frac{1}{r_e}  \\frac{\\partial^2 V_e}{\\partial x^2} =  - \\frac{1}{r_i}\n",
    "\\frac{\\partial^2 V_i}{\\partial x^2} =  - \\frac{1}{r_i} (  \\frac{\\partial^2 V}{\\partial x^2}+ \\frac{\\partial^2 V_e}{\\partial x^2})\n",
    "$$\n",
    "\n",
    "$$\n",
    "(\\frac{1}{r_e}+ \\frac{1}{r_i}) \\frac{\\partial^2 V_e}{\\partial x^2} =  - \\frac{1}{r_i}  \\frac{\\partial^2 V}{\\partial x^2}\n",
    "$$"
   ]
  },
  {
   "cell_type": "markdown",
   "metadata": {
    "slideshow": {
     "slide_type": "slide"
    }
   },
   "source": [
    "## Conservation of current (3)\n",
    "cont.\n",
    "\n",
    "$$\n",
    "(\\frac{1}{r_e}+ \\frac{1}{r_i}) \\frac{\\partial^2 V_e}{\\partial x^2} =  - \\frac{1}{r_i}  \\frac{\\partial^2 V}{\\partial x^2}\n",
    "$$\n",
    "\n",
    "$$\n",
    "\\frac{\\partial^2 V_e}{\\partial x^2} = - \\frac{ \\frac{1}{r_i} }{\\frac{1}{r_e}+ \\frac{1}{r_i}} \\frac{\\partial^2 V}{\\partial x^2} =-\\frac{r_e}{r_e+r_i}\\frac{\\partial^2 V}{\\partial x^2}\n",
    "$$\n",
    "\n",
    "so\n",
    "\n",
    "$$\n",
    "I_t = \\frac{\\partial I_e}{\\partial x} =  -  \\frac{1}{r_e}  \\frac{\\partial^2 V_e}{\\partial x^2}=   \\frac{1}{r_e+r_i}\\frac{\\partial^2 V}{\\partial x^2}\n",
    "$$"
   ]
  },
  {
   "cell_type": "markdown",
   "metadata": {
    "slideshow": {
     "slide_type": "slide"
    }
   },
   "source": [
    "## Incorporating cell membrane physiology\n",
    "From the membrane model previously derived we have\n",
    "\n",
    "$$\n",
    "I_t = p(C_m\\frac{\\partial V}{\\partial t}+I_{ion})\n",
    "$$\n",
    "\n",
    "where $p$ is the circumference of the cable.\n",
    "The total 1D cable model is then:\n",
    "\n",
    "$$\n",
    "p(C_m\\frac{\\partial V}{\\partial t} +I_{ion}(V))= (\\frac{1}{r_e+r_i} \\frac{\\partial^2 V}{\\partial x^2})\n",
    "$$"
   ]
  },
  {
   "cell_type": "markdown",
   "metadata": {
    "slideshow": {
     "slide_type": "slide"
    }
   },
   "source": [
    "## Physical units\n",
    "So far we have not considered the physical units of the terms. Typical\n",
    "units are\n",
    "\n",
    "<table border=\"1\">\n",
    "<thead>\n",
    "<tr><th align=\"left\">  Quantity </th> <th align=\"left\"> Dimension  </th> <th align=\"left\">  Typical unit  </th> </tr>\n",
    "</thead>\n",
    "<tbody>\n",
    "<tr><td align=\"right\">   $p$            </td> <td align=\"right\">   length          </td> <td align=\"right\">   $cm$                </td> </tr>\n",
    "<tr><td align=\"right\">   $C_m$          </td> <td align=\"right\">   capac./area     </td> <td align=\"right\">   $\\mu F/cm ^2$       </td> </tr>\n",
    "<tr><td align=\"right\">   V              </td> <td align=\"right\">   voltage         </td> <td align=\"right\">   $mV$                </td> </tr>\n",
    "<tr><td align=\"right\">   $I_{ion}$      </td> <td align=\"right\">   current/area    </td> <td align=\"right\">   $\\mu A/cm^2$        </td> </tr>\n",
    "<tr><td align=\"right\">   $r_i , r_e$    </td> <td align=\"right\">   res./length     </td> <td align=\"right\">   $10^3\\Omega /cm$    </td> </tr>\n",
    "<tr><td align=\"right\">   $x$            </td> <td align=\"right\">   length          </td> <td align=\"right\">   $cm$                </td> </tr>\n",
    "<tr><td align=\"right\">   $t$            </td> <td align=\"right\">   time            </td> <td align=\"right\">   $ms$                </td> </tr>\n",
    "</tbody>\n",
    "</table>"
   ]
  },
  {
   "cell_type": "markdown",
   "metadata": {
    "slideshow": {
     "slide_type": "slide"
    }
   },
   "source": [
    "## Exercise\n",
    "Verify that all the terms in the cable equation have the same physical\n",
    "units:\n",
    "\n",
    "$$\n",
    "p(C_m\\frac{\\partial V}{\\partial t} +I_{ion}(V))= (\\frac{1}{r_e+r_i} \\frac{\\partial^2 V}{\\partial x^2})\n",
    "$$\n",
    "\n",
    "<table border=\"1\">\n",
    "<thead>\n",
    "<tr><th align=\"left\">  Quantity </th> <th align=\"left\"> Dimension  </th> <th align=\"left\">  Typical unit  </th> </tr>\n",
    "</thead>\n",
    "<tbody>\n",
    "<tr><td align=\"right\">   $p$            </td> <td align=\"right\">   length          </td> <td align=\"right\">   $cm$                </td> </tr>\n",
    "<tr><td align=\"right\">   $C_m$          </td> <td align=\"right\">   capac./area     </td> <td align=\"right\">   $\\mu F/cm ^2$       </td> </tr>\n",
    "<tr><td align=\"right\">   V              </td> <td align=\"right\">   voltage         </td> <td align=\"right\">   $mV$                </td> </tr>\n",
    "<tr><td align=\"right\">   $I_{ion}$      </td> <td align=\"right\">   current/area    </td> <td align=\"right\">   $\\mu A/cm^2$        </td> </tr>\n",
    "<tr><td align=\"right\">   $r_i , r_e$    </td> <td align=\"right\">   res./length     </td> <td align=\"right\">   $10^3\\Omega /cm$    </td> </tr>\n",
    "<tr><td align=\"right\">   $x$            </td> <td align=\"right\">   length          </td> <td align=\"right\">   $cm$                </td> </tr>\n",
    "<tr><td align=\"right\">   $t$            </td> <td align=\"right\">   time            </td> <td align=\"right\">   $ms$                </td> </tr>\n",
    "</tbody>\n",
    "</table>\n",
    "What is the unit of the terms in the equation?"
   ]
  },
  {
   "cell_type": "markdown",
   "metadata": {
    "slideshow": {
     "slide_type": "slide"
    }
   },
   "source": [
    "## Scaling the cable equation (1)\n",
    "We can scale the variables to reduce the number of parameters.\n",
    "Define a membrane resistance:\n",
    "\n",
    "$$\n",
    "\\frac{1}{R_m} = \\frac{\\Delta I_{ion}}{\\Delta V}(V_0)\n",
    "$$\n",
    "\n",
    "where $V_0$ is the resting potential. Multiply with $R_m$ to get\n",
    "\n",
    "$$\n",
    "C_m R_m \\frac{\\partial V}{\\partial t} + R_m I_{ion}=\n",
    "\\frac{R_m}{p(r_i+r_e)}\\frac{\\partial^2 V}{\\partial x^2}\n",
    "$$\n",
    "\n",
    "Here we have assumed $r_i$ and $r_e$ constant."
   ]
  },
  {
   "cell_type": "markdown",
   "metadata": {
    "slideshow": {
     "slide_type": "slide"
    }
   },
   "source": [
    "## Scaling the cable equation (2)\n",
    "\n",
    "Defining  $f=-R_m I_{ion}$, $\\tau_m=C_m R_m$ (time constant)\n",
    "and $\\lambda_m^2 = R_m/(p(r_i+r_e))$ (space constant squared)\n",
    "we can write\n",
    "\n",
    "$$\n",
    "\\tau_m \\frac{\\partial V}{\\partial t} - f=\\lambda_m^2 \\frac{\\partial^2\n",
    "V}{\\partial x^2}\n",
    "$$"
   ]
  },
  {
   "cell_type": "markdown",
   "metadata": {
    "slideshow": {
     "slide_type": "slide"
    }
   },
   "source": [
    "## Scaling the cable equation (3)\n",
    "We introduce the dimensionless variables:\n",
    "\n",
    "$$\n",
    "T = t/\\tau_m, X = x/\\lambda_m\n",
    "$$\n",
    "\n",
    "We can then write:\n",
    "\n",
    "<!-- Equation labels as ordinary links -->\n",
    "<div id=\"scaled\"></div>\n",
    "\n",
    "$$\n",
    "\\frac{\\partial V}{\\partial T} = f + \\frac{\\partial^2 V}{\\partial X^2} \\label{scaled} \\tag{1}\n",
    "$$\n",
    "\n",
    "A solution $\\hat{V}(T,X)$ of ([1](#scaled)) implies that\n",
    "$V(t,x) = \\hat{V}(t/\\tau_m,x/\\lambda_m)$ will satisfy the unscaled\n",
    "equation.\n",
    "\n",
    "The scaled equation has units of voltage, but can easily be\n",
    "non-dimensionalized by introducing $V=V_0+\\bar{V}\\tilde{V}$, where\n",
    "$V_0$ is the resting membrane voltage, $\\bar{V}$ is a characteristic voltage, and $\\tilde{V}$ is a\n",
    "dimensionless variable."
   ]
  },
  {
   "cell_type": "markdown",
   "metadata": {
    "slideshow": {
     "slide_type": "slide"
    }
   },
   "source": [
    "## The reaction term\n",
    "\n",
    "* The form of $f$ depends on the cell type, or which part of the cell, we want to study.\n",
    "\n",
    "* For the axon $I_{ion}(m,n,h,V)$ of the HH-model is a good candidate.\n",
    "\n",
    "* For the dendrite, which is non-excitable, a linear resistance model is good:\n",
    "\n",
    "$$\n",
    "I_{ion} = \\frac{1}{R_m}(V-V_0)\n",
    "$$\n",
    "\n",
    "or in scaled form $f = -V$:\n",
    "\n",
    "$$\n",
    "\\frac{\\partial V}{\\partial T} = \\frac{\\partial^2 V}{\\partial X^2} - V\n",
    "$$"
   ]
  },
  {
   "cell_type": "markdown",
   "metadata": {
    "slideshow": {
     "slide_type": "slide"
    }
   },
   "source": [
    "## Boundary- and initial conditions (1)\n",
    "\n",
    "Initial condition examples: \n",
    "\n",
    "* Entire cable at rest: $V(X,0) = 0$\n",
    "\n",
    "* Partly activated (piecewise constant):\n",
    "$$\n",
    "V(X,0) = 0, x < x_0 \\\\\n",
    "V(X,0) = V_0, x > x_0 \n",
    "$$\n"
   ]
  },
  {
   "cell_type": "markdown",
   "metadata": {
    "slideshow": {
     "slide_type": "slide"
    }
   },
   "source": [
    "## Boundary- and initial conditions (2)\n",
    "\n",
    "Types of boundary conditions:\n",
    "\n",
    "  * Dirichlet: $V(x_b,T) = V_b$, voltage clamp.\n",
    "\n",
    "  * Neumann: $\\frac{\\partial V}{\\partial X} = -r_i \\lambda_m I$,  current injection.\n",
    "\n",
    "Justification:\n",
    "\n",
    "$$\n",
    "\\frac{\\partial V_i}{\\partial x}= -r_i I_i \\Rightarrow\n",
    "\\frac{\\partial V }{\\partial x} - \\frac{\\partial V_e}{\\partial x} = -r_i I_i\n",
    "\\stackrel{r_e=0}{\\Longrightarrow} \\frac{\\partial V }{\\partial x}= -r_i I_i\n",
    "$$"
   ]
  },
  {
   "cell_type": "markdown",
   "metadata": {
    "slideshow": {
     "slide_type": "slide"
    }
   },
   "source": [
    "## Passive conduction\n",
    "The linear cable in dimensionless form\n",
    "\n",
    "$$\n",
    "\\frac{\\partial V}{\\partial T} = \\frac{\\partial^2 V}{\\partial X^2} - V\n",
    "$$\n",
    "\n",
    "We consider a semi-infinite (i.e., long) cable with voltage clamped\n",
    "to a constant $V_c$ at $X = 0$. At steady state, we have\n",
    "\n",
    "$$\n",
    "\\frac{\\partial^2 V}{\\partial X^2} = V\n",
    "$$\n",
    "\n",
    "with solution\n",
    "\n",
    "$$\n",
    "V = V_c e^{-X} = V_c e^{-x/\\lambda_m}\n",
    "$$\n",
    "\n",
    "What does this tell you about how a signal decays along the cable? How\n",
    "strong is the signal one space constant from the source? How about ten\n",
    "space constants?"
   ]
  },
  {
   "cell_type": "markdown",
   "metadata": {
    "slideshow": {
     "slide_type": "slide"
    }
   },
   "source": [
    "## Exercise\n",
    "Remember the expression for the space constant:\n",
    "\n",
    "$$\n",
    "\\lambda_m = \\sqrt{R_m/(p(r_i +r_e))}\\approx\\sqrt{R_m/(p r_i)} = \\sqrt{R_m/(pR_c/A)},\n",
    "$$\n",
    "\n",
    "Assume a circular cross section with diameter $d$. Typical values for\n",
    "a mammalian neuron are $R_m = 7000\\Omega\n",
    "\\textrm{cm}^2, R_c = 150\\Omega \\textrm{cm}, d = 10.0\\mu m$\n",
    "\n",
    "Calculate the space constant $\\lambda_m$. How does it compare to the length of a\n",
    "human axon?"
   ]
  },
  {
   "cell_type": "markdown",
   "metadata": {
    "slideshow": {
     "slide_type": "slide"
    }
   },
   "source": [
    "## The bistable equation (1)\n",
    "The simplest model of active conduction in neuron is obtained by choosing the reaction term\n",
    "\n",
    "$$\n",
    "f(V)=AV(1-V)(V-\\alpha),\n",
    "$$\n",
    "\n",
    "where $\\alpha$ is a parameter between 0 and 1, and $A$ is a scaling parameter\n",
    "for the reaction term."
   ]
  },
  {
   "cell_type": "markdown",
   "metadata": {
    "slideshow": {
     "slide_type": "slide"
    }
   },
   "source": [
    "## The bistable equation (2)\n",
    "We have\n",
    "\n",
    "$$\n",
    "\\frac{\\partial V}{\\partial t} = \\frac{\\partial^2 V}{\\partial x^2} +AV(1-V)(V-\\alpha),\n",
    "$$\n",
    "\n",
    "and if we neglect the diffusion term we get\n",
    "$$\n",
    "\\frac{\\partial V}{\\partial t} = AV(1-V)(V -\\alpha).\n",
    "$$\n",
    "The right hand side has three zeros; $V = 0,V = 1,V = \\alpha$. These are\n",
    "equilibrium points for the equation ($\\partial V/\\partial t = 0$)."
   ]
  },
  {
   "cell_type": "markdown",
   "metadata": {
    "slideshow": {
     "slide_type": "slide"
    }
   },
   "source": [
    "## The bistable equation (3)\n",
    "\n",
    "<!-- dom:FIGURE: [./figs/cubic.png, width=300 frac=0.7] -->\n",
    "<!-- begin figure -->\n",
    "\n",
    "<p></p>\n",
    "<img src=\"./figs/cubic.png\" width=300>\n",
    "\n",
    "<!-- end figure -->\n",
    "\n",
    "\n",
    "Here $\\alpha = 0.5$. What happens if the solution is perturbed away from the\n",
    "three equilibrium points $V = 0, V = 1, V = \\alpha$? (Recall that $dV/dt = f(V)$)"
   ]
  },
  {
   "cell_type": "markdown",
   "metadata": {
    "slideshow": {
     "slide_type": "slide"
    }
   },
   "source": [
    "## The bistable equation (4)\n",
    "* The equation has one unstable and two stable equilibrium points\n",
    "\n",
    "* Any initial condition $V < \\alpha$ will approach $V = 0$\n",
    "\n",
    "* Any initial condition $V > \\alpha$ will approach $V = 1$\n",
    "\n",
    "\n",
    "\n",
    "In 1D (with diffusion), the solution is a traveling front."
   ]
  },
  {
   "cell_type": "markdown",
   "metadata": {
    "slideshow": {
     "slide_type": "slide"
    }
   },
   "source": [
    "## The FitzHugh-Nagumo model (1)\n",
    "* The bistable equation describes a traveling front, but never returns to the resting potential\n",
    "\n",
    "* To describe a propagating action potential we need to add a *recovery variable*\n",
    "\n",
    "* The result is the FitzHugh-Nagumo (FHN) model, the simplest model for qualitatively realistic propagation in excitable cells\n",
    "\n",
    "$$\n",
    "\\begin{align*}\n",
    "\\frac{\\partial V}{\\partial t} &= \\frac{\\partial^2 V}{\\partial x^2}\n",
    "+ AV(1-V)(V-\\alpha) - w, \\\\\n",
    "\\frac{\\partial w}{\\partial t} &= \\epsilon (V-\\gamma w),\n",
    "\\end{align*}\n",
    "$$\n",
    "\n",
    "with $\\epsilon,\\gamma >0$ and $w(0,x) = 0$."
   ]
  },
  {
   "cell_type": "markdown",
   "metadata": {
    "slideshow": {
     "slide_type": "slide"
    }
   },
   "source": [
    "## The FitzHugh-Nagumo model (2)\n",
    "Again, we can examine the behavior of the model by neglecting\n",
    "diffusion:\n",
    "\n",
    "$$\n",
    "\\begin{align*}\n",
    "\\frac{\\partial V}{\\partial t} &= AV(1-V)(V-\\alpha) - w, \\\\\n",
    "\\frac{\\partial w}{\\partial t} &= \\epsilon (V-\\gamma w),\n",
    "\\end{align*}\n",
    "$$\n",
    "\n",
    "* Initially, the model behaves as the bistable equation\n",
    "\n",
    "* As $V$ increases, $\\frac{\\partial w}{\\partial t} >0$\n",
    "\n",
    "* $w > 0 $ will \"pull\" $V$ back towards $V= 0$\n",
    "\n",
    "* In 1D, the solution is a traveling wave resembling an action potential"
   ]
  },
  {
   "cell_type": "markdown",
   "metadata": {
    "slideshow": {
     "slide_type": "slide"
    }
   },
   "source": [
    "## Summary\n",
    " * The cable equation describes signal propagation in *leaky* cables\n",
    "\n",
    " * 1D reaction-diffusion equation, the form of the reaction term depends on the application (properties of the membrane):\n",
    "\n",
    "   * Linear; passive membrane\n",
    "\n",
    "   * Cubic; bistable equation (propagating front)\n",
    "\n",
    "   * FHN; coupled to ODE (propagating AP)\n",
    "\n",
    "   * Hodgkin-Huxley, cardiac cell models, etc..."
   ]
  }
 ],
 "metadata": {
  "celltoolbar": "Slideshow",
  "kernelspec": {
   "display_name": "Python 3 (ipykernel)",
   "language": "python",
   "name": "python3"
  },
  "language_info": {
   "codemirror_mode": {
    "name": "ipython",
    "version": 3
   },
   "file_extension": ".py",
   "mimetype": "text/x-python",
   "name": "python",
   "nbconvert_exporter": "python",
   "pygments_lexer": "ipython3",
   "version": "3.9.7"
  }
 },
 "nbformat": 4,
 "nbformat_minor": 4
}
