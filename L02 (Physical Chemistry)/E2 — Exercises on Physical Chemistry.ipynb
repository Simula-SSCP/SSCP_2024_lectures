{
 "cells": [
  {
   "cell_type": "markdown",
   "metadata": {},
   "source": [
    "# E2 — Exercises on Physical Chemistry\n",
    "\n",
    "This notebook contains interactive exercises related to the L2 session on physical chemistry. The theory related to these exercises is covered in the lecture notes, which you can find here:\n",
    "* [L2 — Overview of Physical Chemistry and the Cell Membrane](L2%20—%20Overview%20of%20Physical%20Chemistry.ipynb)\n",
    "\n",
    "The notebook contains the following example and exercises (you can click the links)\n",
    "* [Example: Modeling a reaction with the Law of Mass Action](#mass_action)\n",
    "* [Exercise 1: Modeling a Two-way Reaction to Understand Equilibrium](#equilibrium)\n",
    "* [Exercise 2: Modeling Michelis-Menten Kinetics](#kinetics)"
   ]
  },
  {
   "cell_type": "markdown",
   "metadata": {},
   "source": [
    "<a id=\"mass_action\"></a>\n",
    "## Example 1: Modeling a unidirectional chemical reaction"
   ]
  },
  {
   "cell_type": "markdown",
   "metadata": {},
   "source": [
    "In this example we are looking at the unidirectional binding reaction\n",
    "\n",
    "\\begin{equation}\n",
    "\\mathrm{Mb} + \\mathrm{O_2} \\overset{k}{\\longrightarrow} \\mathrm{MbO_2}.\n",
    "\\end{equation}\n",
    "\n",
    "As explained in the lecture notes, this leads to the following set of three ordinary differential equations (ODEs)\n",
    "\n",
    "\\begin{equation}\n",
    "\\frac{\\mathrm{d[MbO_2]}}{\\mathrm{d}t} = k\\mathrm{[Mb][O_2]}, \\qquad \\frac{\\mathrm{d [Mb]}}{\\mathrm{d}t} = -k\\mathrm{[Mb]}\\mathrm{[O_2]}, \\qquad \\frac{\\mathrm{d [O_2]}}{\\mathrm{d}t} = -k\\mathrm{[Mb]}\\mathrm{[O_2]}.\n",
    "\\end{equation}\n",
    "\n",
    "We will now solve these equations numerically. Shortly you will repeat this exercise for the *reversible* reaction, so this serves as an example that you can copy."
   ]
  },
  {
   "cell_type": "markdown",
   "metadata": {},
   "source": [
    "#### Initial Value Problems\n",
    "\n",
    "Solving these ODEs is an example of what we call an *initial value problem*. And we will use the function [`scipy.integrate.solve_ivp`](https://docs.scipy.org/doc/scipy/reference/generated/scipy.integrate.solve_ivp.html) to solve this problem numerically. It's not too technical to implement our own solver, but that is not really the main focus of this session, and so we rely on this existing solver.\n",
    "\n",
    "However, if you have never solved ODEs numerically before, it can be helpful to learn a bit more about the process in detail. In that case we recommend the (short) open-access book [*Finite Difference Computing with Exponential Decay Models*](http://www.springer.com/us/book/9783319294384) by Professor Hans Petter Langtangen. It is an easy to understand, but quite thorough introduction to these kinds of numerical solvers. It mainly focuses on exponential decay, which is *very* relevant to our course, and even has a sub-chapter on chemical reactions.\n",
    "\n",
    "#### Explanation of `solve_ivp`\n",
    "\n",
    "For the function `solve_ivp` to be able to solve our problem, we need to supply a set of inputs:\n",
    "1. The ODE system itself, i.e., the equations\n",
    "2. The *initial values* of each state\n",
    "3. Which time interval to solve for\n",
    "\n",
    "To specify the ODE equations themselves, we implement them as a Python function. More specifically, we write out the derivatives of the system as a vector equation on the form\n",
    "\n",
    "$$\\frac{{\\rm d}\\vec{y}}{{\\rm d}t} = \\vec{f}(t, {\\vec y}).$$\n",
    "\n",
    "Here $y$ is a vector that contains all the *state variables* of your system. The states are the quantities which you are modeling, in our case, the three concentrations. The function $f$ thus represents what we call the *right hand side* of the ODEs, and so often one uses the short-hand RHS as well. Note that the RHS function also takes in the time $t$, this can be a bit confusing - so we will explain this a bit more in detail shortly.\n",
    "\n",
    "In our example, it would for example be\n",
    "\n",
    "$$\\vec{y} = (\\mathrm{[MbO_2]}, \\mathrm{[Mb]}, \\mathrm{[O_2]}).$$\n",
    "\n",
    "In addition, the function $f$ takes in the time $t$.\n",
    "\n",
    "The function $\\vec{f}$ should now represent the right-hand side of the ODE-system, i.e., the derivative of each state in the system. In our case, this would be\n",
    "\n",
    "$$\\vec{f}(t, \\vec{y}) = \\bigg(\\frac{\\mathrm{d [Mb O_2]}}{\\mathrm{d}t}, \\frac{\\mathrm{d [Mb]}}{\\mathrm{d}t},  \\frac{\\mathrm{d [O_2]}}{\\mathrm{d}t}\\bigg).$$\n",
    "\n",
    "Note that the order you list the states is not important, but it **is** important that the order you place them in is the same for the vector $y$ and the RHS - i.e., be consistent with your ordering.\n",
    "\n",
    "Let us implement this RHS function"
   ]
  },
  {
   "cell_type": "markdown",
   "metadata": {},
   "source": [
    "#### Implementing the RHS"
   ]
  },
  {
   "cell_type": "code",
   "execution_count": 1,
   "metadata": {},
   "outputs": [],
   "source": [
    "# Import necessary packages\n",
    "import numpy as np\n",
    "import matplotlib.pyplot as plt\n",
    "from scipy.integrate import solve_ivp"
   ]
  },
  {
   "cell_type": "code",
   "execution_count": 2,
   "metadata": {},
   "outputs": [],
   "source": [
    "# Implement the right-hand-side of the system as a function\n",
    "def rhs(t, y, k):\n",
    "    # Unpack the state vector to make it easier to write neat code\n",
    "    MbO2, Mb, O2 = y\n",
    "\n",
    "    # Formulate derivatives\n",
    "    dMbO2_dt = k*Mb*O2\n",
    "    dMb_dt = -k*Mb*O2\n",
    "    dO2_dt = -k*Mb*O2\n",
    "    \n",
    "    # Return derivatives as a vector\n",
    "    return (dMbO2_dt, dMb_dt, dO2_dt)"
   ]
  },
  {
   "cell_type": "markdown",
   "metadata": {},
   "source": [
    "Note that the function *needs* to take in a time as its first argument at the state vector, $y$, as its second. This is the only way the `solve_ivp` function will work. You might find this confusing, as our ODEs don't actually depend on $t$ explicitly. However, a *general* ODE might, and `solve_ivp` is designed to work with a general system of ODEs, so this is the way it works.\n",
    "\n",
    "Note that we can also add as many model parameters we want as additional arguments."
   ]
  },
  {
   "cell_type": "markdown",
   "metadata": {},
   "source": [
    "#### Calling `solve_ivp`\n",
    "\n",
    "Next we need to define what time-interval to solve for. We can do this by creating a tuple of the start and finish time, for instance, if we want to solve for $t\\in [0, 5]$, we can do"
   ]
  },
  {
   "cell_type": "code",
   "execution_count": 3,
   "metadata": {},
   "outputs": [],
   "source": [
    "# Define what time-interval to solve for\n",
    "time = (0, 3)"
   ]
  },
  {
   "cell_type": "markdown",
   "metadata": {},
   "source": [
    "Next we define the initial conditions as a vector, typically called $\\vec{y}_0$. The ordering of the states will be the same as we defined the RHS, i.e., (MbO$_2$, Mb, O$_2$)."
   ]
  },
  {
   "cell_type": "code",
   "execution_count": 4,
   "metadata": {},
   "outputs": [],
   "source": [
    "# Define the initial condition\n",
    "y0 = (0.0, 2.2, 5.4)"
   ]
  },
  {
   "cell_type": "markdown",
   "metadata": {},
   "source": [
    "Next we should define any model parameters needed to actually compute the problem. In this case we only have the rate constant $k$, but let us do it in a manner where it can be easily increased to more parameters (some of the later models in this course will have dozens, if not hundreds, of adjustable parameters)."
   ]
  },
  {
   "cell_type": "code",
   "execution_count": 5,
   "metadata": {},
   "outputs": [],
   "source": [
    "# Define any model parameters\n",
    "k = 1.7\n",
    "params = (k,)"
   ]
  },
  {
   "cell_type": "markdown",
   "metadata": {},
   "source": [
    "Here `params` becomes a vector of model parameters. Note that the final comma is actually needed to turn it into a vector when we only have a single element in there.\n",
    "\n",
    "Now we are ready to call `solve_ivp`. Here we go"
   ]
  },
  {
   "cell_type": "code",
   "execution_count": 6,
   "metadata": {},
   "outputs": [],
   "source": [
    "# Call the ODE solver\n",
    "solution = solve_ivp(rhs, time, y0, args=params)"
   ]
  },
  {
   "cell_type": "markdown",
   "metadata": {},
   "source": [
    "Note that we send in the parameters as an optional keyword-argument called `args`. This looks a bit technical, but is again just because we want to show you how it can be done for larger systems. You can easily avoid the whole `params` and `args` parts of the code by simply defining the $k$ parameter inside the RHS function, or as a global parameter. That works just fine for smaller models, but can get a bit messy for larger ones."
   ]
  },
  {
   "cell_type": "markdown",
   "metadata": {},
   "source": [
    "The `solution` object which is returned from `solve_ivp` is a so-called \"bunch\" object in Python. This is a variable with plenty of properties we can read out. You can try simply `printing` it, but that isn't super useful. Let us instead read out the solutions and plot them."
   ]
  },
  {
   "cell_type": "code",
   "execution_count": 7,
   "metadata": {},
   "outputs": [
    {
     "name": "stdout",
     "output_type": "stream",
     "text": [
      "The t variable is now a (20,) vector\n",
      "The y variable is now a (3, 20) vector\n"
     ]
    }
   ],
   "source": [
    "# We can extract a time array and the solutions of the state vectors over time\n",
    "t = solution.t\n",
    "y = solution.y\n",
    "\n",
    "print(f\"The t variable is now a {t.shape} vector\")\n",
    "print(f\"The y variable is now a {y.shape} vector\")"
   ]
  },
  {
   "cell_type": "markdown",
   "metadata": {},
   "source": [
    "The $t$-vector contains the time points at which the solution has been computed, and the $y$-vector contains the value of the each state variable for each time point. It is often useful to split the $y$-vector into vectors for each state, unless you love working with multi-dimensional numpy-arrays."
   ]
  },
  {
   "cell_type": "code",
   "execution_count": 8,
   "metadata": {},
   "outputs": [
    {
     "name": "stdout",
     "output_type": "stream",
     "text": [
      "Each state variable (e.g., MbO2) is now shape (20,)\n"
     ]
    }
   ],
   "source": [
    "# Split up into individual states\n",
    "Mb, O2, MbO2 = y\n",
    "\n",
    "print(f\"Each state variable (e.g., MbO2) is now shape {MbO2.shape}\")"
   ]
  },
  {
   "cell_type": "code",
   "execution_count": 9,
   "metadata": {},
   "outputs": [
    {
     "data": {
      "image/png": "[encoded data removed]",
      "text/plain": [
       "<Figure size 432x288 with 1 Axes>"
      ]
     },
     "metadata": {
      "needs_background": "light"
     },
     "output_type": "display_data"
    }
   ],
   "source": [
    "plt.plot(t, Mb, label='Myoglobin')\n",
    "plt.plot(t, O2, label='Oxygen')\n",
    "plt.plot(t, MbO2, label='Oxymyoglobin')\n",
    "\n",
    "plt.xlabel('Time')\n",
    "plt.ylabel('Concentrations')\n",
    "plt.legend()\n",
    "plt.show()"
   ]
  },
  {
   "cell_type": "markdown",
   "metadata": {},
   "source": [
    "Note that we only specify for what time interval we want to solve the equations, and `solve_ivp` gets to decide what time points to actually use. It is an adaptive solver, meaning it can increase or decrease the actual time step as it sees fit. However, some care really needs to be taken here. Later in the course you will learn about ion channels and channel *gating*. Put simply, due to this gating, the ODE systems we set up will be *incredibly* stiff, meaning they can change in nature very rapidly. An adaptive solver is quite notorious at struggling with such equations, and so we should add an optional argument to force `solve_ivp` to be more careful. We can use the argument `max_step`, which sets the maximal allowable time step."
   ]
  },
  {
   "cell_type": "code",
   "execution_count": 10,
   "metadata": {},
   "outputs": [
    {
     "name": "stdout",
     "output_type": "stream",
     "text": [
      "The t variable is now a (304,) vector\n",
      "The y variable is now a (3, 304) vector\n"
     ]
    }
   ],
   "source": [
    "solution = solve_ivp(rhs, time, y0, args=params, max_step=0.01)\n",
    "\n",
    "# We can extract a time array and the solutions of the state vectors over time\n",
    "t = solution.t\n",
    "y = solution.y\n",
    "\n",
    "print(f\"The t variable is now a {t.shape} vector\")\n",
    "print(f\"The y variable is now a {y.shape} vector\")"
   ]
  },
  {
   "cell_type": "markdown",
   "metadata": {},
   "source": [
    "If you compare this output to our earlier solution, you will see that earlier we got 20 time points, while now we have 304. So adding the `max_step` we force the solver to take smaller steps, meaning we get a finer resolution on our time grid. The solver is still technically *adaptive*, so the actual time points it gives out don't have to be regularly spaced. If you want to force it to give a regularly spaced solution, look into the `t_eval` option, which explicitly states which time points the solutions should be given at. For instance you could do (`t_eval=np.linspace(0, 5, 101)`) to get uniformly spaced time points between $t=0$ and $t=5$, with a spacing of $\\Delta t = 5/100 = 0.05$."
   ]
  },
  {
   "cell_type": "markdown",
   "metadata": {},
   "source": [
    "<a id=\"equilibrium\"></a>\n",
    "## Exercise 1: Modeling a Reversible Reaction to Understand Equilibrium\n",
    "\n",
    "In the previous example, we showed you have to solve the unidirectional binding reaction. Now you will go through the same steps for the reversible reaction.\n",
    "\n",
    "$$\\mathrm{Mb} + \\mathrm{O_2} \\underset{k_-}{\\overset{k_+}{\\rightleftharpoons}} \\mathrm{MbO_2}.$$\n",
    "\n",
    "As we expect a lot of people to still be quite new to Python, we have given you some skeleton code below that you can fill into. But if you prefer you can of course implement everything from scratch."
   ]
  },
  {
   "cell_type": "code",
   "execution_count": null,
   "metadata": {},
   "outputs": [],
   "source": [
    "import numpy as np\n",
    "import matplotlib.pyplot as plt\n",
    "from scipy.integrate import solve_ivp"
   ]
  },
  {
   "cell_type": "markdown",
   "metadata": {},
   "source": [
    "**Exercise 1a) Writing out the ODEs**\n",
    "\n",
    "(Use pen and paper)\n",
    "\n",
    "Using the law of mass action, find and write out the system of ODEs describing the reaction.\n",
    "\n",
    "$$\n",
    "\\frac{\\rm d [MbO_2]}{{\\rm d}t} = \\ldots, \\qquad\n",
    "\\frac{\\rm d [Mb]}{{\\rm d}t} = \\ldots, \\qquad\n",
    "\\frac{\\rm d [O_2]}{{\\rm d}t} = \\ldots\n",
    ".$$\n"
   ]
  },
  {
   "cell_type": "markdown",
   "metadata": {},
   "source": [
    "**Exercise 1b) Defining the RHS function**\n",
    "\n",
    "Fill in the code below to define the RHS of the ODE-system as a Python function."
   ]
  },
  {
   "cell_type": "code",
   "execution_count": null,
   "metadata": {},
   "outputs": [],
   "source": [
    "def rhs(t, y, kp, km):\n",
    "    # Unpack state vector\n",
    "    MbO2, Mb, O2 = y\n",
    "            \n",
    "    # Compute derivatives\n",
    "    dMb_dt = ...\n",
    "    dO2_dt = ...\n",
    "    dMbO2_dt = ...\n",
    "    \n",
    "    # Return RHS as sequence\n",
    "    return (dMbO2_dt, dMb_dt, dO2_dt)"
   ]
  },
  {
   "cell_type": "markdown",
   "metadata": {},
   "source": [
    "**Exercise 1c) Calling `solve_ivp`**\n",
    "\n",
    "Use `scipy.integrate.solve_ivp` to solve the system by filling in the code cell below. Make up some reasonable parameters and initial conditions."
   ]
  },
  {
   "cell_type": "code",
   "execution_count": null,
   "metadata": {},
   "outputs": [],
   "source": [
    "# Define time span\n",
    "time = (..., ...)\n",
    "\n",
    "# Define initial condition vector\n",
    "y0 = (..., ..., ...)\n",
    "\n",
    "# Define parameter vector\n",
    "kp = ...\n",
    "km = ...\n",
    "params = (kp, km)\n",
    "\n",
    "# Call the ODE solver\n",
    "solution = solve_ivp(..., ..., ..., args=..., max_step=...)"
   ]
  },
  {
   "cell_type": "markdown",
   "metadata": {},
   "source": [
    "#### Exercise 1d) Plotting the solutions\n",
    "\n",
    "Plot the solutions you just computed by filling in code below. "
   ]
  },
  {
   "cell_type": "code",
   "execution_count": null,
   "metadata": {},
   "outputs": [],
   "source": [
    "# Split up the solution matrix\n",
    "t = solution.t\n",
    "_, _, _ = solution.y\n",
    "\n",
    "# Plot the solutions\n",
    "plt.plot(t, ..., label=...)\n",
    "plt.plot(t, ..., label=...)\n",
    "plt.plot(t, ..., label=...)\n",
    "\n",
    "# Prettify the figure\n",
    "plt.xlabel(...)\n",
    "plt.ylabel(...)\n",
    "plt.legend()\n",
    "\n",
    "# Display the figure\n",
    "plt.show()"
   ]
  },
  {
   "cell_type": "markdown",
   "metadata": {},
   "source": [
    "**Exercise 1e) Checking whether the system is in equilibrium**\n",
    "\n",
    "From the law of mass action, we found an equilibrium condition for the system\n",
    "\n",
    "$$\\frac{[\\mathrm{Mb}][\\mathrm{O_2}]}{[\\mathrm{MbO_2}]} = \\frac{k_-}{k_+} = K_{\\rm d}.$$\n",
    "\n",
    "From the parameters you chose, do the following\n",
    "* Compute $K_d$ from your chosen $k_-$ and $k_+$ values and print it out\n",
    "* Find the values of the three concentrations at your final time point and compute their ratio\n",
    "* Compare the two numbers, is the simulation at equilibrium at the final time point?\n",
    "\n",
    "Hint: You can index sequences in Python from their end by using negative indices, so `t[-1]` would be the last element of the `t` array, `t[-2]` would be the second to last, and so on."
   ]
  },
  {
   "cell_type": "code",
   "execution_count": null,
   "metadata": {},
   "outputs": [],
   "source": [
    "# Fill in code"
   ]
  },
  {
   "cell_type": "markdown",
   "metadata": {},
   "source": [
    "<a id='kinetics'></a>\n",
    "## Exercise 2: Modeling Michaelis-Menten Kinetics\n",
    "\n",
    "Let us model the Michaelis-Menten reaction and analyse the behavior\n",
    "\n",
    "$${\\rm S} + {\\rm E} \\underset{k_{-1}}{\\overset{k_1}{\\rightleftharpoons}} {\\rm ES} \\overset{k_2}{\\rightarrow} {\\rm E} + {\\rm P}.$$\n",
    "\n",
    "**Exercise 2a) Write out the ODEs**\n",
    "\n",
    "(Use pen and paper).\n",
    "\n",
    "Using the law of mass action, write out the system of ODEs that describe the four concentrations of the system\n",
    "\n",
    "$$\n",
    "\\frac{\\rm d[S]}{{\\rm d}t} = \\ldots, \\qquad\n",
    "\\frac{\\rm d[E]}{{\\rm d}t} = \\ldots, \\qquad\n",
    "\\frac{\\rm d[ES]}{{\\rm d}t} = \\ldots, \\qquad\n",
    "\\frac{\\rm d[P]}{{\\rm d}t} = \\ldots\n",
    "$$\n",
    "\n",
    "**Exercise 2b) Define the RHS function in Python**\n",
    "\n",
    "Fill in the code below to define the RHS of the system"
   ]
  },
  {
   "cell_type": "code",
   "execution_count": null,
   "metadata": {},
   "outputs": [],
   "source": [
    "import numpy as np\n",
    "import matplotlib.pyplot as plt\n",
    "from scipy.integrate import solve_ivp"
   ]
  },
  {
   "cell_type": "code",
   "execution_count": null,
   "metadata": {},
   "outputs": [],
   "source": [
    "def rhs(t, y, k1p, k1m, k2):\n",
    "    # Unpack the states\n",
    "    S, E, ES, P = y\n",
    "    \n",
    "    # Compute derivatives\n",
    "    dS_dt = ...\n",
    "    dE_dt = ...\n",
    "    dES_dt = ...\n",
    "    dP_dt = ...\n",
    "    \n",
    "    # Return RHS as sequence\n",
    "    return (dS_dt, dE_dt, dES_dt, dP_dt)"
   ]
  },
  {
   "cell_type": "markdown",
   "metadata": {},
   "source": [
    "**Exercise 2c) Call `solve_ivp`**\n",
    "\n",
    "Solve the system with the rates $k_{-1} = 1$, $k_1 = 2$, $k_2 = 3$. Let $[{\\rm S}]_0 = 1$ and $[{\\rm E}]_0 = 0.1$. Solve the system for $t\\in[0, 30]$."
   ]
  },
  {
   "cell_type": "code",
   "execution_count": null,
   "metadata": {},
   "outputs": [],
   "source": [
    "# Define time vector\n",
    "time = (..., ...)\n",
    "\n",
    "# Define initial condition vector\n",
    "y0 = (..., ..., ..., ...)\n",
    "\n",
    "# Define parameter vector\n",
    "k1p = ...\n",
    "k1m = ...\n",
    "k2 = ...\n",
    "params = (k1p, k1m, k2)\n",
    "\n",
    "# Call the ODE solver\n",
    "solution = solve_ivp(rhs, time, y0, args=params, max_step=0.1)"
   ]
  },
  {
   "cell_type": "markdown",
   "metadata": {},
   "source": [
    "**Exercise 2d) Plotting the solutions**\n",
    "\n",
    "Now make two plots:\n",
    "1. A plot of the substrate S and the product P\n",
    "2. A plot of bound and free enzyme, SE and E\n",
    "\n",
    "Explain the time evolution of the different concentrations."
   ]
  },
  {
   "cell_type": "code",
   "execution_count": null,
   "metadata": {},
   "outputs": [],
   "source": [
    "# Extract solution arrays\n",
    "t = solution.t\n",
    "S, E, ES, P = solution.y"
   ]
  },
  {
   "cell_type": "code",
   "execution_count": null,
   "metadata": {},
   "outputs": [],
   "source": [
    "# Plot 1\n",
    "plt.plot(..., ... , label=\"...\")\n",
    "plt.plot(..., ... , label=\"...\")\n",
    "plt.xlabel(\"...\")\n",
    "plt.ylabel(\"...\")\n",
    "plt.legend()\n",
    "plt.show()"
   ]
  },
  {
   "cell_type": "code",
   "execution_count": null,
   "metadata": {},
   "outputs": [],
   "source": [
    "# Plot 2\n",
    "..."
   ]
  },
  {
   "cell_type": "markdown",
   "metadata": {},
   "source": [
    "**Exercise 2e) Verify mass conservation**\n",
    "\n",
    "As a verification, let us make sure our solution is mass conserving. The following two quantities should be constant throughout the simulation:\n",
    "1. The total amount of enzyme $[\\rm E] + [\\rm ES]$\n",
    "2. The sum of substrate and product: $[\\rm S] + [\\rm ES] + [\\rm P]$\n",
    "\n",
    "First discuss with your nearest neighbor *why* this should be the case. Then plot these curves and ensure that they are indeed constant. If they are not, go back and try to find your error."
   ]
  },
  {
   "cell_type": "code",
   "execution_count": null,
   "metadata": {},
   "outputs": [],
   "source": [
    "# Plot E + ES\n",
    "plt.plot(..., ...)\n",
    "\n",
    "# Plot S + ES + P\n",
    "plt.plot(..., ...)\n",
    "\n",
    "# Prettify the plot\n",
    "...\n",
    "\n",
    "plt.show()"
   ]
  },
  {
   "cell_type": "markdown",
   "metadata": {},
   "source": [
    "**Exercise 2f) Comparing numerical results to the Michaelis-Menten equation**\n",
    "\n",
    "The Michaelis-Menten gives the reaction velocity of the enzyme activity as\n",
    "\n",
    "$$v = v_{\\rm max} \\frac{[S]}{K_m + [S]}, \\qquad v_{\\rm max} = k_2 [E]_{\\rm tot}, \\qquad K_m = \\frac{k_{-1} + k_2}{k_1}.$$\n",
    "\n",
    "In your code, you have not computed the reaction velocity itself, but recall that this is given by\n",
    "\n",
    "$$[\\dot{\\rm P}] = k_2[{\\rm ES}].$$\n",
    "\n",
    "Plot the reaction velocity of your simulation and the reaction velocity predicted by the Michaelis-Menten equation in the same figure. Are the two different?"
   ]
  },
  {
   "cell_type": "code",
   "execution_count": null,
   "metadata": {},
   "outputs": [],
   "source": [
    "# Fill in your code here"
   ]
  },
  {
   "cell_type": "markdown",
   "metadata": {},
   "source": [
    "**Exercise 2g) Explaining the difference**\n",
    "\n",
    "If you have programmed everything correctly, the two solutions should be slightly different. Explain why. \n",
    "\n",
    "**Hint:** What assumptions did we make when deriving the Michaelis-Menten equation?"
   ]
  }
 ],
 "metadata": {
  "kernelspec": {
   "display_name": "Python 3 (ipykernel)",
   "language": "python",
   "name": "python3"
  },
  "language_info": {
   "codemirror_mode": {
    "name": "ipython",
    "version": 3
   },
   "file_extension": ".py",
   "mimetype": "text/x-python",
   "name": "python",
   "nbconvert_exporter": "python",
   "pygments_lexer": "ipython3",
   "version": "3.9.7"
  }
 },
 "nbformat": 4,
 "nbformat_minor": 2
}
